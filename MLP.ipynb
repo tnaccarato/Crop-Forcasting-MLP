{
 "cells": [
  {
   "cell_type": "markdown",
   "source": [
    "# Importing Libraries\n",
    "\n",
    "Import the necessary libraries for the project such as pandas, numpy, matplotlib, pytorch and sklearn."
   ],
   "metadata": {
    "collapsed": false
   },
   "id": "fa02f743db731c57"
  },
  {
   "cell_type": "code",
   "execution_count": 1,
   "id": "30862d6a3698f9d1",
   "metadata": {
    "collapsed": false,
    "ExecuteTime": {
     "end_time": "2024-03-29T05:35:31.939817Z",
     "start_time": "2024-03-29T05:35:28.734594Z"
    }
   },
   "outputs": [],
   "source": [
    "import pandas as pd\n",
    "import numpy as np\n",
    "import matplotlib.pyplot as plt\n",
    "import torch as pyt\n",
    "import sklearn as sk\n",
    "from IPython import display"
   ]
  },
  {
   "cell_type": "markdown",
   "source": [
    "# Loading the Data\n",
    "\n",
    "Load the data from the csv file and display the first 5 rows of the data."
   ],
   "metadata": {
    "collapsed": false
   },
   "id": "89c8639551d1c89f"
  },
  {
   "cell_type": "code",
   "outputs": [],
   "source": [
    "from IPython.display import display\n",
    "\n",
    "# Reading Consumer prices indicators data\n",
    "consumer_prices_indicators = pd.read_csv('Data/Consumer prices indicators - FAOSTAT_data_en_2-22-2024.csv')\n",
    "display(consumer_prices_indicators.head())\n",
    "display(consumer_prices_indicators.describe())\n",
    "\n",
    "# Reading Crops production indicators data\n",
    "crops_production_indicators = pd.read_csv('Data/Crops production indicators - FAOSTAT_data_en_2-22-2024.csv')\n",
    "display(crops_production_indicators.head())\n",
    "display(consumer_prices_indicators.describe())\n",
    "\n",
    "# Reading Emissions data\n",
    "emissions = pd.read_csv('Data/Emissions - FAOSTAT_data_en_2-27-2024.csv')\n",
    "display(emissions.head())\n",
    "display(emissions.describe())\n",
    "\n",
    "# Reading Employment data\n",
    "employment = pd.read_csv('Data/Employment - FAOSTAT_data_en_2-27-2024.csv')\n",
    "display(employment.head())\n",
    "display(employment.describe())\n",
    "\n",
    "# Reading Exchange rate data\n",
    "exchange_rate = pd.read_csv('Data/Exchange rate - FAOSTAT_data_en_2-22-2024.csv')\n",
    "display(exchange_rate.head())\n",
    "display(exchange_rate.describe())\n",
    "\n",
    "# Reading Fertilizers use data\n",
    "fertilizers_use = pd.read_csv('Data/Fertilizers use - FAOSTAT_data_en_2-27-2024.csv')\n",
    "display(fertilizers_use.head())\n",
    "display(fertilizers_use.describe())\n",
    "\n",
    "# Reading Food balances indicators data\n",
    "food_balances_indicators = pd.read_csv('Data/Food balances indicators - FAOSTAT_data_en_2-22-2024.csv')\n",
    "display(food_balances_indicators.head())\n",
    "display(food_balances_indicators.describe())\n",
    "\n",
    "# Reading Food security indicators data\n",
    "food_security_indicators = pd.read_csv('Data/Food security indicators  - FAOSTAT_data_en_2-22-2024.csv')\n",
    "display(food_security_indicators.head())\n",
    "display(food_security_indicators.describe())\n",
    "\n",
    "# Reading Food trade indicators data\n",
    "food_trade_indicators = pd.read_csv('Data/Food trade indicators - FAOSTAT_data_en_2-22-2024.csv')\n",
    "display(food_trade_indicators.head())\n",
    "display(food_trade_indicators.describe())\n",
    "\n",
    "# Reading Foreign direct investment data\n",
    "foreign_direct_investment = pd.read_csv('Data/Foreign direct investment - FAOSTAT_data_en_2-27-2024.csv')\n",
    "display(foreign_direct_investment.head())\n",
    "display(foreign_direct_investment.describe())\n",
    "\n",
    "# Reading Land temperature change data\n",
    "land_temperature_change = pd.read_csv('Data/Land temperature change - FAOSTAT_data_en_2-27-2024.csv')\n",
    "display(land_temperature_change.head())\n",
    "display(land_temperature_change.describe())\n",
    "\n",
    "# Reading Land use data\n",
    "land_use = pd.read_csv('Data/Land use - FAOSTAT_data_en_2-22-2024.csv', low_memory=False)\n",
    "display(land_use.head())\n",
    "display(land_use.describe())\n",
    "\n",
    "# Reading Pesticides use data\n",
    "pesticides_use = pd.read_csv('Data/Pesticides use - FAOSTAT_data_en_2-27-2024.csv')\n",
    "display(pesticides_use.head())\n",
    "display(pesticides_use.describe())\n"
   ],
   "metadata": {
    "collapsed": false
   },
   "id": "5cae92aac2cb3e9c",
   "execution_count": null
  },
  {
   "cell_type": "markdown",
   "source": [
    "# Preprocessing the Data\n",
    "\n",
    "Preprocess the data by removing the columns that are not needed, filling or removing the missing values and normalizing the data."
   ],
   "metadata": {
    "collapsed": false
   },
   "id": "580dc514d7d90914"
  },
  {
   "cell_type": "code",
   "outputs": [],
   "source": [
    "# Removing the columns that are not needed\n",
    "# Drop 'Note' and 'Unit' columns from Consumer prices indicators data\n",
    "consumer_prices_indicators.drop(columns=['Note', 'Unit'], inplace=True)\n",
    "# Drop 'Note' column from Emissions data\n",
    "emissions.drop(columns=['Note'], inplace=True)\n",
    "# Drop 'Note' column from Employment data\n",
    "employment.drop(columns=['Note'], inplace=True)\n",
    "# Drop 'Unit' column from Exchange rate data\n",
    "exchange_rate.drop(columns=['Unit'], inplace=True)\n",
    "\n",
    "food_security_indicators.drop(columns=['Note'], inplace=True)\n",
    "# Drop 'Note' column from Food trade indicators data\n",
    "food_trade_indicators.drop(columns=['Note'], inplace=True)\n",
    "# Drop 'Note' column from Land use data\n",
    "land_use.drop(columns=['Note'], inplace=True)\n",
    "# Drop 'Note' column from Pesticides use data\n",
    "pesticides_use.drop(columns=['Note'], inplace=True)\n",
    "\n",
    "# Drop null values with flag O from land temperature change data\n",
    "land_temperature_change_cleaned = land_temperature_change[land_temperature_change['Flag'] != 'O']\n",
    "\n",
    "\n",
    "\n"
   ],
   "metadata": {
    "collapsed": false
   },
   "id": "a6032c8a116429e4"
  },
  {
   "cell_type": "code",
   "outputs": [],
   "source": [],
   "metadata": {
    "collapsed": false
   },
   "id": "a124412cf46417b1"
  }
 ],
 "metadata": {
  "kernelspec": {
   "display_name": "Python 3 (ipykernel)",
   "language": "python",
   "name": "python3"
  },
  "language_info": {
   "codemirror_mode": {
    "name": "ipython",
    "version": 3
   },
   "file_extension": ".py",
   "mimetype": "text/x-python",
   "name": "python",
   "nbconvert_exporter": "python",
   "pygments_lexer": "ipython3",
   "version": "3.12.0"
  }
 },
 "nbformat": 4,
 "nbformat_minor": 5
}
