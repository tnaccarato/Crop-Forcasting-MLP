{
 "cells": [
  {
   "cell_type": "markdown",
   "source": [
    "# Importing Libraries\n",
    "\n",
    "Import the necessary libraries for the project such as pandas, numpy, matplotlib, pytorch and sklearn."
   ],
   "metadata": {
    "collapsed": false
   },
   "id": "fa02f743db731c57"
  },
  {
   "cell_type": "code",
   "execution_count": 11,
   "id": "30862d6a3698f9d1",
   "metadata": {
    "collapsed": false,
    "ExecuteTime": {
     "end_time": "2024-03-25T21:19:19.638314Z",
     "start_time": "2024-03-25T21:19:19.634706Z"
    }
   },
   "outputs": [],
   "source": [
    "import pandas as pd\n",
    "import numpy as np\n",
    "import matplotlib.pyplot as plt\n",
    "import torch as pyt\n",
    "import sklearn as sk"
   ]
  },
  {
   "cell_type": "code",
   "outputs": [],
   "source": [],
   "metadata": {
    "collapsed": false
   },
   "id": "4e03347c1e2397e0"
  }
 ],
 "metadata": {
  "kernelspec": {
   "display_name": "Python 3 (ipykernel)",
   "language": "python",
   "name": "python3"
  },
  "language_info": {
   "codemirror_mode": {
    "name": "ipython",
    "version": 3
   },
   "file_extension": ".py",
   "mimetype": "text/x-python",
   "name": "python",
   "nbconvert_exporter": "python",
   "pygments_lexer": "ipython3",
   "version": "3.12.0"
  }
 },
 "nbformat": 4,
 "nbformat_minor": 5
}
