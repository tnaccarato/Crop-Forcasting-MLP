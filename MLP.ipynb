{
 "cells": [
  {
   "cell_type": "markdown",
   "id": "455906c20249aece",
   "metadata": {
    "jp-MarkdownHeadingCollapsed": true
   },
   "source": [
    "# 1. Importing Libraries\n",
    "\n",
    "In this section, I will import the libraries that I will use in this project. I will import the following libraries:\n",
    "\n",
    "- numpy for numerical computing\n",
    "- pandas for data manipulation\n",
    "- matplotlib for plotting\n",
    "- seaborn for plotting\n",
    "- sklearn for machine learning\n",
    "- scipy for scientific computing\n",
    "- statsmodels for statistical modeling"
   ]
  },
  {
   "cell_type": "code",
   "id": "initial_id",
   "metadata": {
    "collapsed": true,
    "jupyter": {
     "outputs_hidden": true
    }
   },
   "source": [
    "# Imports\n",
    "import numpy as np\n",
    "import pandas as pd\n",
    "import sklearn\n",
    "import seaborn as sns\n",
    "import matplotlib.pyplot as plt\n",
    "import statsmodels.api as sm"
   ],
   "outputs": [],
   "execution_count": null
  },
  {
   "cell_type": "markdown",
   "id": "c8ff7ddc9955cc4d",
   "metadata": {
    "jp-MarkdownHeadingCollapsed": true
   },
   "source": [
    "# 2. Loading the Data\n",
    "\n",
    "In this section, I will load the data that I will use in this project. I will load the data from the CSV files using the pandas library. I will load the data into a pandas DataFrame."
   ]
  },
  {
   "cell_type": "code",
   "id": "654208013770ae79",
   "metadata": {},
   "source": [
    "# Define path to data\n",
    "file_path = \"Data/\"\n",
    "\n",
    "# Load the data\n",
    "fertiliser_use_df = pd.read_csv(file_path + \"Fertilizers use - FAOSTAT_data_en_2-27-2024.csv\")\n",
    "land_temperature_change_df = pd.read_csv(file_path + \"Land temperature change - FAOSTAT_data_en_2-27-2024.csv\")\n",
    "pesticides_use_df = pd.read_csv(file_path + \"Pesticides use - FAOSTAT_data_en_2-27-2024.csv\")\n",
    "crop_value_df = pd.read_csv(file_path + \"Food trade indicators - FAOSTAT_data_en_2-22-2024.csv\")\n",
    "land_use_df = pd.read_csv(file_path + \"Land use - FAOSTAT_data_en_2-22-2024.csv\",low_memory=False)\n",
    "food_balances_df = pd.read_csv(file_path + \"Food balances indicators - FAOSTAT_data_en_2-22-2024.csv\")\n",
    "exchange_rate_df = pd.read_csv(file_path + \"Exchange rate - FAOSTAT_data_en_2-22-2024.csv\")"
   ],
   "outputs": [],
   "execution_count": null
  },
  {
   "cell_type": "markdown",
   "id": "46174864d4eeaa9c",
   "metadata": {},
   "source": [
    "# 3. Data Preparation\n",
    "\n",
    "In this section, I will prepare the data for analysis. For each of the dataframes, will perform the following steps:\n",
    "- Explore the data\n",
    "- Check for missing values\n",
    "- Check for duplicate rows\n",
    "- Drop unnecessary columns\n",
    "- Group data if necessary to get totals and averages\n",
    "- Rename value column to a more descriptive name for easier reference"
   ]
  },
  {
   "cell_type": "markdown",
   "id": "fca2c5cd8d902d64",
   "metadata": {},
   "source": [
    "## 3.1. Fertiliser Use Data"
   ]
  },
  {
   "cell_type": "code",
   "id": "3540a93a87f26399",
   "metadata": {},
   "source": [
    "# Display the first few rows of the fertiliser use data\n",
    "fertiliser_use_df.head()"
   ],
   "outputs": [],
   "execution_count": null
  },
  {
   "cell_type": "code",
   "id": "8e9f542d252c60b0",
   "metadata": {},
   "source": [
    "\n",
    "# Describe the fertiliser use data\n",
    "fertiliser_use_df.describe()"
   ],
   "outputs": [],
   "execution_count": null
  },
  {
   "cell_type": "code",
   "id": "42fedede623038b8",
   "metadata": {},
   "source": [
    "\n",
    "# Print information about the fertiliser use data\n",
    "fertiliser_use_df.info()"
   ],
   "outputs": [],
   "execution_count": null
  },
  {
   "cell_type": "code",
   "id": "e2a2b51563dcce8b",
   "metadata": {},
   "source": [
    "\n",
    "# Check for missing values\n",
    "fertiliser_use_df.isnull().sum()"
   ],
   "outputs": [],
   "execution_count": null
  },
  {
   "cell_type": "code",
   "id": "cde353f784b86f0",
   "metadata": {},
   "source": [
    "\n",
    "# Check for duplicate rows\n",
    "fertiliser_use_df.duplicated().sum()"
   ],
   "outputs": [],
   "execution_count": null
  },
  {
   "cell_type": "code",
   "id": "7b4e044d99bba1ae",
   "metadata": {},
   "source": [
    "# Drop unnecessary columns\n",
    "fertiliser_use_df = fertiliser_use_df.drop(columns=[\"Domain\", \"Domain Code\", \"Element Code\", \"Element\", \"Year Code\", \"Unit\", \"Flag\", \"Flag Description\", \"Item Code\", \"Item\", \"Area Code (M49)\"])\n",
    "\n",
    "# Group data by country and year to get the total fertiliser use\n",
    "fertiliser_use_df = fertiliser_use_df.groupby([\"Area\", \"Year\"]).sum().reset_index()\n",
    "\n",
    "# Rename value column to total fertiliser use in tonnes\n",
    "fertiliser_use_df = fertiliser_use_df.rename(columns={\"Value\": \"Total Fertiliser Use in Tonnes\"})\n",
    "\n",
    "# Display the first few rows of the fertiliser use data\n",
    "fertiliser_use_df.head()"
   ],
   "outputs": [],
   "execution_count": null
  },
  {
   "cell_type": "markdown",
   "id": "9dffdff3ced21c95",
   "metadata": {},
   "source": [
    "## 3.3. Land Temperature Change Data"
   ]
  },
  {
   "cell_type": "code",
   "id": "c60a26eab9e29301",
   "metadata": {},
   "source": [
    "# Display the first few rows of the land temperature change data\n",
    "land_temperature_change_df.head()"
   ],
   "outputs": [],
   "execution_count": null
  },
  {
   "cell_type": "code",
   "id": "c551fc4cab7ef45a",
   "metadata": {},
   "source": [
    "# Describe the land temperature change data\n",
    "land_temperature_change_df.describe()"
   ],
   "outputs": [],
   "execution_count": null
  },
  {
   "cell_type": "code",
   "id": "4e484a185cfcb27",
   "metadata": {},
   "source": [
    "# Print information about the land temperature change data\n",
    "land_temperature_change_df.info()"
   ],
   "outputs": [],
   "execution_count": null
  },
  {
   "cell_type": "code",
   "id": "629223c001dc8f70",
   "metadata": {},
   "source": [
    "# Filter land temperature change to get only meteorological year\n",
    "land_temperature_change_df = land_temperature_change_df[land_temperature_change_df[\"Months\"] == \"Meteorological year\"]\n",
    "\n",
    "# Split df into two dataframes: one for temperature change and one for standard deviation\n",
    "land_temperature_change_df = land_temperature_change_df[land_temperature_change_df[\"Element\"] == \"Temperature change\"]\n",
    "land_temperature_change_std_df = land_temperature_change_df[land_temperature_change_df[\"Element\"] == \"Standard Deviation\"]\n",
    "\n",
    "# Drop unnecessary columns\n",
    "land_temperature_change_df = land_temperature_change_df.drop(columns=[\"Domain\", \"Domain Code\", \"Element Code\", \"Element\", \"Year Code\", \"Unit\", \"Flag\", \"Flag Description\", \"Months\", \"Months Code\", \"Area Code (M49)\"])\n",
    "\n",
    "# If all values for the country are missing, drop the country\n",
    "land_temperature_change_df = land_temperature_change_df.groupby('Area').filter(lambda x: x[['Value']].notna().any().any())\n",
    "\n",
    "# Impute missing values with the mean for the country\n",
    "land_temperature_change_df['Value'] = land_temperature_change_df.groupby('Area',)['Value'].transform(lambda x: x.fillna(x.mean()))"
   ],
   "outputs": [],
   "execution_count": null
  },
  {
   "cell_type": "code",
   "id": "d8f66862d2c278c7",
   "metadata": {},
   "source": [
    "# Check for missing values\n",
    "land_temperature_change_df.isnull().sum()"
   ],
   "outputs": [],
   "execution_count": null
  },
  {
   "cell_type": "code",
   "id": "5aeb63a01436968a",
   "metadata": {},
   "source": [
    "# Check for duplicate rows\n",
    "land_temperature_change_df.duplicated().sum()"
   ],
   "outputs": [],
   "execution_count": null
  },
  {
   "cell_type": "code",
   "id": "f95695d27a4c2378",
   "metadata": {},
   "source": [
    "# Rename value column to temperature change in degrees celsius\n",
    "land_temperature_change_df = land_temperature_change_df.rename(columns={\"Value\": \"Temperature Change in Degrees Celsius\"})\n",
    "\n",
    "# Display the first few rows of the land temperature change data\n",
    "land_temperature_change_df.head()"
   ],
   "outputs": [],
   "execution_count": null
  },
  {
   "cell_type": "markdown",
   "id": "eb235384dfbb5df4",
   "metadata": {},
   "source": [
    "## 3.4. Pesticides Use Data"
   ]
  },
  {
   "cell_type": "code",
   "id": "7f77294de9f415ba",
   "metadata": {},
   "source": [
    "# Display the first few rows of the pesticides use data\n",
    "pesticides_use_df.head()"
   ],
   "outputs": [],
   "execution_count": null
  },
  {
   "cell_type": "code",
   "id": "cba934e85279d6b7",
   "metadata": {},
   "source": [
    "# Describe the pesticides use data\n",
    "pesticides_use_df.describe()"
   ],
   "outputs": [],
   "execution_count": null
  },
  {
   "cell_type": "code",
   "id": "397ca34b3993def1",
   "metadata": {},
   "source": [
    "# Print information about the pesticides use data\n",
    "pesticides_use_df.info()"
   ],
   "outputs": [],
   "execution_count": null
  },
  {
   "cell_type": "code",
   "id": "4464e3f691a81fcb",
   "metadata": {},
   "source": [
    "# Get only the total pesticides used and only Agricultural Use\n",
    "pesticides_use_df = pesticides_use_df[(pesticides_use_df[\"Item Code\"] == 1357) & (pesticides_use_df[\"Element\"] == \"Agricultural Use\")]\n",
    "# Drop unnecessary columns\n",
    "pesticides_use_df = pesticides_use_df.drop(columns=[\"Domain\", \"Domain Code\", \"Element Code\", \"Year Code\", \"Flag\", \"Flag Description\", \"Item Code\", \"Item\", \"Note\", \"Unit\", \"Element\" , \"Area Code (M49)\" ])\n",
    "\n",
    "# Check for missing values\n",
    "pesticides_use_df.isnull().sum()"
   ],
   "outputs": [],
   "execution_count": null
  },
  {
   "cell_type": "code",
   "id": "87312f1d0ce4849d",
   "metadata": {},
   "source": [
    "# Check for duplicate rows\n",
    "pesticides_use_df.duplicated().sum()"
   ],
   "outputs": [],
   "execution_count": null
  },
  {
   "cell_type": "code",
   "id": "87b38f8d1489b73b",
   "metadata": {},
   "source": [
    "# Rename value column to total pesticides use in tonnes\n",
    "pesticides_use_df = pesticides_use_df.rename(columns={\"Value\": \"Total Pesticides Use in Tonnes\"})\n",
    "\n",
    "# Display the first few rows of the pesticides use data\n",
    "pesticides_use_df.head()"
   ],
   "outputs": [],
   "execution_count": null
  },
  {
   "cell_type": "markdown",
   "id": "24f779fe3aa9331b",
   "metadata": {},
   "source": [
    "## 3.5. Crop Value Data"
   ]
  },
  {
   "cell_type": "code",
   "id": "854441f84f7eaf1b",
   "metadata": {},
   "source": [
    "# Display the first few rows of the crop value data\n",
    "crop_value_df.head()"
   ],
   "outputs": [],
   "execution_count": null
  },
  {
   "cell_type": "code",
   "id": "77cae2b63be51d80",
   "metadata": {},
   "source": [
    "# Describe the crop value data\n",
    "crop_value_df.describe()"
   ],
   "outputs": [],
   "execution_count": null
  },
  {
   "cell_type": "code",
   "id": "6be8a5ae13d8a5c8",
   "metadata": {},
   "source": [
    "# Print information about the crop value data\n",
    "crop_value_df.info()"
   ],
   "outputs": [],
   "execution_count": null
  },
  {
   "cell_type": "code",
   "id": "b59d489efb1dc234",
   "metadata": {},
   "source": [
    "# Drop unnecessary columns\n",
    "crop_value_df = crop_value_df.drop(columns=[\"Domain\", \"Domain Code\",  \"Year Code\", \"Flag\", \"Flag Description\", \"Note\", \"Unit\", \"Item Code (CPC)\", \"Area Code (M49)\"])\n",
    "\n",
    "# Check for missing values\n",
    "crop_value_df.isnull().sum()"
   ],
   "outputs": [],
   "execution_count": null
  },
  {
   "cell_type": "code",
   "id": "bb7757759750068f",
   "metadata": {},
   "source": [
    "# Split the data into two dataframes: one for imports and one for exports\n",
    "crop_value_imports_df = crop_value_df[crop_value_df[\"Element\"] == \"Import Value\"]\n",
    "crop_value_exports_df = crop_value_df[crop_value_df[\"Element\"] == \"Export Value\"]\n",
    "\n",
    "# Drop unnecessary columns\n",
    "crop_value_imports_df = crop_value_imports_df.drop(columns=[\"Element\", \"Element Code\"])\n",
    "crop_value_exports_df = crop_value_exports_df.drop(columns=[\"Element\", \"Element Code\"])\n",
    "\n",
    "# Rename value column to crop value in 1000 US$\n",
    "crop_value_imports_df = crop_value_imports_df.rename(columns={\"Value\": \"Total Import Crop Value in 1000 US$\"})\n",
    "crop_value_exports_df = crop_value_exports_df.rename(columns={\"Value\": \"Total Export Crop Value in 1000 US$\"})\n",
    "\n",
    "# Display the first few rows of the crop import data\n",
    "crop_value_imports_df.head()"
   ],
   "outputs": [],
   "execution_count": null
  },
  {
   "cell_type": "code",
   "id": "7ec6a08f5869433a",
   "metadata": {},
   "source": [
    "# Display the first few rows of the crop import data\n",
    "crop_value_exports_df.head()"
   ],
   "outputs": [],
   "execution_count": null
  },
  {
   "cell_type": "markdown",
   "id": "b865535e91223320",
   "metadata": {},
   "source": [
    "## 3.6. Land Use Data"
   ]
  },
  {
   "cell_type": "markdown",
   "id": "f43a9f70eebfaf7a",
   "metadata": {},
   "source": []
  },
  {
   "cell_type": "code",
   "id": "f4a1aa1bf6b3bea",
   "metadata": {},
   "source": [
    "# Display the first few rows of the land use data\n",
    "land_use_df.head()"
   ],
   "outputs": [],
   "execution_count": null
  },
  {
   "cell_type": "code",
   "id": "c1f010c62b559a1a",
   "metadata": {},
   "source": [
    "# Describe the land use data\n",
    "land_use_df.describe()"
   ],
   "outputs": [],
   "execution_count": null
  },
  {
   "cell_type": "code",
   "id": "12b95cd30f4ae024",
   "metadata": {},
   "source": [
    "# Print information about the land use data\n",
    "land_use_df.info()"
   ],
   "outputs": [],
   "execution_count": null
  },
  {
   "cell_type": "code",
   "id": "99c63d4c0beee061",
   "metadata": {},
   "source": [
    "# Filter to select only agricultural land\n",
    "land_use_df = land_use_df[land_use_df[\"Item\"] == \"Agricultural land\"]\n",
    "# Drop unnecessary columns\n",
    "land_use_df = land_use_df.drop(columns=[\"Domain\", \"Domain Code\", \"Year Code\", \"Flag\", \"Flag Description\", \"Note\", \"Element\", \"Element Code\", \"Item Code\", \"Item\", \"Unit\", \"Area Code (M49)\"])\n",
    "\n",
    "# Check for missing values\n",
    "land_use_df.isnull().sum()"
   ],
   "outputs": [],
   "execution_count": null
  },
  {
   "cell_type": "code",
   "id": "f0ecf4197801600d",
   "metadata": {},
   "source": [
    "# Check for duplicate rows\n",
    "land_use_df.duplicated().sum()"
   ],
   "outputs": [],
   "execution_count": null
  },
  {
   "cell_type": "code",
   "id": "8ba0634c8f9f32f8",
   "metadata": {},
   "source": [
    "# Rename value column to agricultural land in hectares\n",
    "land_use_df = land_use_df.rename(columns={\"Value\": \"Agricultural Land in Hectares\"})\n",
    "# Display the first few rows of the land use data\n",
    "land_use_df.head()"
   ],
   "outputs": [],
   "execution_count": null
  },
  {
   "metadata": {},
   "cell_type": "markdown",
   "source": "# 3.7 Food Balances Data",
   "id": "f3b9aa4d618ed223"
  },
  {
   "metadata": {},
   "cell_type": "code",
   "source": [
    "# Display the first few rows of the food balances data\n",
    "food_balances_df.head()"
   ],
   "id": "c7c828c61b3bb9d6",
   "outputs": [],
   "execution_count": null
  },
  {
   "metadata": {},
   "cell_type": "code",
   "source": [
    "# Describe the food balances data\n",
    "food_balances_df.describe()"
   ],
   "id": "ac878b03e6ba7af6",
   "outputs": [],
   "execution_count": null
  },
  {
   "metadata": {},
   "cell_type": "code",
   "source": [
    "# Print information about the food balances data\n",
    "food_balances_df.info()"
   ],
   "id": "87966eb1a2e031be",
   "outputs": [],
   "execution_count": null
  },
  {
   "metadata": {},
   "cell_type": "code",
   "source": [
    "# Drop unnecessary columns\n",
    "food_balances_df = food_balances_df.drop(columns=[\"Domain\", \"Domain Code\", \"Year Code\", \"Flag\", \"Flag Description\", \"Unit\", \"Area Code (M49)\", \"Element Code\", \"Item Code (FBS)\"])\n",
    "\n",
    "# Remove rows where value is less than 0\n",
    "food_balances_df = food_balances_df[food_balances_df[\"Value\"] >= 0]\n",
    "\n",
    "# Check for missing values\n",
    "food_balances_df.isnull().sum()"
   ],
   "id": "a54dfa9de0cca939",
   "outputs": [],
   "execution_count": null
  },
  {
   "metadata": {},
   "cell_type": "code",
   "source": [
    "# Check for duplicate rows\n",
    "food_balances_df.duplicated().sum()"
   ],
   "id": "c8f49fc8fa6d3ae0",
   "outputs": [],
   "execution_count": null
  },
  {
   "metadata": {},
   "cell_type": "code",
   "source": [
    "# Split data into imports and exports\n",
    "food_balances_imports_df = food_balances_df[food_balances_df[\"Element\"] == \"Import Quantity\"]\n",
    "food_balances_exports_df = food_balances_df[food_balances_df[\"Element\"] == \"Export Quantity\"]\n",
    "\n",
    "# Rename value column to total quantity in tonnes\n",
    "food_balances_imports_df = food_balances_imports_df.rename(columns={\"Value\": \"Total Import Quantity in Tonnes\"})\n",
    "food_balances_exports_df = food_balances_exports_df.rename(columns={\"Value\": \"Total Export Quantity in Tonnes\"})\n",
    "\n",
    "# Drop unnecessary columns\n",
    "food_balances_imports_df = food_balances_imports_df.drop(columns=[\"Element\"])\n",
    "food_balances_exports_df = food_balances_exports_df.drop(columns=[\"Element\"])"
   ],
   "id": "e782dda4d598f349",
   "outputs": [],
   "execution_count": null
  },
  {
   "metadata": {},
   "cell_type": "markdown",
   "source": "## 3.7 Exchange Rate Data",
   "id": "e459e288039fb060"
  },
  {
   "metadata": {},
   "cell_type": "code",
   "source": [
    "# Display the first few rows of the exchange rate data\n",
    "exchange_rate_df.head()"
   ],
   "id": "234ba1a97c1bed3a",
   "outputs": [],
   "execution_count": null
  },
  {
   "metadata": {},
   "cell_type": "code",
   "source": [
    "# Describe the exchange rate data\n",
    "exchange_rate_df.describe()"
   ],
   "id": "c6e7e224fd08b151",
   "outputs": [],
   "execution_count": null
  },
  {
   "metadata": {},
   "cell_type": "code",
   "source": [
    "# Print information about the exchange rate data\n",
    "exchange_rate_df.info()"
   ],
   "id": "2559f5b090987bf6",
   "outputs": [],
   "execution_count": null
  },
  {
   "metadata": {},
   "cell_type": "code",
   "source": [
    "# Drop unnecessary columns\n",
    "exchange_rate_df = exchange_rate_df.drop(columns=[\"Domain\", \"Domain Code\", \"Area Code (M49)\", \"Year Code\", \"Currency\", \"ISO Currency Code (FAO)\", \"Flag\", \"Flag Description\", \"Unit\", \"Element Code\", \"Element\", \"Months Code\", \"Months\"])\n",
    "\n",
    "# Check for missing values\n",
    "exchange_rate_df.isnull().sum()"
   ],
   "id": "ca971a19d6f33b11",
   "outputs": [],
   "execution_count": null
  },
  {
   "metadata": {},
   "cell_type": "code",
   "source": [
    "# Check for duplicate rows\n",
    "exchange_rate_df.duplicated().sum()"
   ],
   "id": "24e69908e319183c",
   "outputs": [],
   "execution_count": null
  },
  {
   "metadata": {},
   "cell_type": "code",
   "source": [
    "# Rename value column to exchange rate in national currency per US dollar\n",
    "exchange_rate_df = exchange_rate_df.rename(columns={\"Value\": \"Exchange Rate in National Currency per US Dollar\"})\n",
    "# Average the exchange rate for each country per year\n",
    "exchange_rate_df = exchange_rate_df.groupby([\"Area\", \"Year\"]).mean().reset_index()\n",
    "\n",
    "# Display the first few rows of the exchange rate data\n",
    "exchange_rate_df.head()"
   ],
   "id": "60c80c981c352fc3",
   "outputs": [],
   "execution_count": null
  },
  {
   "metadata": {},
   "cell_type": "markdown",
   "source": "",
   "id": "144577cef7c2ae5f"
  },
  {
   "cell_type": "markdown",
   "id": "89a036cfeecb7d4b",
   "metadata": {},
   "source": [
    "# 3.7. Merging Data\n",
    "\n",
    "In this section, I will merge all the dataframes into a single dataframe.\n"
   ]
  },
  {
   "cell_type": "markdown",
   "id": "f2a31ab0057f60cc",
   "metadata": {},
   "source": [
    "### 3.7.1 Mapping Items"
   ]
  },
  {
   "cell_type": "code",
   "id": "7128051626457c12",
   "metadata": {},
   "source": [
    "# Create a mapping of items to their respective categories\n",
    "mapping = {\n",
    "    'Cereals - Excluding Beer': 'Cereals and Preparations',\n",
    "    'Starchy Roots': 'Other food',\n",
    "    'Sugar Crops': 'Sugar and Honey',\n",
    "    'Sugar & Sweeteners': 'Sugar and Honey',\n",
    "    'Pulses': 'Other food',\n",
    "    'Treenuts': 'Other food',\n",
    "    'Oilcrops': 'Fats and Oils (excluding Butter)',\n",
    "    'Vegetable Oils': 'Fats and Oils (excluding Butter)',\n",
    "    'Vegetables': 'Fruit and Vegetables',\n",
    "    'Fruits - Excluding Wine': 'Fruit and Vegetables',\n",
    "    'Stimulants': 'Non-alcoholic Beverages',\n",
    "    'Spices': 'Other food',\n",
    "    'Alcoholic Beverages': 'Alcoholic Beverages',\n",
    "    'Meat': 'Meat and Meat Preparations',\n",
    "    'Eggs': 'Dairy Products and Eggs',\n",
    "    'Milk - Excluding Butter': 'Dairy Products and Eggs',\n",
    "    'Fish, Seafood': 'Other food'\n",
    "}\n",
    "\n",
    "# Map the items to their respective categories\n",
    "food_balances_imports_df['Item'] = food_balances_imports_df['Item'].map(mapping)\n",
    "food_balances_exports_df['Item'] = food_balances_exports_df['Item'].map(mapping)\n",
    "\n",
    "# Display the first few rows of the food balances imports data\n",
    "food_balances_imports_df.head()"
   ],
   "outputs": [],
   "execution_count": null
  },
  {
   "cell_type": "code",
   "id": "52ccd328dd44100a",
   "metadata": {},
   "source": [
    "# Display the first few rows of the food balances exports data\n",
    "food_balances_exports_df.head()"
   ],
   "outputs": [],
   "execution_count": null
  },
  {
   "cell_type": "markdown",
   "id": "b5c0f3b14420d12a",
   "metadata": {},
   "source": [
    "### 3.7.1 Merging Data\n",
    "\n",
    "In this section, I will merge all the dataframes into a single dataframe. I will merge the dataframes on the following columns:\n",
    "- Area\n",
    "- Area Code (M49)\n",
    "- Year\n",
    "- Item (for Crop Yield and Crop Value Data)"
   ]
  },
  {
   "cell_type": "code",
   "id": "7cc75d935365a60",
   "metadata": {},
   "source": [
    "# Merge all the dataframes into a single dataframe\n",
    "merged_df = crop_value_imports_df.merge(crop_value_exports_df, how=\"inner\", left_on=[\"Area\", \"Year\", 'Item'], right_on=[\"Area\", \"Year\", 'Item'])\n",
    "merged_df = merged_df.merge(food_balances_imports_df, how=\"inner\", left_on=[\"Area\", \"Year\", 'Item'], right_on=[\"Area\", \"Year\", 'Item'])\n",
    "merged_df = merged_df.merge(food_balances_exports_df, how=\"inner\", left_on=[\"Area\", \"Year\", 'Item'], right_on=[\"Area\", \"Year\", 'Item'])\n",
    "merged_df = merged_df.merge(land_temperature_change_df, how=\"inner\", left_on=[\"Area\", \"Year\"], right_on=[\"Area\", \"Year\"])\n",
    "merged_df = merged_df.merge(pesticides_use_df, how=\"inner\", left_on=[\"Area\", \"Year\"], right_on=[\"Area\", \"Year\"])\n",
    "merged_df = merged_df.merge(land_use_df, how=\"inner\", left_on=[\"Area\", \"Year\"], right_on=[\"Area\", \"Year\"])\n",
    "merged_df = merged_df.merge(fertiliser_use_df, how=\"inner\", left_on=[\"Area\", \"Year\"], right_on=[\"Area\", \"Year\"])\n",
    "merged_df = merged_df.merge(exchange_rate_df, how=\"inner\", left_on=[\"Area\", \"Year\"], right_on=[\"Area\", \"Year\"])"
   ],
   "outputs": [],
   "execution_count": null
  },
  {
   "cell_type": "code",
   "id": "b03f36220eab48c0",
   "metadata": {},
   "source": [
    "# Describe the merged dataframe\n",
    "merged_df.describe()"
   ],
   "outputs": [],
   "execution_count": null
  },
  {
   "cell_type": "code",
   "id": "6e7aaaef84c37663",
   "metadata": {},
   "source": [
    "# Show the shape of the merged dataframe (8446, 10)\n",
    "merged_df.shape"
   ],
   "outputs": [],
   "execution_count": null
  },
  {
   "cell_type": "code",
   "id": "bde10b35305a510a",
   "metadata": {},
   "source": [
    "# Count the number of countries in the merged dataframe (156)\n",
    "merged_df['Area'].nunique()"
   ],
   "outputs": [],
   "execution_count": null
  },
  {
   "cell_type": "code",
   "id": "c737e9974cddd2a7",
   "metadata": {},
   "source": [
    "# Count number of years in the merged dataframe (20)\n",
    "merged_df['Year'].nunique()"
   ],
   "outputs": [],
   "execution_count": null
  },
  {
   "cell_type": "code",
   "id": "ab3f2076e6dc2e9e",
   "metadata": {},
   "source": [
    "# Check for missing values\n",
    "merged_df.isnull().sum()"
   ],
   "outputs": [],
   "execution_count": null
  },
  {
   "cell_type": "markdown",
   "id": "eb701a83272ae1ad",
   "metadata": {},
   "source": [
    "# 4. Exploratory Data Analysis \n",
    "\n",
    "In this section, I will perform exploratory data analysis on the merged data. I will explore the following:\n",
    "- Fertiliser Use Analysis\n",
    "- Land Temperature Change Analysis\n",
    "- Pesticides Use Analysis\n",
    "- Crop Value Analysis\n",
    "- Land Use Analysis\n",
    "- Correlation Analysis"
   ]
  },
  {
   "cell_type": "markdown",
   "id": "2e2b303022b107e",
   "metadata": {},
   "source": [
    "## 4.1 Fertiliser Use Analysis\n",
    "\n",
    "In this section, I will perform exploratory data analysis on the fertiliser use data. I will explore the following:\n",
    "- Mean fertiliser use over the years for all countries\n",
    "- Fertiliser use distribution (using log scale and non-zero values only)\n",
    "- Fertiliser use correlation with export crop value"
   ]
  },
  {
   "cell_type": "code",
   "id": "3ebd3476c7dbd064",
   "metadata": {},
   "source": [
    "# Prepare the data for analysis\n",
    "fertiliser_use_mean = fertiliser_use_df.groupby('Year')['Total Fertiliser Use in Tonnes'].mean()\n",
    "fertiliser_use_total = fertiliser_use_df.groupby('Year')['Total Fertiliser Use in Tonnes'].sum()"
   ],
   "outputs": [],
   "execution_count": null
  },
  {
   "cell_type": "code",
   "id": "259ba48c00d1a224",
   "metadata": {},
   "source": [
    "# Plot the mean fertiliser use over the years\n",
    "fig, ax = plt.subplots(figsize=(15,9))\n",
    "plt.suptitle(\"Mean Fertiliser Use Over the Years for all Countries\")\n",
    "\n",
    "fertiliser_use_mean.plot(ax=ax)\n",
    "plt.xlabel(\"Year\")\n",
    "plt.ylabel(\"Mean Fertiliser Use in Tonnes\")\n",
    "\n",
    "plt.show()"
   ],
   "outputs": [],
   "execution_count": null
  },
  {
   "cell_type": "code",
   "id": "cae8cdf816ef5bef",
   "metadata": {},
   "source": [
    "# Plot the distribution of fertiliser use\n",
    "fig, ax = plt.subplots(figsize=(15,9))\n",
    "plt.suptitle(\"Log Distribution of Fertiliser Use\")\n",
    "\n",
    "sns.histplot(np.log1p(fertiliser_use_df['Total Fertiliser Use in Tonnes']), kde=True, ax=ax)\n",
    "plt.xlabel(\"Fertiliser Use in Tonnes\")\n",
    "\n",
    "plt.show()"
   ],
   "outputs": [],
   "execution_count": null
  },
  {
   "cell_type": "code",
   "id": "fd916d07ac049721",
   "metadata": {},
   "source": [
    "# Plot the correlation between fertiliser use and export crop value\n",
    "fig, ax = plt.subplots(figsize=(15,9))\n",
    "temp = merged_df.groupby('Year').agg({\n",
    "    'Total Fertiliser Use in Tonnes': 'mean',\n",
    "    'Total Export Crop Value in 1000 US$': 'mean'\n",
    "}).reset_index()  # Resetting index to turn the grouped data back into a DataFrame\n",
    "\n",
    "plt.suptitle(\"Correlation between Fertiliser Use and Export Crop Value\")\n",
    "\n",
    "sns.scatterplot(data=temp, x='Total Fertiliser Use in Tonnes', y='Total Export Crop Value in 1000 US$', ax=ax)\n",
    "sns.regplot(data=temp, x='Total Fertiliser Use in Tonnes', y='Total Export Crop Value in 1000 US$', ax=ax, scatter=False) # Line of best fit\n",
    "plt.xlabel(\"Fertiliser Use in Tonnes\")\n",
    "plt.ylabel(\"Export Crop Value in 1000 US$\")\n",
    "plt.show()"
   ],
   "outputs": [],
   "execution_count": null
  },
  {
   "cell_type": "markdown",
   "id": "da972e49d086f7af",
   "metadata": {},
   "source": [
    "## 4.3 Land Temperature Change Analysis\n",
    "\n",
    "In this section, I will perform exploratory data analysis on the land temperature change data. I will explore the following:\n",
    "- Mean land temperature change over the years for all countries\n",
    "- Land temperature change distribution\n",
    "- Land temperature change correlation with export crop value"
   ]
  },
  {
   "cell_type": "code",
   "id": "92032d479bc3b698",
   "metadata": {},
   "source": [
    "# Prepare the data for analysis\n",
    "land_temperature_change_mean = land_temperature_change_df.groupby('Year')['Temperature Change in Degrees Celsius'].mean()\n",
    "land_temperature_change_total = land_temperature_change_df.groupby('Year')['Temperature Change in Degrees Celsius'].sum()"
   ],
   "outputs": [],
   "execution_count": null
  },
  {
   "cell_type": "code",
   "id": "fcffab09b43326ef",
   "metadata": {},
   "source": [
    "# Plot the mean land temperature change over the years\n",
    "fig, ax = plt.subplots(figsize=(15,9))\n",
    "plt.suptitle(\"Mean Land Temperature Change Over the Years for all Countries\")\n",
    "\n",
    "land_temperature_change_mean.plot(ax=ax)\n",
    "plt.xlabel(\"Year\")\n",
    "plt.ylabel(\"Mean Temperature Change in Degrees Celsius\")\n",
    "\n",
    "plt.show()"
   ],
   "outputs": [],
   "execution_count": null
  },
  {
   "cell_type": "code",
   "id": "a2bca3321f428e8a",
   "metadata": {},
   "source": [
    "# Plot the distribution of land temperature change\n",
    "fig, ax = plt.subplots(figsize=(15,9))\n",
    "plt.suptitle(\"Distribution of Land Temperature Change\")\n",
    "\n",
    "sns.histplot(land_temperature_change_df['Temperature Change in Degrees Celsius'], kde=True, ax=ax)\n",
    "plt.xlabel(\"Temperature Change in Degrees Celsius\")\n",
    "\n",
    "plt.show()"
   ],
   "outputs": [],
   "execution_count": null
  },
  {
   "cell_type": "code",
   "id": "77824814db5caf74",
   "metadata": {},
   "source": [
    "# Plot the correlation between land temperature change and export crop value\n",
    "fig, ax = plt.subplots(figsize=(15,9))\n",
    "\n",
    "plt.suptitle(\"Correlation between Land Temperature Change and Export Crop Value\")\n",
    "temp = merged_df.groupby('Year').agg({\n",
    "    'Temperature Change in Degrees Celsius': 'mean',\n",
    "    'Total Export Crop Value in 1000 US$': 'mean'\n",
    "}).reset_index()  # Resetting index to turn the grouped data back into a DataFrame\n",
    "\n",
    "sns.scatterplot(data=temp, x='Temperature Change in Degrees Celsius', y='Total Export Crop Value in 1000 US$', ax=ax)\n",
    "sns.regplot(data=temp, x='Temperature Change in Degrees Celsius', y='Total Export Crop Value in 1000 US$', ax=ax, scatter=False) # Line of best fit\n",
    "plt.xlabel(\"Temperature Change in Degrees Celsius\")\n",
    "plt.ylabel(\"Export Crop Value in 1000 US$\")\n",
    "plt.show()"
   ],
   "outputs": [],
   "execution_count": null
  },
  {
   "cell_type": "markdown",
   "id": "be6e9fcf7db08d83",
   "metadata": {},
   "source": [
    "## 4.4 Pesticides Use Analysis\n",
    "\n",
    "In this section, I will perform exploratory data analysis on the pesticides use data. I will explore the following:\n",
    "- Mean pesticides use over the years for all countries\n",
    "- Distribution of pesticides use\n",
    "- Pesticides use correlation with crop yield"
   ]
  },
  {
   "cell_type": "code",
   "id": "2f514698310b055a",
   "metadata": {},
   "source": [
    "# Prepare the data for analysis\n",
    "pesticides_use_mean = pesticides_use_df.groupby('Year')['Total Pesticides Use in Tonnes'].mean()\n",
    "pesticides_use_total = pesticides_use_df.groupby('Year')['Total Pesticides Use in Tonnes'].sum()"
   ],
   "outputs": [],
   "execution_count": null
  },
  {
   "cell_type": "code",
   "id": "e1a7b9530a09748f",
   "metadata": {},
   "source": [
    "# Plot the mean pesticides use over the years\n",
    "fig, ax = plt.subplots(figsize=(15,9))\n",
    "plt.suptitle(\"Mean Pesticides Use Over the Years for all Countries\")\n",
    "\n",
    "pesticides_use_mean.plot(ax=ax)\n",
    "plt.xlabel(\"Year\")\n",
    "plt.ylabel(\"Mean Pesticides Use in Tonnes\")\n",
    "\n",
    "plt.show()"
   ],
   "outputs": [],
   "execution_count": null
  },
  {
   "cell_type": "code",
   "id": "14da288739238965",
   "metadata": {},
   "source": [
    "# Plot the distribution of pesticides use\n",
    "fig, ax = plt.subplots(figsize=(15,9))\n",
    "\n",
    "plt.suptitle(\"Log Distribution of Pesticides Use\")\n",
    "\n",
    "sns.histplot(np.log1p(pesticides_use_df['Total Pesticides Use in Tonnes']), kde=True, ax=ax)\n",
    "plt.xlabel(\"Pesticides Use in Tonnes\")\n",
    "\n",
    "plt.show()"
   ],
   "outputs": [],
   "execution_count": null
  },
  {
   "cell_type": "code",
   "id": "604dbe77a26c3dff",
   "metadata": {},
   "source": [
    "# Plot the correlation between pesticides use and export crop value\n",
    "fig, ax = plt.subplots(figsize=(15,9))\n",
    "\n",
    "plt.suptitle(\"Correlation between Pesticides Use and Export Crop Value\")\n",
    "temp = merged_df.groupby('Year').agg({\n",
    "    'Total Pesticides Use in Tonnes': 'mean',\n",
    "    'Total Export Crop Value in 1000 US$': 'mean'\n",
    "}).reset_index()  # Resetting index to turn the grouped data back into a DataFrame\n",
    "\n",
    "sns.scatterplot(data=temp, x='Total Pesticides Use in Tonnes', y='Total Export Crop Value in 1000 US$', ax=ax)\n",
    "sns.regplot(data=temp, x='Total Pesticides Use in Tonnes', y='Total Export Crop Value in 1000 US$', ax=ax, scatter=False) # Line of best fit\n",
    "plt.xlabel(\"Pesticides Use in Tonnes\")\n",
    "plt.ylabel(\"Export Crop Value in 1000 US$\")\n",
    "plt.show()"
   ],
   "outputs": [],
   "execution_count": null
  },
  {
   "cell_type": "markdown",
   "id": "3c6b497443afdc0c",
   "metadata": {},
   "source": [
    "### 4.5 Crop Value Analysis\n",
    "\n",
    "In this section, I will perform exploratory data analysis on the crop value data (both import and export). I will explore the following:\n",
    "- Mean crop value over the years for all countries by crop type\n",
    "- Distribution of crop value (non-zero values only)\n",
    "- Crop value correlation with crop yield\n",
    "- Frequency of items"
   ]
  },
  {
   "cell_type": "code",
   "id": "81dac2b47932ecc7",
   "metadata": {},
   "source": [
    "# Prepare the data for analysis\n",
    "crop_value_exports_mean = crop_value_exports_df.groupby(['Year', 'Item'])['Total Export Crop Value in 1000 US$'].mean()\n",
    "crop_value_imports_mean = crop_value_imports_df.groupby(['Year', 'Item'])['Total Import Crop Value in 1000 US$'].mean()\n",
    "non_zero_crop_value_exports = crop_value_exports_df[crop_value_exports_df['Total Export Crop Value in 1000 US$'] > 0]\n",
    "non_zero_crop_value_imports = crop_value_imports_df[crop_value_imports_df['Total Import Crop Value in 1000 US$'] > 0]"
   ],
   "outputs": [],
   "execution_count": null
  },
  {
   "cell_type": "code",
   "id": "70ea555ea21e5eb7",
   "metadata": {},
   "source": [
    "# Plot the mean import crop value over the years\n",
    "fig, ax = plt.subplots(figsize=(15,9))\n",
    "\n",
    "plt.suptitle(\"Mean Import Crop Value Over the Years for all Countries by Crop Type\")\n",
    "\n",
    "crop_value_imports_mean.unstack().plot(ax=ax)\n",
    "plt.xlabel(\"Year\")\n",
    "plt.ylabel(\"Mean Import Crop Value in 1000 US$\")\n",
    "plt.show()"
   ],
   "outputs": [],
   "execution_count": null
  },
  {
   "cell_type": "code",
   "id": "2b2aefccecea59de",
   "metadata": {},
   "source": [
    "# Plot the mean export crop value over the years\n",
    "fig, ax = plt.subplots(figsize=(15,9))\n",
    "\n",
    "plt.suptitle(\"Mean Export Crop Value Over the Years for all Countries by Crop Type\")\n",
    "\n",
    "crop_value_exports_mean.unstack().plot(ax=ax)\n",
    "plt.xlabel(\"Year\")\n",
    "plt.ylabel(\"Mean Export Crop Value in 1000 US$\")\n",
    "plt.show()"
   ],
   "outputs": [],
   "execution_count": null
  },
  {
   "cell_type": "code",
   "id": "10c33c8d188d2584",
   "metadata": {},
   "source": [
    "# Plot the log1p distribution of import crop value\n",
    "fig, ax = plt.subplots(figsize=(15,9))\n",
    "\n",
    "plt.suptitle(\"Log Distribution of Import Crop Value\")\n",
    "\n",
    "sns.histplot(np.log1p(non_zero_crop_value_imports['Total Import Crop Value in 1000 US$']), kde=True, ax=ax)\n",
    "plt.xlabel(\"Import Crop Value in 1000 US$\")\n",
    "plt.show()"
   ],
   "outputs": [],
   "execution_count": null
  },
  {
   "cell_type": "code",
   "id": "bf5f9416b3d79d99",
   "metadata": {},
   "source": [
    "# Plot the log1p distribution of export crop value\n",
    "fig, ax = plt.subplots(figsize=(15,9))\n",
    "\n",
    "plt.suptitle(\"Log Distribution of Export Crop Value\")\n",
    "\n",
    "sns.histplot(np.log1p(non_zero_crop_value_exports['Total Export Crop Value in 1000 US$']), kde=True, ax=ax)\n",
    "plt.xlabel(\"Export Crop Value in 1000 US$\")\n",
    "plt.show()"
   ],
   "outputs": [],
   "execution_count": null
  },
  {
   "cell_type": "code",
   "id": "9b36719f24ec302d",
   "metadata": {},
   "source": [
    "# Plot the correlation between import crop value and export crop value\n",
    "fig, ax = plt.subplots(figsize=(15,9))\n",
    "\n",
    "plt.suptitle(\"Correlation between Import Crop Value and Export Crop Value\")\n",
    "temp = merged_df.groupby('Year').agg({\n",
    "    'Total Import Crop Value in 1000 US$': 'mean',\n",
    "    'Total Export Crop Value in 1000 US$': 'mean'\n",
    "}).reset_index()  # Resetting index to turn the grouped data back into a DataFrame\n",
    "\n",
    "sns.scatterplot(data=temp, x='Total Import Crop Value in 1000 US$', y='Total Export Crop Value in 1000 US$', ax=ax)\n",
    "sns.regplot(data=temp, x='Total Import Crop Value in 1000 US$', y='Total Export Crop Value in 1000 US$', ax=ax, scatter=False) # Line of best fit\n",
    "plt.xlabel(\"Import Crop Value in 1000 US$\")\n",
    "plt.ylabel(\"Export Crop Value in 1000 US$\")\n",
    "plt.show()"
   ],
   "outputs": [],
   "execution_count": null
  },
  {
   "cell_type": "code",
   "id": "681aae39f0caf626",
   "metadata": {},
   "source": [
    "# Count the values and reset the index\n",
    "temp = crop_value_imports_df['Item'].value_counts().reset_index()\n",
    "temp.columns = ['Item', 'Frequency']  # Correctly naming the columns for clarity\n",
    "\n",
    "# Plotting\n",
    "fig, ax = plt.subplots(figsize=(15, 9))\n",
    "fig.suptitle('Frequency Count', size=30)\n",
    "\n",
    "# Using renamed columns\n",
    "graph = sns.barplot(x='Item', y='Frequency', data=temp, ax=ax, palette='viridis')\n",
    "\n",
    "# Adding text labels on bars\n",
    "for index, row in temp.iterrows():\n",
    "    graph.text(index, row['Frequency'], row['Frequency'], color='black', ha=\"center\")\n",
    "\n",
    "plt.xlabel('Item', size=20)\n",
    "plt.ylabel('Frequency', size=20)\n",
    "plt.xticks(rotation=45) # Rotating the x-axis labels for better visibility\n",
    "\n",
    "plt.show()"
   ],
   "outputs": [],
   "execution_count": null
  },
  {
   "cell_type": "code",
   "id": "ab1afae0bbdd58d7",
   "metadata": {},
   "source": [
    "# Count the values and reset the index\n",
    "temp = crop_value_exports_df['Item'].value_counts().reset_index()\n",
    "temp.columns = ['Item', 'Frequency']  # Correctly naming the columns for clarity\n",
    "\n",
    "# Plotting\n",
    "fig, ax = plt.subplots(figsize=(15, 9))\n",
    "fig.suptitle('Frequency Count', size=30)\n",
    "\n",
    "# Using renamed columns\n",
    "graph = sns.barplot(x='Item', y='Frequency', data=temp, ax=ax, palette='viridis')\n",
    "\n",
    "# Adding text labels on bars\n",
    "for index, row in temp.iterrows():\n",
    "    graph.text(index, row['Frequency'], row['Frequency'], color='black', ha=\"center\")\n",
    "\n",
    "plt.xlabel('Item', size=20)\n",
    "plt.ylabel('Frequency', size=20)\n",
    "plt.xticks(rotation=45) # Rotating the x-axis labels for better visibility\n",
    "\n",
    "plt.show()"
   ],
   "outputs": [],
   "execution_count": null
  },
  {
   "cell_type": "markdown",
   "id": "3bb2680c15606dd3",
   "metadata": {},
   "source": [
    "## 4.6 Land Use Analysis\n",
    "\n",
    "In this section, I will perform exploratory data analysis on the land use data. I will explore the following:\n",
    "- Mean agricultural land over the years for all countries\n",
    "- Total agricultural land over the years for all countries\n",
    "- Agricultural land distribution\n",
    "- Agricultural land correlation with crop yield"
   ]
  },
  {
   "cell_type": "code",
   "id": "a8273ec9b50f1006",
   "metadata": {},
   "source": [
    "# Prepare the data for analysis\n",
    "land_use_mean = land_use_df.groupby('Year')['Agricultural Land in Hectares'].mean()\n",
    "land_use_total = land_use_df.groupby('Year')['Agricultural Land in Hectares'].sum()\n",
    "non_zero_land_use = land_use_df[land_use_df['Agricultural Land in Hectares'] > 0]"
   ],
   "outputs": [],
   "execution_count": null
  },
  {
   "cell_type": "code",
   "id": "fd02ebf93beff48f",
   "metadata": {},
   "source": [
    "# Plot the mean agricultural land over the years\n",
    "fig, ax = plt.subplots(figsize=(15,9))\n",
    "\n",
    "plt.suptitle(\"Mean Agricultural Land Over the Years for all Countries\")\n",
    "\n",
    "land_use_mean.plot(ax=ax)\n",
    "plt.xlabel(\"Year\")\n",
    "plt.ylabel(\"Mean Agricultural Land in Hectares\")\n",
    "plt.show()"
   ],
   "outputs": [],
   "execution_count": null
  },
  {
   "cell_type": "code",
   "id": "50ccc2509e71fb6d",
   "metadata": {},
   "source": [
    "# Plot the total agricultural land over the years\n",
    "fig, ax = plt.subplots(figsize=(15,9))\n",
    "\n",
    "plt.suptitle(\"Total Agricultural Land Over the Years for all Countries\")\n",
    "\n",
    "land_use_total.plot(ax=ax)\n",
    "plt.xlabel(\"Year\")\n",
    "plt.ylabel(\"Total Agricultural Land in Hectares\")\n",
    "plt.show()"
   ],
   "outputs": [],
   "execution_count": null
  },
  {
   "cell_type": "code",
   "id": "97e83d358cea038f",
   "metadata": {},
   "source": [
    "# Plot the distribution of agricultural land\n",
    "fig, ax = plt.subplots(figsize=(15,9))\n",
    "\n",
    "plt.suptitle(\"Log Distribution of Agricultural Land\")\n",
    "\n",
    "sns.histplot(np.log1p(non_zero_land_use['Agricultural Land in Hectares']), kde=True, ax=ax)\n",
    "plt.xlabel(\"Agricultural Land in Hectares\")\n",
    "plt.show()"
   ],
   "outputs": [],
   "execution_count": null
  },
  {
   "cell_type": "code",
   "id": "882321eb502d8c0d",
   "metadata": {},
   "source": [
    "# Plot the correlation between agricultural land and export crop value\n",
    "fig, ax = plt.subplots(figsize=(15,9))\n",
    "\n",
    "plt.suptitle(\"Correlation between Agricultural Land and Export Crop Value\")\n",
    "temp = merged_df.groupby('Year').agg({\n",
    "    'Agricultural Land in Hectares': 'mean',\n",
    "    'Total Export Crop Value in 1000 US$': 'mean'\n",
    "}).reset_index()  # Resetting index to turn the grouped data back into a DataFrame\n",
    "\n",
    "sns.scatterplot(data=temp, x='Agricultural Land in Hectares', y='Total Export Crop Value in 1000 US$', ax=ax)\n",
    "sns.regplot(data=temp, x='Agricultural Land in Hectares', y='Total Export Crop Value in 1000 US$', ax=ax, scatter=False) # Line of best fit\n",
    "\n",
    "plt.xlabel(\"Agricultural Land in Hectares\")\n",
    "plt.ylabel(\"Export Crop Value in 1000 US$\")\n",
    "plt.show()"
   ],
   "outputs": [],
   "execution_count": null
  },
  {
   "cell_type": "markdown",
   "id": "147e0cabea89265d",
   "metadata": {},
   "source": [
    "## 4.7 Food Balances Analysis\n",
    "\n",
    "In this section, I will perform exploratory data analysis on the food balances data. I will explore the following:\n",
    "- Mean import and export quantity over the years for all countries by crop type\n",
    "- Distribution of import and export quantity\n",
    "- Import and export quantity correlation with export crop value\n",
    "- Frequency of items"
   ]
  },
  {
   "cell_type": "code",
   "id": "a9a3df8c2e329c28",
   "metadata": {},
   "source": [
    "# Prepare the data for analysis\n",
    "food_balances_imports_mean = food_balances_imports_df.groupby(['Year', 'Item'])['Total Import Quantity in Tonnes'].mean()\n",
    "food_balances_exports_mean = food_balances_exports_df.groupby(['Year', 'Item'])['Total Export Quantity in Tonnes'].mean()\n",
    "non_zero_food_balances_imports = food_balances_imports_df[food_balances_imports_df['Total Import Quantity in Tonnes'] > 0]\n",
    "non_zero_food_balances_exports = food_balances_exports_df[food_balances_exports_df['Total Export Quantity in Tonnes'] > 0]"
   ],
   "outputs": [],
   "execution_count": null
  },
  {
   "cell_type": "code",
   "id": "6b4a1dcc701b589d",
   "metadata": {},
   "source": [
    "# Plot the mean import quantity over the years\n",
    "fig, ax = plt.subplots(figsize=(15,9))\n",
    "\n",
    "plt.suptitle(\"Mean Import Quantity Over the Years for all Countries by Crop Type\")\n",
    "\n",
    "food_balances_imports_mean.unstack().plot(ax=ax)\n",
    "plt.xlabel(\"Year\")\n",
    "plt.ylabel(\"Mean Import Quantity in Tonnes\")\n",
    "plt.show()"
   ],
   "outputs": [],
   "execution_count": null
  },
  {
   "cell_type": "code",
   "id": "a9d3e25934f832c8",
   "metadata": {},
   "source": [
    "# Plot the mean export quantity over the years\n",
    "fig, ax = plt.subplots(figsize=(15,9))\n",
    "\n",
    "plt.suptitle(\"Mean Export Quantity Over the Years for all Countries by Crop Type\")\n",
    "\n",
    "food_balances_exports_mean.unstack().plot(ax=ax)\n",
    "plt.xlabel(\"Year\")\n",
    "plt.ylabel(\"Mean Export Quantity in Tonnes\")\n",
    "plt.show()"
   ],
   "outputs": [],
   "execution_count": null
  },
  {
   "cell_type": "code",
   "id": "1b0050562ba4bfe5",
   "metadata": {},
   "source": [
    "# Plot the log1p distribution of import quantity\n",
    "fig, ax = plt.subplots(figsize=(15,9))\n",
    "\n",
    "plt.suptitle(\"Log Distribution of Import Quantity\")\n",
    "\n",
    "sns.histplot(np.log1p(non_zero_food_balances_imports['Total Import Quantity in Tonnes']), kde=True, ax=ax)\n",
    "plt.xlabel(\"Import Quantity in Tonnes\")\n",
    "plt.show()"
   ],
   "outputs": [],
   "execution_count": null
  },
  {
   "cell_type": "code",
   "id": "1e61026a31360b8c",
   "metadata": {},
   "source": [
    "# Plot the log1p distribution of export quantity\n",
    "fig, ax = plt.subplots(figsize=(15,9))\n",
    "\n",
    "plt.suptitle(\"Log Distribution of Export Quantity\")\n",
    "\n",
    "sns.histplot(np.log1p(non_zero_food_balances_exports['Total Export Quantity in Tonnes']), kde=True, ax=ax)\n",
    "plt.xlabel(\"Export Quantity in Tonnes\")\n",
    "plt.show()"
   ],
   "outputs": [],
   "execution_count": null
  },
  {
   "cell_type": "code",
   "id": "ef1b9213c2b118c5",
   "metadata": {},
   "source": [
    "# Plot the correlation between import quantity and export quantity\n",
    "fig, ax = plt.subplots(figsize=(15,9))\n",
    "\n",
    "plt.suptitle(\"Correlation between Import Quantity and Export Quantity\")\n",
    "\n",
    "temp = merged_df.groupby('Year').agg({\n",
    "    'Total Import Quantity in Tonnes': 'mean',\n",
    "    'Total Export Quantity in Tonnes': 'mean'\n",
    "}).reset_index()  # Resetting index to turn the grouped data back into a DataFrame\n",
    "\n",
    "sns.scatterplot(data=temp, x='Total Import Quantity in Tonnes', y='Total Export Quantity in Tonnes', ax=ax)\n",
    "sns.regplot(data=temp, x='Total Import Quantity in Tonnes', y='Total Export Quantity in Tonnes', ax=ax, scatter=False) # Line of best fit\n",
    "\n",
    "plt.xlabel(\"Import Quantity in Tonnes\")\n",
    "plt.ylabel(\"Export Quantity in Tonnes\")\n",
    "plt.show()"
   ],
   "outputs": [],
   "execution_count": null
  },
  {
   "cell_type": "code",
   "id": "a847f5946ced6ba5",
   "metadata": {},
   "source": [
    "# Plot the correlation between import quantity and export crop value\n",
    "fig, ax = plt.subplots(figsize=(15,9))\n",
    "\n",
    "plt.suptitle(\"Correlation between Import Quantity and Export Crop Value\")\n",
    "temp = merged_df.groupby('Year').agg({\n",
    "    'Total Import Quantity in Tonnes': 'mean',\n",
    "    'Total Export Crop Value in 1000 US$': 'mean'\n",
    "}).reset_index()  # Resetting index to turn the grouped data back into a DataFrame\n",
    "\n",
    "sns.scatterplot(data=temp, x='Total Import Quantity in Tonnes', y='Total Export Crop Value in 1000 US$', ax=ax)\n",
    "sns.regplot(data=temp, x='Total Import Quantity in Tonnes', y='Total Export Crop Value in 1000 US$', ax=ax, scatter=False) # Line of best fit\n",
    "\n",
    "plt.xlabel(\"Import Quantity in Tonnes\")\n",
    "plt.ylabel(\"Export Crop Value in 1000 US$\")\n",
    "plt.show()"
   ],
   "outputs": [],
   "execution_count": null
  },
  {
   "cell_type": "code",
   "id": "36651c8fa47439e2",
   "metadata": {},
   "source": [
    "# Plot the correlation between export quantity and export crop value\n",
    "fig, ax = plt.subplots(figsize=(15,9))\n",
    "\n",
    "plt.suptitle(\"Correlation between Export Quantity and Export Crop Value\")\n",
    "temp = merged_df.groupby('Year').agg({\n",
    "    'Total Export Quantity in Tonnes': 'mean',\n",
    "    'Total Export Crop Value in 1000 US$': 'mean'\n",
    "}).reset_index()  # Resetting index to turn the grouped data back into a DataFrame\n",
    "\n",
    "sns.scatterplot(data=temp, x='Total Export Quantity in Tonnes', y='Total Export Crop Value in 1000 US$', ax=ax)\n",
    "sns.regplot(data=temp, x='Total Export Quantity in Tonnes', y='Total Export Crop Value in 1000 US$', ax=ax, scatter=False) # Line of best fit\n",
    "\n",
    "plt.xlabel(\"Export Quantity in Tonnes\")\n",
    "plt.ylabel(\"Export Crop Value in 1000 US$\")\n",
    "\n",
    "plt.show()"
   ],
   "outputs": [],
   "execution_count": null
  },
  {
   "cell_type": "code",
   "id": "53e1488ad01dad22",
   "metadata": {},
   "source": [
    "# Plot frequency of items\n",
    "# Count the values and reset the index\n",
    "temp = food_balances_imports_df['Item'].value_counts().reset_index()\n",
    "temp.columns = ['Item', 'Frequency']  # Correctly naming the columns for clarity\n",
    "\n",
    "# Plotting\n",
    "fig, ax = plt.subplots(figsize=(15, 9))\n",
    "fig.suptitle('Frequency Count', size=30)\n",
    "\n",
    "# Using renamed columns\n",
    "graph = sns.barplot(x='Item', y='Frequency', data=temp, ax=ax, palette='viridis')\n",
    "\n",
    "# Adding text labels on bars\n",
    "for index, row in temp.iterrows():\n",
    "    graph.text(index, row['Frequency'], row['Frequency'], color='black', ha=\"center\")\n",
    "    \n",
    "plt.xlabel('Item', size=20)\n",
    "plt.ylabel('Frequency', size=20)\n",
    "plt.xticks(rotation=45) # Rotating the x-axis labels for better visibility\n",
    "\n",
    "plt.show()"
   ],
   "outputs": [],
   "execution_count": null
  },
  {
   "metadata": {},
   "cell_type": "markdown",
   "source": [
    "## 4.8 Exchange Rate Analysis\n",
    "\n",
    "In this section, I will perform exploratory data analysis on the exchange rate data. I will explore the following:\n",
    "- Mean exchange rate over the years for all countries\n",
    "- Exchange rate distribution\n",
    "- Exchange rate correlation with export crop value"
   ],
   "id": "5662112db0995c0"
  },
  {
   "metadata": {},
   "cell_type": "code",
   "source": [
    "# Prepare the data for analysis\n",
    "exchange_rate_mean = exchange_rate_df.groupby('Year')['Exchange Rate in National Currency per US Dollar'].mean()\n",
    "\n",
    "# Plot the mean exchange rate over the years\n",
    "fig, ax = plt.subplots(figsize=(15,9))\n",
    "\n",
    "plt.suptitle(\"Mean Exchange Rate Over the Years for all Countries\")\n",
    "\n",
    "exchange_rate_mean.plot(ax=ax)\n",
    "plt.xlabel(\"Year\")\n",
    "plt.ylabel(\"Mean Exchange Rate in National Currency per US Dollar\")\n",
    "\n",
    "plt.show()"
   ],
   "id": "768e6f6c2f32ee47",
   "outputs": [],
   "execution_count": null
  },
  {
   "metadata": {},
   "cell_type": "code",
   "source": [
    "# Plot the distribution of exchange rate\n",
    "fig, ax = plt.subplots(figsize=(15,9))\n",
    "\n",
    "plt.suptitle(\"Distribution of Exchange Rate\")\n",
    "\n",
    "sns.histplot(np.log1p(['Exchange Rate in National Currency per US Dollar']), kde=True, ax=ax)\n",
    "\n",
    "plt.xlabel(\"Exchange Rate in National Currency per US Dollar\")\n",
    "plt.show()"
   ],
   "id": "d0dc96e3395a29e7",
   "outputs": [],
   "execution_count": null
  },
  {
   "metadata": {},
   "cell_type": "code",
   "source": [
    "# Plot the correlation between exchange rate and export crop value\n",
    "fig, ax = plt.subplots(figsize=(15,9))\n",
    "\n",
    "plt.suptitle(\"Correlation between Exchange Rate and Export Crop Value\")\n",
    "temp = merged_df.groupby('Year').agg({\n",
    "    'Exchange Rate in National Currency per US Dollar': 'mean',\n",
    "    'Total Export Crop Value in 1000 US$': 'mean'\n",
    "}).reset_index()  # Resetting index to turn the grouped data back into a DataFrame\n",
    "\n",
    "sns.scatterplot(data=temp, x='Exchange Rate in National Currency per US Dollar', y='Total Export Crop Value in 1000 US$', ax=ax)\n",
    "sns.regplot(data=temp, x='Exchange Rate in National Currency per US Dollar', y='Total Export Crop Value in 1000 US$', ax=ax, scatter=False) # Line of best fit\n",
    "\n",
    "plt.xlabel(\"Exchange Rate in National Currency per US Dollar\")\n",
    "plt.ylabel(\"Export Crop Value in 1000 US$\")\n",
    "plt.show()"
   ],
   "id": "aa8a34e18b7cc77b",
   "outputs": [],
   "execution_count": null
  },
  {
   "cell_type": "markdown",
   "id": "2587f05ca3834f81",
   "metadata": {},
   "source": [
    "## 4.7 Merged Data Analysis\n",
    "\n",
    "In this section, I will perform exploratory data analysis on the merged data. I will explore the following:\n",
    "- Frequency of items\n",
    "- Correlation analysis"
   ]
  },
  {
   "cell_type": "markdown",
   "id": "f8d334892ff69673",
   "metadata": {},
   "source": [
    "## 4.7.1 Frequency of Items"
   ]
  },
  {
   "cell_type": "code",
   "id": "2f5a291485a1216",
   "metadata": {},
   "source": [
    "# Count the values and reset the index\n",
    "temp = merged_df['Item'].value_counts().reset_index()\n",
    "temp.columns = ['Item', 'Frequency']  # Correctly naming the columns for clarity\n",
    "\n",
    "# Plotting\n",
    "fig, ax = plt.subplots(figsize=(15, 9))\n",
    "fig.suptitle('Frequency Count', size=30)\n",
    "\n",
    "# Using renamed columns\n",
    "graph = sns.barplot(x='Item', y='Frequency', data=temp, ax=ax, palette='viridis')\n",
    "\n",
    "# Adding text labels on bars\n",
    "for index, row in temp.iterrows():\n",
    "    graph.text(index, row['Frequency'], row['Frequency'], color='black', ha=\"center\")   \n",
    "\n",
    "plt.xlabel('Item', size=20)\n",
    "plt.ylabel('Frequency', size=20)\n",
    "plt.xticks(rotation=45) # Rotating the x-axis labels for better visibility\n",
    "\n",
    "plt.show()"
   ],
   "outputs": [],
   "execution_count": null
  },
  {
   "cell_type": "markdown",
   "id": "30f1bdae96e3d831",
   "metadata": {},
   "source": []
  },
  {
   "cell_type": "markdown",
   "id": "889940bbd65a4b11",
   "metadata": {},
   "source": [
    "## 4.7.2 Correlation Analysis\n",
    "\n",
    "In this section, I will perform correlation analysis on the merged data. I will generate a correlation matrix and plot a heatmap to visualise the correlations between the variables."
   ]
  },
  {
   "cell_type": "code",
   "id": "3d359d293e078e68",
   "metadata": {},
   "source": [
    "# Generate a correlation matrix\n",
    "numeric_df = merged_df.select_dtypes(include=[np.number])\n",
    "correlation_matrix = numeric_df.corr()\n",
    "correlation_matrix"
   ],
   "outputs": [],
   "execution_count": null
  },
  {
   "cell_type": "code",
   "id": "3113e0af763f4471",
   "metadata": {},
   "source": [
    "# Plot a heatmap of the correlation matrix\n",
    "fig, ax = plt.subplots(figsize=(15,9))\n",
    "\n",
    "plt.suptitle(\"Correlation Heatmap\")\n",
    "\n",
    "sns.heatmap(correlation_matrix, annot=True, ax=ax)\n",
    "plt.show()"
   ],
   "outputs": [],
   "execution_count": null
  },
  {
   "cell_type": "code",
   "id": "cd8b5f0c732c93d8",
   "metadata": {},
   "source": [
    "# Print the correlation values with the target variable\n",
    "correlation_matrix['Total Export Crop Value in 1000 US$'].sort_values(ascending=False)"
   ],
   "outputs": [],
   "execution_count": null
  },
  {
   "cell_type": "markdown",
   "id": "5195a01e6bf224a2",
   "metadata": {},
   "source": [
    "# 5. Feature Selection and Engineering\n",
    "\n"
   ]
  },
  {
   "cell_type": "markdown",
   "id": "f68ffc8e7d7e0685",
   "metadata": {},
   "source": [
    "# 5. Data Preprocessing\n",
    "\n",
    "In this section, I will preprocess the data for machine learning. I will perform the following steps:\n",
    "- Log Transform the Numeric Variables\n",
    "- Remove Outliers using the Z-score method with a threshold of 3"
   ]
  },
  {
   "cell_type": "markdown",
   "id": "4a5ddc86943bf4f",
   "metadata": {},
   "source": [
    "## 5.1 Log Transform the Numeric Variables\n",
    "\n",
    "In this section, I will log transform the numeric variables in the merged data."
   ]
  },
  {
   "cell_type": "code",
   "id": "b2391a08624ac81",
   "metadata": {},
   "source": [
    "# Plot histograms to observe distributions\n",
    "merged_df.select_dtypes(include=[np.number]).drop('Year', axis=1).hist(bins=30, figsize=(15, 10))\n",
    "plt.show()"
   ],
   "outputs": [],
   "execution_count": null
  },
  {
   "cell_type": "code",
   "id": "e710aa19c1480fe8",
   "metadata": {},
   "source": [
    "# Select the names of numeric columns, ensuring 'Year' is excluded\n",
    "numeric_cols = merged_df.select_dtypes(include=[np.number]).columns\n",
    "numeric_cols = numeric_cols.drop(['Year'])\n",
    "# Apply np.log1p to all selected numeric columns\n",
    "merged_df[numeric_cols] = merged_df[numeric_cols].apply(np.log1p)"
   ],
   "outputs": [],
   "execution_count": null
  },
  {
   "cell_type": "code",
   "id": "da0e71964ff2e56",
   "metadata": {},
   "source": [
    "# Display the first few rows of the merged data\n",
    "merged_df.describe()"
   ],
   "outputs": [],
   "execution_count": null
  },
  {
   "cell_type": "markdown",
   "id": "3a5bd5261f2abb0e",
   "metadata": {},
   "source": [
    "## 5.2 Remove Outliers\n",
    "\n",
    "In this section, I will remove outliers from the merged data using the Z-score method with a threshold of 3. I will remove rows with Z-scores greater than 3."
   ]
  },
  {
   "cell_type": "code",
   "id": "a2114a575aeb6526",
   "metadata": {},
   "source": [
    "import numpy as np\n",
    "from scipy import stats"
   ],
   "outputs": [],
   "execution_count": null
  },
  {
   "cell_type": "code",
   "id": "531cbbcd33d63c63",
   "metadata": {},
   "source": [
    "# Calculate the Z-scores\n",
    "z_scores = np.abs(stats.zscore(merged_df.select_dtypes(include=[np.number]).drop(['Year'], axis=1)))\n",
    "z_scores"
   ],
   "outputs": [],
   "execution_count": null
  },
  {
   "cell_type": "code",
   "id": "7717f5af6980a768",
   "metadata": {},
   "source": [
    "# Remove rows with Z-scores greater than 3\n",
    "merged_df = merged_df[(z_scores < 3).all(axis=1)]\n",
    "# Display the shape of the merged data (8070, 9)\n",
    "merged_df.shape"
   ],
   "outputs": [],
   "execution_count": null
  },
  {
   "cell_type": "code",
   "id": "facf074c804a2e11",
   "metadata": {},
   "source": [
    "# Display the distribution of the variables after removing outliers\n",
    "merged_df.hist(figsize=(15, 9), bins=30) \n",
    "plt.tight_layout()\n",
    "plt.show()"
   ],
   "outputs": [],
   "execution_count": null
  },
  {
   "cell_type": "markdown",
   "id": "47f43847bd3c1839",
   "metadata": {},
   "source": [
    "# 7. Multi-Layer Perceptron (MLP) Model\n",
    "\n",
    "In this section, I will build a Multi-Layer Perceptron (MLP) model to predict the total export crop value in 1000 US$ using the merged data. I will perform the following steps:\n",
    "- Split the data into features and target variable\n",
    "- Split the data into training and testing sets\n",
    "- Encode the categorical variables (Item and Area)\n",
    "- Scale the features\n",
    "- Train the MLPRegressor\n",
    "- Predict on the test set\n",
    "- Evaluate the model\n",
    "- Plot the results"
   ]
  },
  {
   "cell_type": "markdown",
   "id": "78bf7936551798d7",
   "metadata": {},
   "source": [
    "## 7.1 Preprocess Data\n",
    "\n",
    "In this section, I will preprocess the data for the MLPRegressor model using a function. I will perform the following steps:\n",
    "- Separate the features and target variable\n",
    "- Scale the numeric features\n",
    "- Encode the categorical features\n",
    "- Combine the numeric and categorical features back into a single array\n",
    "- Return the processed data"
   ]
  },
  {
   "cell_type": "code",
   "id": "25554cb62c2038c3",
   "metadata": {},
   "source": [
    "import numpy as np\n",
    "from sklearn.preprocessing import StandardScaler, OneHotEncoder\n",
    "# Split the data into features and target variable sorted by year\n",
    "df = merged_df.sort_values('Year')\n",
    "X = df.drop(columns=['Total Export Crop Value in 1000 US$'])\n",
    "y = df['Total Export Crop Value in 1000 US$']\n",
    "\n",
    "# Initialize scalers and encoders\n",
    "scaler = StandardScaler()\n",
    "encoder = OneHotEncoder(sparse_output=False ,handle_unknown='ignore')\n",
    "\n",
    "def preprocess_data(X, scaler, encoder, fit=False):\n",
    "    # Define numeric and categorical features\n",
    "    numeric_features = ['Total Fertiliser Use in Tonnes', 'Total Pesticides Use in Tonnes', \n",
    "                        'Agricultural Land in Hectares', 'Total Import Crop Value in 1000 US$', 'Temperature Change in Degrees Celsius', 'Total Import Quantity in Tonnes', 'Total Export Quantity in Tonnes']\n",
    "    categorical_features = ['Area', 'Item']\n",
    "    \n",
    "    # Separate features\n",
    "    X_numeric = X[numeric_features]\n",
    "    X_categorical = X[categorical_features]\n",
    "    \n",
    "    # Scale numeric features and encode categorical features\n",
    "    if fit:\n",
    "        X_numeric_scaled = scaler.fit_transform(X_numeric)\n",
    "        # When fitting, we also obtain the feature names from the encoder\n",
    "        X_categorical_encoded = encoder.fit_transform(X_categorical)\n",
    "        categorical_feature_names = encoder.get_feature_names_out(categorical_features)\n",
    "    else:\n",
    "        X_numeric_scaled = scaler.transform(X_numeric)\n",
    "        X_categorical_encoded = encoder.transform(X_categorical)\n",
    "        categorical_feature_names = encoder.get_feature_names_out(categorical_features)\n",
    "    \n",
    "    # Convert numpy arrays back to DataFrame to retain column names\n",
    "    X_numeric_df = pd.DataFrame(X_numeric_scaled, columns=numeric_features, index=X.index)\n",
    "    X_categorical_df = pd.DataFrame(X_categorical_encoded, columns=categorical_feature_names, index=X.index)\n",
    "    \n",
    "    # Concatenate numeric and categorical DataFrames along the columns\n",
    "    X_processed = pd.concat([X_numeric_df, X_categorical_df], axis=1)\n",
    "    \n",
    "    return X_processed\n"
   ],
   "outputs": [],
   "execution_count": null
  },
  {
   "cell_type": "markdown",
   "id": "3e36e8b839ad0176",
   "metadata": {},
   "source": [
    "## 7.2 Time Series Split and Model Training\n",
    "\n",
    "In this section, I will split the data into training and testing sets using a time series split. I will then preprocess the data using the preprocess_data function and train the MLPRegressor model."
   ]
  },
  {
   "cell_type": "code",
   "id": "bec838193cbf44b4",
   "metadata": {},
   "source": [
    "from sklearn.model_selection import TimeSeriesSplit\n",
    "from sklearn.neural_network import MLPRegressor\n",
    "from sklearn.metrics import mean_absolute_error\n",
    "\n",
    "# Define model\n",
    "model = MLPRegressor(random_state=42, max_iter=1000, activation = 'relu', alpha= 0.001, hidden_layer_sizes = (300,), learning_rate = 'constant', solver = 'sgd')\n",
    "\n",
    "# TimeSeriesSplit setup\n",
    "tscv = TimeSeriesSplit(n_splits=5)\n",
    "\n",
    "# Assuming 'X' and 'y' are already defined and are appropriate DataFrame and Series\n",
    "for train_index, test_index in tscv.split(X):\n",
    "    X_train, X_test = X.iloc[train_index], X.iloc[test_index]\n",
    "    y_train, y_test = y.iloc[train_index], y.iloc[test_index]\n",
    "\n",
    "    # Preprocess data\n",
    "    X_train_processed = preprocess_data(X_train, scaler, encoder, fit=True)\n",
    "    X_test_processed = preprocess_data(X_test, scaler, encoder, fit=False)\n",
    "\n",
    "    # Train the model\n",
    "    model.fit(X_train_processed, y_train)\n",
    "\n",
    "    # Make predictions\n",
    "    y_pred = model.predict(X_test_processed)\n",
    "\n",
    "    # Calculate and print the mean absolute error\n",
    "    mae = mean_absolute_error(y_test, y_pred)\n",
    "    print(f\"Mean Absolute Error: {mae}\")\n"
   ],
   "outputs": [],
   "execution_count": null
  },
  {
   "cell_type": "markdown",
   "id": "da10d40b3c74ab05",
   "metadata": {},
   "source": [
    "## 7.6 Plot the Results\n",
    "\n",
    "In this section, I will plot the results of the MLPRegressor model. I will use the following plots:\n",
    "- Scatter plot of predicted vs actual total export crop value\n",
    "- Density plot of actual vs predicted values\n",
    "- Scatter plots of predicted vs actual total export crop value by item"
   ]
  },
  {
   "cell_type": "markdown",
   "id": "7c9bf1985bfaa753",
   "metadata": {},
   "source": [
    "### 7.6.1 Scatter Plot of Predicted vs Actual Total Export Crop Value"
   ]
  },
  {
   "cell_type": "code",
   "id": "a8775bdb1c9102d5",
   "metadata": {},
   "source": [
    "# Plotting the results as a scatter plot\n",
    "fig, ax = plt.subplots(figsize=(15,9))\n",
    "plt.suptitle(\"Predicted vs Actual Total Export Crop Value in 1000 US$\")\n",
    "sns.scatterplot(x=y_test, y=y_pred, ax=ax)\n",
    "# Add a line for predicted values\n",
    "plt.plot([y_test.min(), y_test.max()], [y_test.min(), y_test.max()], color='red', lw=3)\n",
    "plt.xlabel(\"Actual Total Export Crop Value in 1000 US$\")\n",
    "plt.ylabel(\"Predicted Total Export Crop Value in 1000 US$\")\n",
    "plt.show()"
   ],
   "outputs": [],
   "execution_count": null
  },
  {
   "cell_type": "markdown",
   "id": "a8c9c7f841573adc",
   "metadata": {},
   "source": [
    "### 7.6.2 Density Plot of Actual vs Predicted Values"
   ]
  },
  {
   "cell_type": "code",
   "id": "c93eb930ade1f9f1",
   "metadata": {},
   "source": [
    "# Plot the density plot of actual vs predicted values\n",
    "plt.figure(figsize=(10, 6))\n",
    "sns.kdeplot(y_test, label='Actual', color='blue', linewidth=3)\n",
    "sns.kdeplot(y_pred, label='Predicted', color='red', linewidth=3)\n",
    "plt.title('Density Plot of Actual vs Predicted Values')\n",
    "plt.xlabel('Value')\n",
    "plt.ylabel('Density')\n",
    "plt.legend()\n",
    "plt.show()"
   ],
   "outputs": [],
   "execution_count": null
  },
  {
   "cell_type": "markdown",
   "id": "1dfb1b6b99398687",
   "metadata": {},
   "source": [
    "### 7.6.3 Scatter Plots of Predicted vs Actual Total Export Crop Value by Item"
   ]
  },
  {
   "cell_type": "code",
   "id": "5271953980fb111b",
   "metadata": {},
   "source": [
    "import pandas as pd\n",
    "import matplotlib.pyplot as plt\n",
    "import seaborn as sns\n",
    "\n",
    "# Convert output to a pandas Series for easy manipulation\n",
    "y_pred_series = pd.Series(y_pred, index=y_test.index)\n",
    "\n",
    "# Get only 'Item_' columns, filtering out any 'Area_' prefixed columns\n",
    "unique_items = [col for col in X_test_processed.columns if 'Item_' in col and 'Area_' not in col]\n",
    "\n",
    "# Calculate number of plots\n",
    "n_items = len(unique_items)\n",
    "cols = 3\n",
    "rows = int(np.ceil(n_items / cols))\n",
    "\n",
    "# Set up the plotting grid\n",
    "fig, axes = plt.subplots(rows, cols, figsize=(15, rows * 5))\n",
    "fig.suptitle(\"Predicted vs Actual Total Export Crop Value in 1000 US$ by Item\", fontsize=16)\n",
    "\n",
    "# Iterate over each unique item for plotting\n",
    "for i, item in enumerate(unique_items):\n",
    "    if i < len(axes.flatten()): # Check if the subplot index exists\n",
    "        ax = axes.flatten()[i]\n",
    "        # Create a mask to filter data for the current item\n",
    "        mask = X_test_processed[item].astype(bool)\n",
    "        # Plotting actual vs. predicted values using the mask\n",
    "        sns.scatterplot(x=y_test[mask], y=y_pred_series[mask], ax=ax)\n",
    "        ax.plot([y_test[mask].min(), y_test[mask].max()], [y_test[mask].min(), y_test[mask].max()], color='red', lw=2)  # Identity line for perfect prediction\n",
    "        ax.set_title(item.replace('Item_', ''))  # Clean up item names\n",
    "        ax.set_xlabel(\"Actual Value\")\n",
    "        ax.set_ylabel(\"Predicted Value\")\n",
    "\n",
    "# Hide unused subplots if there are any remaining slots in the grid\n",
    "for j in range(i + 1, rows * cols):\n",
    "    if j < len(axes.flatten()):  # Check if the subplot index exists\n",
    "        axes.flatten()[j].set_visible(False)\n",
    "\n",
    "plt.tight_layout()\n",
    "plt.show()\n"
   ],
   "outputs": [],
   "execution_count": null
  },
  {
   "cell_type": "markdown",
   "id": "434535f8d3396f9d",
   "metadata": {},
   "source": []
  },
  {
   "cell_type": "markdown",
   "id": "511743b1b5b5d0fb",
   "metadata": {},
   "source": [
    "## 7.7 Check for Overfitting\n",
    "\n",
    "In this section, I will check for overfitting in the MLPRegressor model by comparing the training and testing scores. If the training score is significantly higher than the testing score, it indicates overfitting.\n"
   ]
  },
  {
   "cell_type": "code",
   "id": "98e3f8a9358dff7c",
   "metadata": {},
   "source": [
    "# Get the training score\n",
    "training_score = model.score(X_train_processed, y_train)\n",
    "print(f'Training Score: {training_score}')\n",
    "\n",
    "# Get the testing score\n",
    "testing_score = model.score(X_test_processed, y_test)\n",
    "print(f'Testing Score: {testing_score}')\n",
    "\n",
    "# Check for overfitting\n",
    "if training_score - testing_score > 0.1:\n",
    "    print('The model is overfitting')\n",
    "else:\n",
    "    print('The model is not overfitting')"
   ],
   "outputs": [],
   "execution_count": null
  },
  {
   "cell_type": "markdown",
   "id": "6be757179696d00d",
   "metadata": {},
   "source": [
    "## 7.8 Hyperparameter Tuning\n",
    "\n",
    "In this section, I will perform hyperparameter tuning on the MLPRegressor model using GridSearchCV. I will tune the following hyperparameters:\n",
    "- Hidden Layer Sizes\n",
    "- Activation Function\n",
    "- Solver\n",
    "- Alpha\n",
    "- Learning Rate\n",
    "- Max Iterations"
   ]
  },
  {
   "cell_type": "code",
   "id": "680fd47f777ee356",
   "metadata": {},
   "source": [
    "# from sklearn.model_selection import GridSearchCV\n",
    "# # Define the parameter grid\n",
    "# param_grid = {\n",
    "#     'hidden_layer_sizes': [(100,), (200,), (300,)],\n",
    "#     'activation': ['relu', 'tanh'],\n",
    "#     'solver': ['adam', 'sgd'],\n",
    "#     'alpha': [0.0001, 0.001, 0.01],\n",
    "#     'learning_rate': ['constant', 'adaptive'],\n",
    "#     'max_iter': [1000, 2000, 3000]\n",
    "# }\n",
    "# \n",
    "# # Initialize the GridSearchCV object\n",
    "# grid_search = GridSearchCV(estimator=mlp, param_grid=param_grid, cv=3, n_jobs=-1, verbose=4)\n",
    "# # Perform the grid search\n",
    "# grid_search.fit(X_train_scaled, y_train)\n",
    "# # Get the best parameters\n",
    "# best_params = grid_search.best_params_\n",
    "# print(f'Best Parameters: {best_params}')\n",
    "# # Get the best model\n",
    "# best_model = grid_search.best_estimator_\n",
    "# # Predict on the test set\n",
    "# y_pred_best = best_model.predict(X_test_scaled)\n",
    "# # Evaluate the best model\n",
    "# r2_score_best = best_model.score(X_test_scaled, y_test)\n",
    "# print(f'R^2 Score of Best Model: {r2_score_best}')\n",
    "# \n",
    "# # Get the training score of the best model\n",
    "# training_score_best = best_model.score(X_train_scaled, y_train)\n",
    "# print(f'Training Score of Best Model: {training_score_best}')\n"
   ],
   "outputs": [],
   "execution_count": null
  },
  {
   "cell_type": "markdown",
   "id": "b848acd10d7a3204",
   "metadata": {},
   "source": [
    "## 7.9 Save and Load the Model\n",
    "\n",
    "In this section, I will save the trained MLPRegressor model to a file and load it back to make predictions."
   ]
  },
  {
   "cell_type": "code",
   "id": "39a8082ef74ffea8",
   "metadata": {},
   "source": [
    "# Save the model to a file\n",
    "import joblib\n",
    "joblib.dump(model, 'mlp_model.pkl')"
   ],
   "outputs": [],
   "execution_count": null
  },
  {
   "cell_type": "code",
   "id": "5ac91b3d398c6a3",
   "metadata": {},
   "source": [
    "# Load the model from the file\n",
    "model = joblib.load('mlp_model.pkl')\n",
    "# Make predictions\n",
    "y_pred_loaded = model.predict(X_test_processed)\n",
    "# Calculate and print the mean absolute error\n",
    "mae_loaded = mean_absolute_error(y_test, y_pred_loaded)\n",
    "print(f\"Mean Absolute Error of Loaded Model: {mae_loaded}\")\n",
    "# Calculate and print the R^2 score\n",
    "r2_score_loaded = model.score(X_test_processed, y_test)\n",
    "print(f\"R^2 Score of Loaded Model: {r2_score_loaded}\")"
   ],
   "outputs": [],
   "execution_count": null
  },
  {
   "cell_type": "markdown",
   "id": "96906273404eaffa",
   "metadata": {},
   "source": []
  }
 ],
 "metadata": {
  "kernelspec": {
   "display_name": "Python 3 (ipykernel)",
   "language": "python",
   "name": "python3"
  },
  "language_info": {
   "codemirror_mode": {
    "name": "ipython",
    "version": 3
   },
   "file_extension": ".py",
   "mimetype": "text/x-python",
   "name": "python",
   "nbconvert_exporter": "python",
   "pygments_lexer": "ipython3",
   "version": "3.12.0"
  }
 },
 "nbformat": 4,
 "nbformat_minor": 5
}
