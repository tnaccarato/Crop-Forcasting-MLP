{
 "cells": [
  {
   "cell_type": "markdown",
   "source": [
    "# Importing Libraries\n",
    "\n",
    "Import the necessary libraries for the project such as pandas, numpy, matplotlib, pytorch and sklearn."
   ],
   "metadata": {
    "collapsed": false
   },
   "id": "fa02f743db731c57"
  },
  {
   "cell_type": "code",
   "execution_count": 7,
   "id": "30862d6a3698f9d1",
   "metadata": {
    "collapsed": false,
    "ExecuteTime": {
     "end_time": "2024-03-29T18:26:11.802182Z",
     "start_time": "2024-03-29T18:26:11.799662Z"
    }
   },
   "outputs": [],
   "source": [
    "import pandas as pd\n",
    "import numpy as np\n",
    "import matplotlib.pyplot as plt\n",
    "import torch as pyt\n",
    "import sklearn as sk\n",
    "from IPython import display"
   ]
  },
  {
   "cell_type": "markdown",
   "source": [
    "# Loading the Data\n",
    "\n",
    "Load the data from the csv file and display the first 5 rows of the data."
   ],
   "metadata": {
    "collapsed": false
   },
   "id": "89c8639551d1c89f"
  },
  {
   "cell_type": "code",
   "outputs": [],
   "source": [
    "from IPython.display import display\n",
    "\n",
    "# Reading Consumer prices indicators data\n",
    "consumer_prices_indicators = pd.read_csv('Data/Consumer prices indicators - FAOSTAT_data_en_2-22-2024.csv')\n",
    "# Reading Crops production indicators data\n",
    "crops_production_indicators = pd.read_csv('Data/Crops production indicators - FAOSTAT_data_en_2-22-2024.csv')\n",
    "\n",
    "# Reading Emissions data\n",
    "emissions = pd.read_csv('Data/Emissions - FAOSTAT_data_en_2-27-2024.csv')\n",
    "# Reading Employment data\n",
    "employment = pd.read_csv('Data/Employment - FAOSTAT_data_en_2-27-2024.csv')\n",
    "# Reading Exchange rate data\n",
    "exchange_rate = pd.read_csv('Data/Exchange rate - FAOSTAT_data_en_2-22-2024.csv')\n",
    "# Reading Fertilizers use data\n",
    "fertilizers_use = pd.read_csv('Data/Fertilizers use - FAOSTAT_data_en_2-27-2024.csv')\n",
    "# Reading Food balances indicators data\n",
    "food_balances_indicators = pd.read_csv('Data/Food balances indicators - FAOSTAT_data_en_2-22-2024.csv')\n",
    "# Reading Food security indicators data\n",
    "food_security_indicators = pd.read_csv('Data/Food security indicators  - FAOSTAT_data_en_2-22-2024.csv')\n",
    "# Reading Food trade indicators data\n",
    "food_trade_indicators = pd.read_csv('Data/Food trade indicators - FAOSTAT_data_en_2-22-2024.csv')\n",
    "# Reading Foreign direct investment data\n",
    "foreign_direct_investment = pd.read_csv('Data/Foreign direct investment - FAOSTAT_data_en_2-27-2024.csv')\n",
    "# Reading Land temperature change data\n",
    "land_temperature_change = pd.read_csv('Data/Land temperature change - FAOSTAT_data_en_2-27-2024.csv')\n",
    "# Reading Land use data\n",
    "land_use = pd.read_csv('Data/Land use - FAOSTAT_data_en_2-22-2024.csv', low_memory=False)\n",
    "# Reading Pesticides use data\n",
    "pesticides_use = pd.read_csv('Data/Pesticides use - FAOSTAT_data_en_2-27-2024.csv')"
   ],
   "metadata": {
    "collapsed": false
   },
   "id": "5cae92aac2cb3e9c",
   "execution_count": null
  },
  {
   "cell_type": "markdown",
   "source": [
    "# Preprocessing the Data\n",
    "\n",
    "Preprocess the data by removing the columns that are not needed, separating datasets into manageable categories, filling or removing the missing values and normalizing the data."
   ],
   "metadata": {
    "collapsed": false
   },
   "id": "580dc514d7d90914"
  },
  {
   "cell_type": "code",
   "outputs": [
    {
     "name": "stderr",
     "output_type": "stream",
     "text": [
      "C:\\Users\\tomna\\AppData\\Local\\Temp\\ipykernel_12720\\2994659622.py:3: SettingWithCopyWarning: \n",
      "A value is trying to be set on a copy of a slice from a DataFrame\n",
      "\n",
      "See the caveats in the documentation: https://pandas.pydata.org/pandas-docs/stable/user_guide/indexing.html#returning-a-view-versus-a-copy\n",
      "  inflation_data.drop(columns=['Note'], inplace=True)\n",
      "C:\\Users\\tomna\\AppData\\Local\\Temp\\ipykernel_12720\\2994659622.py:4: SettingWithCopyWarning: \n",
      "A value is trying to be set on a copy of a slice from a DataFrame\n",
      "\n",
      "See the caveats in the documentation: https://pandas.pydata.org/pandas-docs/stable/user_guide/indexing.html#returning-a-view-versus-a-copy\n",
      "  indices_data.drop(columns=['Note'], inplace=True)\n"
     ]
    },
    {
     "data": {
      "text/plain": "  Domain Code                              Domain  Area Code (M49)  \\\n0         OEA  Employment Indicators: Agriculture                4   \n1         OEA  Employment Indicators: Agriculture                4   \n2         OEA  Employment Indicators: Agriculture                4   \n3         OEA  Employment Indicators: Agriculture                4   \n4         OEA  Employment Indicators: Agriculture                4   \n\n          Area  Indicator Code  \\\n0  Afghanistan           21150   \n1  Afghanistan           21150   \n2  Afghanistan           21144   \n3  Afghanistan           21144   \n4  Afghanistan           21144   \n\n                                           Indicator  Sex Code    Sex  \\\n0  Mean weekly hours actually worked per employed...         1  Total   \n1  Mean weekly hours actually worked per employed...         1  Total   \n2  Employment in agriculture, forestry and fishin...         1  Total   \n3  Employment in agriculture, forestry and fishin...         1  Total   \n4  Employment in agriculture, forestry and fishin...         1  Total   \n\n   Year Code  Year  Element Code Element  Source Code  \\\n0       2014  2014          6173   Value         3021   \n1       2017  2017          6173   Value         3021   \n2       2000  2000          6199   Value         3043   \n3       2001  2001          6199   Value         3043   \n4       2002  2002          6199   Value         3043   \n\n                                    Source     Unit    Value Flag  \\\n0  Household income and expenditure survey       No    31.68    X   \n1  Household income and expenditure survey       No    29.66    X   \n2             ILO - ILO Modelled Estimates  1000 No  2765.95    X   \n3             ILO - ILO Modelled Estimates  1000 No  2805.54    X   \n4             ILO - ILO Modelled Estimates  1000 No  2897.51    X   \n\n                          Flag Description  \n0  Figure from international organizations  \n1  Figure from international organizations  \n2  Figure from international organizations  \n3  Figure from international organizations  \n4  Figure from international organizations  ",
      "text/html": "<div>\n<style scoped>\n    .dataframe tbody tr th:only-of-type {\n        vertical-align: middle;\n    }\n\n    .dataframe tbody tr th {\n        vertical-align: top;\n    }\n\n    .dataframe thead th {\n        text-align: right;\n    }\n</style>\n<table border=\"1\" class=\"dataframe\">\n  <thead>\n    <tr style=\"text-align: right;\">\n      <th></th>\n      <th>Domain Code</th>\n      <th>Domain</th>\n      <th>Area Code (M49)</th>\n      <th>Area</th>\n      <th>Indicator Code</th>\n      <th>Indicator</th>\n      <th>Sex Code</th>\n      <th>Sex</th>\n      <th>Year Code</th>\n      <th>Year</th>\n      <th>Element Code</th>\n      <th>Element</th>\n      <th>Source Code</th>\n      <th>Source</th>\n      <th>Unit</th>\n      <th>Value</th>\n      <th>Flag</th>\n      <th>Flag Description</th>\n    </tr>\n  </thead>\n  <tbody>\n    <tr>\n      <th>0</th>\n      <td>OEA</td>\n      <td>Employment Indicators: Agriculture</td>\n      <td>4</td>\n      <td>Afghanistan</td>\n      <td>21150</td>\n      <td>Mean weekly hours actually worked per employed...</td>\n      <td>1</td>\n      <td>Total</td>\n      <td>2014</td>\n      <td>2014</td>\n      <td>6173</td>\n      <td>Value</td>\n      <td>3021</td>\n      <td>Household income and expenditure survey</td>\n      <td>No</td>\n      <td>31.68</td>\n      <td>X</td>\n      <td>Figure from international organizations</td>\n    </tr>\n    <tr>\n      <th>1</th>\n      <td>OEA</td>\n      <td>Employment Indicators: Agriculture</td>\n      <td>4</td>\n      <td>Afghanistan</td>\n      <td>21150</td>\n      <td>Mean weekly hours actually worked per employed...</td>\n      <td>1</td>\n      <td>Total</td>\n      <td>2017</td>\n      <td>2017</td>\n      <td>6173</td>\n      <td>Value</td>\n      <td>3021</td>\n      <td>Household income and expenditure survey</td>\n      <td>No</td>\n      <td>29.66</td>\n      <td>X</td>\n      <td>Figure from international organizations</td>\n    </tr>\n    <tr>\n      <th>2</th>\n      <td>OEA</td>\n      <td>Employment Indicators: Agriculture</td>\n      <td>4</td>\n      <td>Afghanistan</td>\n      <td>21144</td>\n      <td>Employment in agriculture, forestry and fishin...</td>\n      <td>1</td>\n      <td>Total</td>\n      <td>2000</td>\n      <td>2000</td>\n      <td>6199</td>\n      <td>Value</td>\n      <td>3043</td>\n      <td>ILO - ILO Modelled Estimates</td>\n      <td>1000 No</td>\n      <td>2765.95</td>\n      <td>X</td>\n      <td>Figure from international organizations</td>\n    </tr>\n    <tr>\n      <th>3</th>\n      <td>OEA</td>\n      <td>Employment Indicators: Agriculture</td>\n      <td>4</td>\n      <td>Afghanistan</td>\n      <td>21144</td>\n      <td>Employment in agriculture, forestry and fishin...</td>\n      <td>1</td>\n      <td>Total</td>\n      <td>2001</td>\n      <td>2001</td>\n      <td>6199</td>\n      <td>Value</td>\n      <td>3043</td>\n      <td>ILO - ILO Modelled Estimates</td>\n      <td>1000 No</td>\n      <td>2805.54</td>\n      <td>X</td>\n      <td>Figure from international organizations</td>\n    </tr>\n    <tr>\n      <th>4</th>\n      <td>OEA</td>\n      <td>Employment Indicators: Agriculture</td>\n      <td>4</td>\n      <td>Afghanistan</td>\n      <td>21144</td>\n      <td>Employment in agriculture, forestry and fishin...</td>\n      <td>1</td>\n      <td>Total</td>\n      <td>2002</td>\n      <td>2002</td>\n      <td>6199</td>\n      <td>Value</td>\n      <td>3043</td>\n      <td>ILO - ILO Modelled Estimates</td>\n      <td>1000 No</td>\n      <td>2897.51</td>\n      <td>X</td>\n      <td>Figure from international organizations</td>\n    </tr>\n  </tbody>\n</table>\n</div>"
     },
     "execution_count": 13,
     "metadata": {},
     "output_type": "execute_result"
    }
   ],
   "source": [
    "# Drop 'Note' and columns from Consumer prices indicators data\n",
    "consumer_prices_indicators.drop(columns=['Note'], inplace=True)\n",
    "# Separate inflation data from indices data\n",
    "inflation_data = consumer_prices_indicators[consumer_prices_indicators['Unit'] == '%']\n",
    "indices_data = consumer_prices_indicators[consumer_prices_indicators['Unit'].isnull()]\n",
    "\n",
    "# Drop 'Note' column from Emissions data\n",
    "emissions.drop(columns=['Note'], inplace=True)\n",
    "# Drop 'Note' column from Employment data\n",
    "employment.drop(columns=['Note'], inplace=True)\n",
    "# Separates ILO estimates from mean working hours data\n",
    "ilo_estimates = employment[employment['Indicator Code'] == '21144']\n",
    "mean_working_hours = employment[employment['Indicator Code'] == '21150']\n",
    "\n",
    "# Drop 'Unit' column from Exchange rate data\n",
    "exchange_rate.drop(columns=['Unit'], inplace=True)\n",
    "\n",
    "food_security_indicators.drop(columns=['Note'], inplace=True)\n",
    "# Drop 'Note' column from Food trade indicators data\n",
    "food_trade_indicators.drop(columns=['Note'], inplace=True)\n",
    "# Drop 'Note' column from Land use data\n",
    "land_use.drop(columns=['Note'], inplace=True)\n",
    "# Drop 'Note' column from Pesticides use data\n",
    "pesticides_use.drop(columns=['Note'], inplace=True)\n",
    "\n",
    "# Drop null values with flag O from land temperature change data\n",
    "land_temperature_change_cleaned = land_temperature_change[land_temperature_change['Flag'] != 'O']\n",
    "\n",
    "\n",
    "\n",
    "\n"
   ],
   "metadata": {
    "collapsed": false,
    "ExecuteTime": {
     "end_time": "2024-03-29T18:28:53.928241Z",
     "start_time": "2024-03-29T18:28:53.831565Z"
    }
   },
   "id": "a6032c8a116429e4",
   "execution_count": 13
  },
  {
   "cell_type": "code",
   "outputs": [],
   "source": [],
   "metadata": {
    "collapsed": false,
    "ExecuteTime": {
     "end_time": "2024-03-29T18:26:13.382633Z",
     "start_time": "2024-03-29T18:26:13.380611Z"
    }
   },
   "id": "a124412cf46417b1",
   "execution_count": 9
  }
 ],
 "metadata": {
  "kernelspec": {
   "display_name": "Python 3 (ipykernel)",
   "language": "python",
   "name": "python3"
  },
  "language_info": {
   "codemirror_mode": {
    "name": "ipython",
    "version": 3
   },
   "file_extension": ".py",
   "mimetype": "text/x-python",
   "name": "python",
   "nbconvert_exporter": "python",
   "pygments_lexer": "ipython3",
   "version": "3.12.0"
  }
 },
 "nbformat": 4,
 "nbformat_minor": 5
}
