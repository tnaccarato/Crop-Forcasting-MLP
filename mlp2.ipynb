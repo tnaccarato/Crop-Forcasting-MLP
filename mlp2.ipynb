{
 "cells": [
  {
   "metadata": {},
   "cell_type": "markdown",
   "source": [
    "# 1. Importing Libraries\n",
    "\n",
    "In this section, we will import the libraries that we will use in this project. We will import the following libraries:\n",
    "\n",
    "- numpy for numerical computing\n",
    "- pandas for data manipulation\n",
    "- matplotlib for plotting\n",
    "- seaborn for plotting\n",
    "- sklearn for machine learning\n",
    "- scipy for scientific computing"
   ],
   "id": "455906c20249aece"
  },
  {
   "cell_type": "code",
   "id": "initial_id",
   "metadata": {
    "collapsed": true,
    "ExecuteTime": {
     "end_time": "2024-04-24T15:35:35.825491Z",
     "start_time": "2024-04-24T15:35:35.823079Z"
    }
   },
   "source": [
    "# Imports\n",
    "import numpy as np\n",
    "import pandas as pd\n",
    "\n",
    "import sklearn\n",
    "import seaborn as sns\n",
    "import matplotlib.pyplot as plt"
   ],
   "outputs": [],
   "execution_count": 469
  },
  {
   "metadata": {},
   "cell_type": "markdown",
   "source": [
    "# 2. Loading the Data\n",
    "\n",
    "In this section, we will load the data that we will use in this project. We will load the data from the CSV files using the pandas library. We will load the data into a pandas DataFrame."
   ],
   "id": "c8ff7ddc9955cc4d"
  },
  {
   "metadata": {
    "ExecuteTime": {
     "end_time": "2024-04-24T15:35:36.290061Z",
     "start_time": "2024-04-24T15:35:35.840049Z"
    }
   },
   "cell_type": "code",
   "source": [
    "# Define path to data\n",
    "file_path = \"Data/\"\n",
    "\n",
    "# Load the data\n",
    "crop_yield_df = pd.read_csv(file_path + \"Crops production indicators - FAOSTAT_data_en_2-22-2024.csv\")\n",
    "fertiliser_use_df = pd.read_csv(file_path + \"Fertilizers use - FAOSTAT_data_en_2-27-2024.csv\")\n",
    "land_temperature_change_df = pd.read_csv(file_path + \"Land temperature change - FAOSTAT_data_en_2-27-2024.csv\")\n",
    "pesticides_use_df = pd.read_csv(file_path + \"Pesticides use - FAOSTAT_data_en_2-27-2024.csv\")\n",
    "crop_value_df = pd.read_csv(file_path + \"Food trade indicators - FAOSTAT_data_en_2-22-2024.csv\")\n",
    "land_use_df = pd.read_csv(file_path + \"Land use - FAOSTAT_data_en_2-22-2024.csv\")"
   ],
   "id": "654208013770ae79",
   "outputs": [
    {
     "name": "stderr",
     "output_type": "stream",
     "text": [
      "C:\\Users\\tomna\\AppData\\Local\\Temp\\ipykernel_58980\\4020878960.py:10: DtypeWarning: Columns (14) have mixed types. Specify dtype option on import or set low_memory=False.\n",
      "  land_use_df = pd.read_csv(file_path + \"Land use - FAOSTAT_data_en_2-22-2024.csv\")\n"
     ]
    }
   ],
   "execution_count": 470
  },
  {
   "metadata": {},
   "cell_type": "markdown",
   "source": [
    "# 3. Data Preparation\n",
    "\n",
    "In this section, we will prepare the data for analysis. For each of the dataframes, will perform the following steps:\n",
    "- Explore the data\n",
    "- Check for missing values\n",
    "- Check for duplicate rows\n",
    "- Drop unnecessary columns\n",
    "- Group data if necessary to get totals and averages"
   ],
   "id": "46174864d4eeaa9c"
  },
  {
   "metadata": {},
   "cell_type": "markdown",
   "source": "## 3.1. Crop Yield Data",
   "id": "bf362e0eba52b640"
  },
  {
   "metadata": {
    "ExecuteTime": {
     "end_time": "2024-04-24T15:35:36.327815Z",
     "start_time": "2024-04-24T15:35:36.291066Z"
    }
   },
   "cell_type": "code",
   "source": [
    "# Display the first few rows of the crop yield data\n",
    "crop_yield_df.head()\n",
    "\n",
    "# Check for missing values\n",
    "crop_yield_df.isnull().sum()\n",
    "\n",
    "# Check for duplicate rows\n",
    "crop_yield_df.duplicated().sum()\n",
    "\n",
    "# Drop unnecessary columns\n",
    "crop_yield_df = crop_yield_df.drop(columns=[\"Domain\", \"Domain Code\", \"Element Code\", \"Element\", \"Year Code\", \"Unit\", \"Flag\", \"Flag Description\", \"Note\"])\n",
    "\n",
    "#Display the first few rows of the crop yield data\n",
    "crop_yield_df.head()"
   ],
   "id": "239c734cd7776ab7",
   "outputs": [
    {
     "data": {
      "text/plain": [
       "   Area Code (M49)         Area Item Code (CPC)              Item  Year  Value\n",
       "0                4  Afghanistan           F1717  Cereals, primary  2000   8063\n",
       "1                4  Afghanistan           F1717  Cereals, primary  2001  10067\n",
       "2                4  Afghanistan           F1717  Cereals, primary  2002  16698\n",
       "3                4  Afghanistan           F1717  Cereals, primary  2003  14580\n",
       "4                4  Afghanistan           F1717  Cereals, primary  2004  13348"
      ],
      "text/html": [
       "<div>\n",
       "<style scoped>\n",
       "    .dataframe tbody tr th:only-of-type {\n",
       "        vertical-align: middle;\n",
       "    }\n",
       "\n",
       "    .dataframe tbody tr th {\n",
       "        vertical-align: top;\n",
       "    }\n",
       "\n",
       "    .dataframe thead th {\n",
       "        text-align: right;\n",
       "    }\n",
       "</style>\n",
       "<table border=\"1\" class=\"dataframe\">\n",
       "  <thead>\n",
       "    <tr style=\"text-align: right;\">\n",
       "      <th></th>\n",
       "      <th>Area Code (M49)</th>\n",
       "      <th>Area</th>\n",
       "      <th>Item Code (CPC)</th>\n",
       "      <th>Item</th>\n",
       "      <th>Year</th>\n",
       "      <th>Value</th>\n",
       "    </tr>\n",
       "  </thead>\n",
       "  <tbody>\n",
       "    <tr>\n",
       "      <th>0</th>\n",
       "      <td>4</td>\n",
       "      <td>Afghanistan</td>\n",
       "      <td>F1717</td>\n",
       "      <td>Cereals, primary</td>\n",
       "      <td>2000</td>\n",
       "      <td>8063</td>\n",
       "    </tr>\n",
       "    <tr>\n",
       "      <th>1</th>\n",
       "      <td>4</td>\n",
       "      <td>Afghanistan</td>\n",
       "      <td>F1717</td>\n",
       "      <td>Cereals, primary</td>\n",
       "      <td>2001</td>\n",
       "      <td>10067</td>\n",
       "    </tr>\n",
       "    <tr>\n",
       "      <th>2</th>\n",
       "      <td>4</td>\n",
       "      <td>Afghanistan</td>\n",
       "      <td>F1717</td>\n",
       "      <td>Cereals, primary</td>\n",
       "      <td>2002</td>\n",
       "      <td>16698</td>\n",
       "    </tr>\n",
       "    <tr>\n",
       "      <th>3</th>\n",
       "      <td>4</td>\n",
       "      <td>Afghanistan</td>\n",
       "      <td>F1717</td>\n",
       "      <td>Cereals, primary</td>\n",
       "      <td>2003</td>\n",
       "      <td>14580</td>\n",
       "    </tr>\n",
       "    <tr>\n",
       "      <th>4</th>\n",
       "      <td>4</td>\n",
       "      <td>Afghanistan</td>\n",
       "      <td>F1717</td>\n",
       "      <td>Cereals, primary</td>\n",
       "      <td>2004</td>\n",
       "      <td>13348</td>\n",
       "    </tr>\n",
       "  </tbody>\n",
       "</table>\n",
       "</div>"
      ]
     },
     "execution_count": 471,
     "metadata": {},
     "output_type": "execute_result"
    }
   ],
   "execution_count": 471
  },
  {
   "metadata": {},
   "cell_type": "markdown",
   "source": "## 3.2. Fertiliser Use Data",
   "id": "fca2c5cd8d902d64"
  },
  {
   "metadata": {
    "ExecuteTime": {
     "end_time": "2024-04-24T15:35:36.351083Z",
     "start_time": "2024-04-24T15:35:36.328821Z"
    }
   },
   "cell_type": "code",
   "source": [
    "# Display the first few rows of the fertiliser use data\n",
    "fertiliser_use_df.head()\n",
    "\n",
    "# Check for missing values\n",
    "fertiliser_use_df.isnull().sum()\n",
    "\n",
    "# Check for duplicate rows\n",
    "fertiliser_use_df.duplicated().sum()\n",
    "\n",
    "# Drop unnecessary columns\n",
    "fertiliser_use_df = fertiliser_use_df.drop(columns=[\"Domain\", \"Domain Code\", \"Element Code\", \"Element\", \"Year Code\", \"Unit\", \"Flag\", \"Flag Description\", \"Item Code\", \"Item\"])\n",
    "\n",
    "# Group data by country and year to get the total fertiliser use\n",
    "fertiliser_use_df = fertiliser_use_df.groupby([\"Area\", \"Year\", \"Area Code (M49)\"]).sum().reset_index()\n",
    "\n",
    "# Display the first few rows of the fertiliser use data\n",
    "fertiliser_use_df.head()"
   ],
   "id": "7b4e044d99bba1ae",
   "outputs": [
    {
     "data": {
      "text/plain": [
       "          Area  Year  Area Code (M49)    Value\n",
       "0  Afghanistan  2002                4  17900.0\n",
       "1  Afghanistan  2003                4  33200.0\n",
       "2  Afghanistan  2004                4  90000.0\n",
       "3  Afghanistan  2005                4  20577.0\n",
       "4  Afghanistan  2006                4  68253.0"
      ],
      "text/html": [
       "<div>\n",
       "<style scoped>\n",
       "    .dataframe tbody tr th:only-of-type {\n",
       "        vertical-align: middle;\n",
       "    }\n",
       "\n",
       "    .dataframe tbody tr th {\n",
       "        vertical-align: top;\n",
       "    }\n",
       "\n",
       "    .dataframe thead th {\n",
       "        text-align: right;\n",
       "    }\n",
       "</style>\n",
       "<table border=\"1\" class=\"dataframe\">\n",
       "  <thead>\n",
       "    <tr style=\"text-align: right;\">\n",
       "      <th></th>\n",
       "      <th>Area</th>\n",
       "      <th>Year</th>\n",
       "      <th>Area Code (M49)</th>\n",
       "      <th>Value</th>\n",
       "    </tr>\n",
       "  </thead>\n",
       "  <tbody>\n",
       "    <tr>\n",
       "      <th>0</th>\n",
       "      <td>Afghanistan</td>\n",
       "      <td>2002</td>\n",
       "      <td>4</td>\n",
       "      <td>17900.0</td>\n",
       "    </tr>\n",
       "    <tr>\n",
       "      <th>1</th>\n",
       "      <td>Afghanistan</td>\n",
       "      <td>2003</td>\n",
       "      <td>4</td>\n",
       "      <td>33200.0</td>\n",
       "    </tr>\n",
       "    <tr>\n",
       "      <th>2</th>\n",
       "      <td>Afghanistan</td>\n",
       "      <td>2004</td>\n",
       "      <td>4</td>\n",
       "      <td>90000.0</td>\n",
       "    </tr>\n",
       "    <tr>\n",
       "      <th>3</th>\n",
       "      <td>Afghanistan</td>\n",
       "      <td>2005</td>\n",
       "      <td>4</td>\n",
       "      <td>20577.0</td>\n",
       "    </tr>\n",
       "    <tr>\n",
       "      <th>4</th>\n",
       "      <td>Afghanistan</td>\n",
       "      <td>2006</td>\n",
       "      <td>4</td>\n",
       "      <td>68253.0</td>\n",
       "    </tr>\n",
       "  </tbody>\n",
       "</table>\n",
       "</div>"
      ]
     },
     "execution_count": 472,
     "metadata": {},
     "output_type": "execute_result"
    }
   ],
   "execution_count": 472
  },
  {
   "metadata": {},
   "cell_type": "markdown",
   "source": "## 3.3. Land Temperature Change Data",
   "id": "9dffdff3ced21c95"
  },
  {
   "metadata": {
    "ExecuteTime": {
     "end_time": "2024-04-24T15:35:36.483983Z",
     "start_time": "2024-04-24T15:35:36.352086Z"
    }
   },
   "cell_type": "code",
   "source": [
    "# Display the first few rows of the land temperature change data\n",
    "land_temperature_change_df.head()\n",
    "\n",
    "# Filter land temperature change to get only meteorological year\n",
    "land_temperature_change_df = land_temperature_change_df[land_temperature_change_df[\"Months\"] == \"Meteorological year\"]\n",
    "\n",
    "# Split df into two dataframes: one for temperature change and one for standard deviation\n",
    "land_temperature_change_df = land_temperature_change_df[land_temperature_change_df[\"Element\"] == \"Temperature change\"]\n",
    "land_temperature_change_std_df = land_temperature_change_df[land_temperature_change_df[\"Element\"] == \"Standard Deviation\"]\n",
    "\n",
    "# Drop unnecessary columns\n",
    "land_temperature_change_df = land_temperature_change_df.drop(columns=[\"Domain\", \"Domain Code\", \"Element Code\", \"Element\", \"Year Code\", \"Unit\", \"Flag\", \"Flag Description\", \"Months\", \"Months Code\"])\n",
    "\n",
    "# If all values for the country are missing, drop the country\n",
    "land_temperature_change_df = land_temperature_change_df.groupby('Area').filter(lambda x: x[['Value']].notna().any().any())\n",
    "\n",
    "# Impute missing values with the mean for the country\n",
    "land_temperature_change_df['Value'] = land_temperature_change_df.groupby('Area',)['Value'].transform(lambda x: x.fillna(x.mean()))\n",
    "\n",
    "# Check for missing values\n",
    "land_temperature_change_df.isnull().sum()"
   ],
   "id": "f95695d27a4c2378",
   "outputs": [
    {
     "data": {
      "text/plain": [
       "Area Code (M49)    0\n",
       "Area               0\n",
       "Year               0\n",
       "Value              0\n",
       "dtype: int64"
      ]
     },
     "execution_count": 473,
     "metadata": {},
     "output_type": "execute_result"
    }
   ],
   "execution_count": 473
  },
  {
   "metadata": {},
   "cell_type": "markdown",
   "source": "## 3.4. Pesticides Use Data",
   "id": "eb235384dfbb5df4"
  },
  {
   "metadata": {
    "ExecuteTime": {
     "end_time": "2024-04-24T15:35:36.495311Z",
     "start_time": "2024-04-24T15:35:36.484989Z"
    }
   },
   "cell_type": "code",
   "source": [
    "# Display the first few rows of the pesticides use data\n",
    "pesticides_use_df.head()\n",
    "\n",
    "# Get only the total pesticides used\n",
    "pesticides_use_df = pesticides_use_df[pesticides_use_df[\"Item Code\"] == 1357]\n",
    "\n",
    "# Drop unnecessary columns\n",
    "pesticides_use_df = pesticides_use_df.drop(columns=[\"Domain\", \"Domain Code\", \"Element Code\", \"Element\", \"Year Code\", \"Flag\", \"Flag Description\", \"Item Code\", \"Item\", \"Note\"])\n",
    "\n",
    "# Check for missing values\n",
    "pesticides_use_df.isnull().sum()\n",
    "\n",
    "# Check for duplicate rows\n",
    "pesticides_use_df.duplicated().sum()"
   ],
   "id": "87b38f8d1489b73b",
   "outputs": [
    {
     "data": {
      "text/plain": [
       "0"
      ]
     },
     "execution_count": 474,
     "metadata": {},
     "output_type": "execute_result"
    }
   ],
   "execution_count": 474
  },
  {
   "metadata": {},
   "cell_type": "markdown",
   "source": "## 3.5. Crop Value Data",
   "id": "24f779fe3aa9331b"
  },
  {
   "metadata": {
    "ExecuteTime": {
     "end_time": "2024-04-24T15:35:36.550991Z",
     "start_time": "2024-04-24T15:35:36.496316Z"
    }
   },
   "cell_type": "code",
   "source": [
    "# Display the first few rows of the crop value data\n",
    "crop_value_df.head()\n",
    "\n",
    "# Drop unnecessary columns\n",
    "crop_value_df = crop_value_df.drop(columns=[\"Domain\", \"Domain Code\",  \"Year Code\", \"Flag\", \"Flag Description\", \"Note\"])\n",
    "\n",
    "# Check for missing values\n",
    "crop_value_df.isnull().sum()\n",
    "\n",
    "# Split the data into two dataframes: one for imports and one for exports\n",
    "crop_value_imports_df = crop_value_df[crop_value_df[\"Element\"] == \"Import Value\"]\n",
    "crop_value_exports_df = crop_value_df[crop_value_df[\"Element\"] == \"Export Value\"]\n",
    "\n",
    "# Drop unnecessary columns\n",
    "crop_value_imports_df = crop_value_imports_df.drop(columns=[\"Element\", \"Element Code\"])\n",
    "crop_value_exports_df = crop_value_exports_df.drop(columns=[\"Element\", \"Element Code\"])"
   ],
   "id": "7ec6a08f5869433a",
   "outputs": [],
   "execution_count": 475
  },
  {
   "metadata": {},
   "cell_type": "markdown",
   "source": "## 3.6. Land Use Data",
   "id": "b865535e91223320"
  },
  {
   "metadata": {},
   "cell_type": "markdown",
   "source": "",
   "id": "f43a9f70eebfaf7a"
  },
  {
   "metadata": {
    "ExecuteTime": {
     "end_time": "2024-04-24T15:35:36.562787Z",
     "start_time": "2024-04-24T15:35:36.552019Z"
    }
   },
   "cell_type": "code",
   "source": [
    "# Display the first few rows of the land use data\n",
    "land_use_df.head()\n",
    "\n",
    "# Drop unnecessary columns\n",
    "land_use_df = land_use_df.drop(columns=[\"Domain\", \"Domain Code\", \"Year Code\", \"Flag\", \"Flag Description\", \"Note\", \"Element\", \"Element Code\"])\n",
    "\n",
    "land_use_df.head()"
   ],
   "id": "4defa67215ae2ca6",
   "outputs": [
    {
     "data": {
      "text/plain": [
       "   Area Code (M49)         Area  Item Code          Item  Year     Unit  \\\n",
       "0                4  Afghanistan       6600  Country area  1980  1000 ha   \n",
       "1                4  Afghanistan       6600  Country area  1981  1000 ha   \n",
       "2                4  Afghanistan       6600  Country area  1982  1000 ha   \n",
       "3                4  Afghanistan       6600  Country area  1983  1000 ha   \n",
       "4                4  Afghanistan       6600  Country area  1984  1000 ha   \n",
       "\n",
       "     Value  \n",
       "0  65286.0  \n",
       "1  65286.0  \n",
       "2  65286.0  \n",
       "3  65286.0  \n",
       "4  65286.0  "
      ],
      "text/html": [
       "<div>\n",
       "<style scoped>\n",
       "    .dataframe tbody tr th:only-of-type {\n",
       "        vertical-align: middle;\n",
       "    }\n",
       "\n",
       "    .dataframe tbody tr th {\n",
       "        vertical-align: top;\n",
       "    }\n",
       "\n",
       "    .dataframe thead th {\n",
       "        text-align: right;\n",
       "    }\n",
       "</style>\n",
       "<table border=\"1\" class=\"dataframe\">\n",
       "  <thead>\n",
       "    <tr style=\"text-align: right;\">\n",
       "      <th></th>\n",
       "      <th>Area Code (M49)</th>\n",
       "      <th>Area</th>\n",
       "      <th>Item Code</th>\n",
       "      <th>Item</th>\n",
       "      <th>Year</th>\n",
       "      <th>Unit</th>\n",
       "      <th>Value</th>\n",
       "    </tr>\n",
       "  </thead>\n",
       "  <tbody>\n",
       "    <tr>\n",
       "      <th>0</th>\n",
       "      <td>4</td>\n",
       "      <td>Afghanistan</td>\n",
       "      <td>6600</td>\n",
       "      <td>Country area</td>\n",
       "      <td>1980</td>\n",
       "      <td>1000 ha</td>\n",
       "      <td>65286.0</td>\n",
       "    </tr>\n",
       "    <tr>\n",
       "      <th>1</th>\n",
       "      <td>4</td>\n",
       "      <td>Afghanistan</td>\n",
       "      <td>6600</td>\n",
       "      <td>Country area</td>\n",
       "      <td>1981</td>\n",
       "      <td>1000 ha</td>\n",
       "      <td>65286.0</td>\n",
       "    </tr>\n",
       "    <tr>\n",
       "      <th>2</th>\n",
       "      <td>4</td>\n",
       "      <td>Afghanistan</td>\n",
       "      <td>6600</td>\n",
       "      <td>Country area</td>\n",
       "      <td>1982</td>\n",
       "      <td>1000 ha</td>\n",
       "      <td>65286.0</td>\n",
       "    </tr>\n",
       "    <tr>\n",
       "      <th>3</th>\n",
       "      <td>4</td>\n",
       "      <td>Afghanistan</td>\n",
       "      <td>6600</td>\n",
       "      <td>Country area</td>\n",
       "      <td>1983</td>\n",
       "      <td>1000 ha</td>\n",
       "      <td>65286.0</td>\n",
       "    </tr>\n",
       "    <tr>\n",
       "      <th>4</th>\n",
       "      <td>4</td>\n",
       "      <td>Afghanistan</td>\n",
       "      <td>6600</td>\n",
       "      <td>Country area</td>\n",
       "      <td>1984</td>\n",
       "      <td>1000 ha</td>\n",
       "      <td>65286.0</td>\n",
       "    </tr>\n",
       "  </tbody>\n",
       "</table>\n",
       "</div>"
      ]
     },
     "execution_count": 476,
     "metadata": {},
     "output_type": "execute_result"
    }
   ],
   "execution_count": 476
  }
 ],
 "metadata": {
  "kernelspec": {
   "display_name": "Python 3",
   "language": "python",
   "name": "python3"
  },
  "language_info": {
   "codemirror_mode": {
    "name": "ipython",
    "version": 2
   },
   "file_extension": ".py",
   "mimetype": "text/x-python",
   "name": "python",
   "nbconvert_exporter": "python",
   "pygments_lexer": "ipython2",
   "version": "2.7.6"
  }
 },
 "nbformat": 4,
 "nbformat_minor": 5
}
