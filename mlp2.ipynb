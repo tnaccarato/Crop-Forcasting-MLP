{
 "cells": [
  {
   "metadata": {},
   "cell_type": "markdown",
   "source": [
    "# 1. Importing Libraries\n",
    "\n",
    "In this section, we will import the libraries that we will use in this project. We will import the following libraries:\n",
    "\n",
    "- numpy for numerical computing\n",
    "- pandas for data manipulation\n",
    "- matplotlib for plotting\n",
    "- seaborn for plotting\n",
    "- sklearn for machine learning\n",
    "- scipy for scientific computing"
   ],
   "id": "455906c20249aece"
  },
  {
   "cell_type": "code",
   "id": "initial_id",
   "metadata": {
    "collapsed": true,
    "ExecuteTime": {
     "end_time": "2024-04-24T16:27:39.985788Z",
     "start_time": "2024-04-24T16:27:39.983285Z"
    }
   },
   "source": [
    "# Imports\n",
    "import numpy as np\n",
    "import pandas as pd\n",
    "\n",
    "import sklearn\n",
    "import seaborn as sns\n",
    "import matplotlib.pyplot as plt"
   ],
   "outputs": [],
   "execution_count": 426
  },
  {
   "metadata": {},
   "cell_type": "markdown",
   "source": [
    "# 2. Loading the Data\n",
    "\n",
    "In this section, we will load the data that we will use in this project. We will load the data from the CSV files using the pandas library. We will load the data into a pandas DataFrame."
   ],
   "id": "c8ff7ddc9955cc4d"
  },
  {
   "metadata": {
    "ExecuteTime": {
     "end_time": "2024-04-24T16:27:40.558371Z",
     "start_time": "2024-04-24T16:27:40.059214Z"
    }
   },
   "cell_type": "code",
   "source": [
    "# Define path to data\n",
    "file_path = \"Data/\"\n",
    "\n",
    "# Load the data\n",
    "crop_yield_df = pd.read_csv(file_path + \"Crops production indicators - FAOSTAT_data_en_2-22-2024.csv\")\n",
    "fertiliser_use_df = pd.read_csv(file_path + \"Fertilizers use - FAOSTAT_data_en_2-27-2024.csv\")\n",
    "land_temperature_change_df = pd.read_csv(file_path + \"Land temperature change - FAOSTAT_data_en_2-27-2024.csv\")\n",
    "pesticides_use_df = pd.read_csv(file_path + \"Pesticides use - FAOSTAT_data_en_2-27-2024.csv\")\n",
    "crop_value_df = pd.read_csv(file_path + \"Food trade indicators - FAOSTAT_data_en_2-22-2024.csv\")\n",
    "land_use_df = pd.read_csv(file_path + \"Land use - FAOSTAT_data_en_2-22-2024.csv\")"
   ],
   "id": "654208013770ae79",
   "outputs": [
    {
     "name": "stderr",
     "output_type": "stream",
     "text": [
      "C:\\Users\\tomna\\AppData\\Local\\Temp\\ipykernel_33504\\4020878960.py:10: DtypeWarning: Columns (14) have mixed types. Specify dtype option on import or set low_memory=False.\n",
      "  land_use_df = pd.read_csv(file_path + \"Land use - FAOSTAT_data_en_2-22-2024.csv\")\n"
     ]
    }
   ],
   "execution_count": 427
  },
  {
   "metadata": {},
   "cell_type": "markdown",
   "source": [
    "# 3. Data Preparation\n",
    "\n",
    "In this section, we will prepare the data for analysis. For each of the dataframes, will perform the following steps:\n",
    "- Explore the data\n",
    "- Check for missing values\n",
    "- Check for duplicate rows\n",
    "- Drop unnecessary columns\n",
    "- Group data if necessary to get totals and averages\n",
    "- Rename value column to a more descriptive name for easier reference"
   ],
   "id": "46174864d4eeaa9c"
  },
  {
   "metadata": {},
   "cell_type": "markdown",
   "source": "## 3.1. Crop Yield Data",
   "id": "bf362e0eba52b640"
  },
  {
   "metadata": {
    "ExecuteTime": {
     "end_time": "2024-04-24T16:27:40.593133Z",
     "start_time": "2024-04-24T16:27:40.559376Z"
    }
   },
   "cell_type": "code",
   "source": [
    "# Display the first few rows of the crop yield data\n",
    "crop_yield_df.head()\n",
    "\n",
    "# Check for missing values\n",
    "crop_yield_df.isnull().sum()\n",
    "\n",
    "# Check for duplicate rows\n",
    "crop_yield_df.duplicated().sum()\n",
    "\n",
    "# Drop unnecessary columns\n",
    "crop_yield_df = crop_yield_df.drop(columns=[\"Domain\", \"Domain Code\", \"Element Code\", \"Element\", \"Year Code\", \"Unit\", \"Flag\", \"Flag Description\", \"Note\", \"Item Code (CPC)\"])\n",
    "\n",
    "#Display the first few rows of the crop yield data\n",
    "crop_yield_df.head()\n",
    "\n",
    "# Rename value column to yield in 100g/ha\n",
    "crop_yield_df = crop_yield_df.rename(columns={\"Value\": \"Yield in 100g/ha\"})"
   ],
   "id": "239c734cd7776ab7",
   "outputs": [],
   "execution_count": 428
  },
  {
   "metadata": {},
   "cell_type": "markdown",
   "source": "## 3.2. Fertiliser Use Data",
   "id": "fca2c5cd8d902d64"
  },
  {
   "metadata": {
    "ExecuteTime": {
     "end_time": "2024-04-24T16:27:40.612684Z",
     "start_time": "2024-04-24T16:27:40.593133Z"
    }
   },
   "cell_type": "code",
   "source": [
    "# Display the first few rows of the fertiliser use data\n",
    "fertiliser_use_df.head()\n",
    "\n",
    "# Check for missing values\n",
    "fertiliser_use_df.isnull().sum()\n",
    "\n",
    "# Check for duplicate rows\n",
    "fertiliser_use_df.duplicated().sum()\n",
    "\n",
    "# Drop unnecessary columns\n",
    "fertiliser_use_df = fertiliser_use_df.drop(columns=[\"Domain\", \"Domain Code\", \"Element Code\", \"Element\", \"Year Code\", \"Unit\", \"Flag\", \"Flag Description\", \"Item Code\", \"Item\"])\n",
    "\n",
    "# Group data by country and year to get the total fertiliser use\n",
    "fertiliser_use_df = fertiliser_use_df.groupby([\"Area\", \"Year\", \"Area Code (M49)\"]).sum().reset_index()\n",
    "\n",
    "# Rename value column to total fertiliser use in tonnes\n",
    "fertiliser_use_df = fertiliser_use_df.rename(columns={\"Value\": \"Total Fertiliser Use in Tonnes\"})"
   ],
   "id": "7b4e044d99bba1ae",
   "outputs": [],
   "execution_count": 429
  },
  {
   "metadata": {},
   "cell_type": "markdown",
   "source": "## 3.3. Land Temperature Change Data",
   "id": "9dffdff3ced21c95"
  },
  {
   "metadata": {
    "ExecuteTime": {
     "end_time": "2024-04-24T16:27:40.730699Z",
     "start_time": "2024-04-24T16:27:40.614188Z"
    }
   },
   "cell_type": "code",
   "source": [
    "# Display the first few rows of the land temperature change data\n",
    "land_temperature_change_df.head()\n",
    "\n",
    "# Filter land temperature change to get only meteorological year\n",
    "land_temperature_change_df = land_temperature_change_df[land_temperature_change_df[\"Months\"] == \"Meteorological year\"]\n",
    "\n",
    "# Split df into two dataframes: one for temperature change and one for standard deviation\n",
    "land_temperature_change_df = land_temperature_change_df[land_temperature_change_df[\"Element\"] == \"Temperature change\"]\n",
    "land_temperature_change_std_df = land_temperature_change_df[land_temperature_change_df[\"Element\"] == \"Standard Deviation\"]\n",
    "\n",
    "# Drop unnecessary columns\n",
    "land_temperature_change_df = land_temperature_change_df.drop(columns=[\"Domain\", \"Domain Code\", \"Element Code\", \"Element\", \"Year Code\", \"Unit\", \"Flag\", \"Flag Description\", \"Months\", \"Months Code\"])\n",
    "\n",
    "# If all values for the country are missing, drop the country\n",
    "land_temperature_change_df = land_temperature_change_df.groupby('Area').filter(lambda x: x[['Value']].notna().any().any())\n",
    "\n",
    "# Impute missing values with the mean for the country\n",
    "land_temperature_change_df['Value'] = land_temperature_change_df.groupby('Area',)['Value'].transform(lambda x: x.fillna(x.mean()))\n",
    "\n",
    "# Check for missing values\n",
    "land_temperature_change_df.isnull().sum()\n",
    "\n",
    "# Check for duplicate rows\n",
    "land_temperature_change_df.duplicated().sum()\n",
    "\n",
    "# Rename value column to temperature change in degrees celsius\n",
    "land_temperature_change_df = land_temperature_change_df.rename(columns={\"Value\": \"Temperature Change in Degrees Celsius\"})"
   ],
   "id": "f95695d27a4c2378",
   "outputs": [],
   "execution_count": 430
  },
  {
   "metadata": {},
   "cell_type": "markdown",
   "source": "## 3.4. Pesticides Use Data",
   "id": "eb235384dfbb5df4"
  },
  {
   "metadata": {
    "ExecuteTime": {
     "end_time": "2024-04-24T16:27:40.743716Z",
     "start_time": "2024-04-24T16:27:40.731205Z"
    }
   },
   "cell_type": "code",
   "source": [
    "# Display the first few rows of the pesticides use data\n",
    "pesticides_use_df.head()\n",
    "\n",
    "# Get only the total pesticides used and only Agricultural Use\n",
    "pesticides_use_df = pesticides_use_df[(pesticides_use_df[\"Item Code\"] == 1357) & (pesticides_use_df[\"Element\"] == \"Agricultural Use\")]\n",
    "# Drop unnecessary columns\n",
    "pesticides_use_df = pesticides_use_df.drop(columns=[\"Domain\", \"Domain Code\", \"Element Code\", \"Year Code\", \"Flag\", \"Flag Description\", \"Item Code\", \"Item\", \"Note\", \"Unit\", \"Element\"])\n",
    "\n",
    "# Check for missing values\n",
    "pesticides_use_df.isnull().sum()\n",
    "\n",
    "# Check for duplicate rows\n",
    "pesticides_use_df.duplicated().sum()\n",
    "\n",
    "\n",
    "# Rename value column to total pesticides use in tonnes\n",
    "pesticides_use_df = pesticides_use_df.rename(columns={\"Value\": \"Total Pesticides Use in Tonnes\"})\n",
    "\n",
    "pesticides_use_df.head()"
   ],
   "id": "87b38f8d1489b73b",
   "outputs": [
    {
     "data": {
      "text/plain": [
       "    Area Code (M49)     Area  Year  Total Pesticides Use in Tonnes\n",
       "0                 8  Albania  2000                          307.98\n",
       "3                 8  Albania  2001                          319.38\n",
       "6                 8  Albania  2002                          330.78\n",
       "9                 8  Albania  2003                          342.17\n",
       "12                8  Albania  2004                          353.57"
      ],
      "text/html": [
       "<div>\n",
       "<style scoped>\n",
       "    .dataframe tbody tr th:only-of-type {\n",
       "        vertical-align: middle;\n",
       "    }\n",
       "\n",
       "    .dataframe tbody tr th {\n",
       "        vertical-align: top;\n",
       "    }\n",
       "\n",
       "    .dataframe thead th {\n",
       "        text-align: right;\n",
       "    }\n",
       "</style>\n",
       "<table border=\"1\" class=\"dataframe\">\n",
       "  <thead>\n",
       "    <tr style=\"text-align: right;\">\n",
       "      <th></th>\n",
       "      <th>Area Code (M49)</th>\n",
       "      <th>Area</th>\n",
       "      <th>Year</th>\n",
       "      <th>Total Pesticides Use in Tonnes</th>\n",
       "    </tr>\n",
       "  </thead>\n",
       "  <tbody>\n",
       "    <tr>\n",
       "      <th>0</th>\n",
       "      <td>8</td>\n",
       "      <td>Albania</td>\n",
       "      <td>2000</td>\n",
       "      <td>307.98</td>\n",
       "    </tr>\n",
       "    <tr>\n",
       "      <th>3</th>\n",
       "      <td>8</td>\n",
       "      <td>Albania</td>\n",
       "      <td>2001</td>\n",
       "      <td>319.38</td>\n",
       "    </tr>\n",
       "    <tr>\n",
       "      <th>6</th>\n",
       "      <td>8</td>\n",
       "      <td>Albania</td>\n",
       "      <td>2002</td>\n",
       "      <td>330.78</td>\n",
       "    </tr>\n",
       "    <tr>\n",
       "      <th>9</th>\n",
       "      <td>8</td>\n",
       "      <td>Albania</td>\n",
       "      <td>2003</td>\n",
       "      <td>342.17</td>\n",
       "    </tr>\n",
       "    <tr>\n",
       "      <th>12</th>\n",
       "      <td>8</td>\n",
       "      <td>Albania</td>\n",
       "      <td>2004</td>\n",
       "      <td>353.57</td>\n",
       "    </tr>\n",
       "  </tbody>\n",
       "</table>\n",
       "</div>"
      ]
     },
     "execution_count": 431,
     "metadata": {},
     "output_type": "execute_result"
    }
   ],
   "execution_count": 431
  },
  {
   "metadata": {},
   "cell_type": "markdown",
   "source": "## 3.5. Crop Value Data",
   "id": "24f779fe3aa9331b"
  },
  {
   "metadata": {
    "ExecuteTime": {
     "end_time": "2024-04-24T16:27:40.792421Z",
     "start_time": "2024-04-24T16:27:40.744720Z"
    }
   },
   "cell_type": "code",
   "source": [
    "# Display the first few rows of the crop value data\n",
    "crop_value_df.head()\n",
    "\n",
    "# Drop unnecessary columns\n",
    "crop_value_df = crop_value_df.drop(columns=[\"Domain\", \"Domain Code\",  \"Year Code\", \"Flag\", \"Flag Description\", \"Note\", \"Unit\", \"Item Code (CPC)\"])\n",
    "\n",
    "# Check for missing values\n",
    "crop_value_df.isnull().sum()\n",
    "\n",
    "# Split the data into two dataframes: one for imports and one for exports\n",
    "crop_value_imports_df = crop_value_df[crop_value_df[\"Element\"] == \"Import Value\"]\n",
    "crop_value_exports_df = crop_value_df[crop_value_df[\"Element\"] == \"Export Value\"]\n",
    "\n",
    "# Drop unnecessary columns\n",
    "crop_value_imports_df = crop_value_imports_df.drop(columns=[\"Element\", \"Element Code\"])\n",
    "crop_value_exports_df = crop_value_exports_df.drop(columns=[\"Element\", \"Element Code\"])\n",
    "\n",
    "# Rename value column to crop value in 1000 US$\n",
    "crop_value_imports_df = crop_value_imports_df.rename(columns={\"Value\": \"Total Import Crop Value in 1000 US$\"})\n",
    "crop_value_exports_df = crop_value_exports_df.rename(columns={\"Value\": \"Total Export Crop Value in 1000 US$\"})"
   ],
   "id": "7ec6a08f5869433a",
   "outputs": [],
   "execution_count": 432
  },
  {
   "metadata": {},
   "cell_type": "markdown",
   "source": "## 3.6. Land Use Data",
   "id": "b865535e91223320"
  },
  {
   "metadata": {},
   "cell_type": "markdown",
   "source": "",
   "id": "f43a9f70eebfaf7a"
  },
  {
   "metadata": {
    "ExecuteTime": {
     "end_time": "2024-04-24T16:27:40.805255Z",
     "start_time": "2024-04-24T16:27:40.793426Z"
    }
   },
   "cell_type": "code",
   "source": [
    "# Display the first few rows of the land use data\n",
    "land_use_df.head()\n",
    "\n",
    "# Filter to select only agricultural land\n",
    "land_use_df = land_use_df[land_use_df[\"Item\"] == \"Agricultural land\"]\n",
    "# Drop unnecessary columns\n",
    "land_use_df = land_use_df.drop(columns=[\"Domain\", \"Domain Code\", \"Year Code\", \"Flag\", \"Flag Description\", \"Note\", \"Element\", \"Element Code\", \"Item Code\", \"Item\", \"Unit\"])\n",
    "\n",
    "# Check for missing values\n",
    "land_use_df.isnull().sum()\n",
    "\n",
    "# Check for duplicate rows\n",
    "land_use_df.duplicated().sum()\n",
    "\n",
    "# Rename value column to agricultural land in hectares\n",
    "land_use_df = land_use_df.rename(columns={\"Value\": \"Agricultural Land in Hectares\"})"
   ],
   "id": "4defa67215ae2ca6",
   "outputs": [],
   "execution_count": 433
  },
  {
   "metadata": {},
   "cell_type": "markdown",
   "source": "",
   "id": "443d3fa44f01ded4"
  },
  {
   "metadata": {},
   "cell_type": "markdown",
   "source": [
    "# 3.7. Merging Data\n",
    "\n",
    "In this section, I will merge all the dataframes into a single dataframe.\n"
   ],
   "id": "89a036cfeecb7d4b"
  },
  {
   "metadata": {},
   "cell_type": "markdown",
   "source": [
    "### Standardising Items\n",
    "Combine different items so that they match across datasets, combining them to make a harmonised dataset.\n",
    "\n",
    "*Cereals and Grains:*\n",
    "Crops Production: \"Cereals, primary\"\n",
    "Food Trade: \"Cereals and Preparations\"\n",
    "\n",
    "*Roots and Tubers:*\n",
    "Crops Production: \"Roots and Tubers, Total\"\n",
    "\n",
    "*Sugar and Sweeteners:*\n",
    "Crops Production: \"Sugar Crops Primary\"\n",
    "Food Trade: \"Sugar and Honey\"\n",
    "\n",
    "*Pulses and Legumes:*\n",
    "Crops Production: \"Pulses, Total\"\n",
    "\n",
    "*Nuts and Oilseeds:*\n",
    "Crops Production: \"Oilcrops, Cake Equivalent\", \"Oilcrops, Oil Equivalent\", \"Treenuts, Total\"\n",
    "Food Trade: \"Fats and Oils (excluding Butter)\"\n",
    "\n",
    "*Fruits and Vegetables:*\n",
    "Crops Production: \"Citrus Fruit, Total\", \"Fruit Primary\", \"Vegetables Primary\"\n",
    "Food Trade: \"Fruit and Vegetables\"\n",
    "\n",
    "*Beverages and Alcoholic Products:*\n",
    "Food Trade: \"Alcoholic Beverages\", \"Non-alcoholic Beverages\"\n",
    "\n",
    "*Animal Products:*\n",
    "Food Trade: \"Meat and Meat Preparations\", \"Dairy Products and Eggs\"\n",
    "\n",
    "*Miscellaneous:*\n",
    "Food Trade: \"Other food\", \"Non-food\", \"Non-edible Fats and Oils\", \"Tobacco\"\n",
    "\n",
    "*Fibre and Textile Crops:*\n",
    "Crops Production: \"Fibre Crops, Fibre Equivalent\""
   ],
   "id": "802025006f630149"
  },
  {
   "metadata": {
    "ExecuteTime": {
     "end_time": "2024-04-24T16:27:40.830470Z",
     "start_time": "2024-04-24T16:27:40.806258Z"
    }
   },
   "cell_type": "code",
   "source": [
    "# Views the unique items in the 'Item' column of the datasets\n",
    "print(\"Unique Items in Crops Production Indicators:\\n\", crop_yield_df['Item'].unique())\n",
    "print(\"Unique Items in Food Trade Indicators:\\n\", crop_value_exports_df['Item'].unique())\n",
    "\n",
    "# Create dictionaries to map the items to their respective categories\n",
    "crops_production_mapping = {\n",
    "    'Cereals, primary': 'Cereals and Grains',\n",
    "    'Roots and Tubers, Total': 'Roots and Tubers',\n",
    "    'Sugar Crops Primary': 'Sugar and Sweeteners',\n",
    "    'Pulses, Total': 'Pulses and Legumes',\n",
    "    'Oilcrops, Cake Equivalent': 'Nuts and Oilseeds',\n",
    "    'Oilcrops, Oil Equivalent': 'Nuts and Oilseeds',\n",
    "    'Treenuts, Total': 'Nuts and Oilseeds',\n",
    "    'Vegetables Primary': 'Fruits and Vegetables',\n",
    "    'Citrus Fruit, Total': 'Fruits and Vegetables',\n",
    "    'Fruit Primary': 'Fruits and Vegetables',\n",
    "    'Fibre Crops, Fibre Equivalent': 'Fibre and Textile Crops',\n",
    "}\n",
    "\n",
    "food_trade_mapping = {\n",
    "    'Cereals and Preparations': 'Cereals and Grains',\n",
    "    'Fats and Oils (excluding Butter)': 'Nuts and Oilseeds',\n",
    "    'Meat and Meat Preparations': 'Animal Products',\n",
    "    'Sugar and Honey': 'Sugar and Sweeteners',\n",
    "    'Fruit and Vegetables': 'Fruits and Vegetables',\n",
    "    'Dairy Products and Eggs': 'Animal Products',\n",
    "    'Alcoholic Beverages': 'Beverages and Alcoholic Products',\n",
    "    'Non-alcoholic Beverages': 'Beverages and Alcoholic Products',\n",
    "    'Other food': 'Miscellaneous',\n",
    "    'Non-food': 'Miscellaneous',\n",
    "    'Non-edible Fats and Oils': 'Miscellaneous',\n",
    "    'Tobacco': 'Miscellaneous',\n",
    "}\n",
    "\n",
    "# Adds a Harmonised Item column to the datasets with the mapped items\n",
    "crop_yield_df['Harmonised Item'] = crop_yield_df['Item'].map(crops_production_mapping)\n",
    "crop_value_exports_df['Harmonised Item'] = crop_value_exports_df['Item'].map(food_trade_mapping)\n",
    "crop_value_imports_df['Harmonised Item'] = crop_value_imports_df['Item'].map(food_trade_mapping)\n",
    "\n",
    "# Drops unnecessary columns\n",
    "crop_yield_df = crop_yield_df.drop(columns=['Item'])\n",
    "crop_value_exports_df = crop_value_exports_df.drop(columns=['Item'])\n",
    "crop_value_imports_df = crop_value_imports_df.drop(columns=['Item'])"
   ],
   "id": "954389b26d4dcc4b",
   "outputs": [
    {
     "name": "stdout",
     "output_type": "stream",
     "text": [
      "Unique Items in Crops Production Indicators:\n",
      " ['Cereals, primary' 'Citrus Fruit, Total' 'Fibre Crops, Fibre Equivalent'\n",
      " 'Fruit Primary' 'Oilcrops, Cake Equivalent' 'Oilcrops, Oil Equivalent'\n",
      " 'Pulses, Total' 'Roots and Tubers, Total' 'Sugar Crops Primary'\n",
      " 'Treenuts, Total' 'Vegetables Primary']\n",
      "Unique Items in Food Trade Indicators:\n",
      " ['Cereals and Preparations' 'Fats and Oils (excluding Butter)'\n",
      " 'Meat and Meat Preparations' 'Sugar and Honey' 'Fruit and Vegetables'\n",
      " 'Dairy Products and Eggs' 'Alcoholic Beverages' 'Non-alcoholic Beverages'\n",
      " 'Other food' 'Non-food' 'Non-edible Fats and Oils' 'Tobacco']\n"
     ]
    }
   ],
   "execution_count": 434
  },
  {
   "metadata": {},
   "cell_type": "markdown",
   "source": [
    "### 3.7.2 Merging Data\n",
    "\n",
    "In this section, I will merge all the dataframes into a single dataframe. I will merge the dataframes on the following columns:\n",
    "- Area\n",
    "- Area Code (M49)\n",
    "- Year\n",
    "- Harmonised Item (for Crop Yield and Crop Value Data)"
   ],
   "id": "b5c0f3b14420d12a"
  },
  {
   "metadata": {
    "ExecuteTime": {
     "end_time": "2024-04-24T16:27:40.886093Z",
     "start_time": "2024-04-24T16:27:40.831475Z"
    }
   },
   "cell_type": "code",
   "source": [
    "# Merge all the dataframes into a single dataframe\n",
    "merged_df = crop_yield_df.merge(crop_value_exports_df, how=\"inner\", left_on=[\"Area\", \"Year\", \"Area Code (M49)\", 'Harmonised Item'], right_on=[\"Area\", \"Year\", \"Area Code (M49)\", 'Harmonised Item'])\n",
    "merged_df = merged_df.merge(crop_value_imports_df, how=\"inner\", left_on=[\"Area\", \"Year\", \"Area Code (M49)\", 'Harmonised Item'], right_on=[\"Area\", \"Year\", \"Area Code (M49)\", 'Harmonised Item'])\n",
    "merged_df.head()\n",
    "merged_df = merged_df.merge(land_temperature_change_df, how=\"inner\", left_on=[\"Area\", \"Year\", \"Area Code (M49)\"], right_on=[\"Area\", \"Year\", \"Area Code (M49)\"])\n",
    "merged_df = merged_df.merge(pesticides_use_df, how=\"inner\", left_on=[\"Area\", \"Year\", \"Area Code (M49)\"], right_on=[\"Area\", \"Year\", \"Area Code (M49)\"])\n",
    "merged_df = merged_df.merge(land_use_df, how=\"inner\", left_on=[\"Area\", \"Year\", \"Area Code (M49)\"], right_on=[\"Area\", \"Year\", \"Area Code (M49)\"])"
   ],
   "id": "7cc75d935365a60",
   "outputs": [],
   "execution_count": 435
  },
  {
   "metadata": {
    "ExecuteTime": {
     "end_time": "2024-04-24T16:27:40.904480Z",
     "start_time": "2024-04-24T16:27:40.887101Z"
    }
   },
   "cell_type": "code",
   "source": [
    "# Describe the merged dataframe\n",
    "merged_df.describe()"
   ],
   "id": "b03f36220eab48c0",
   "outputs": [
    {
     "data": {
      "text/plain": [
       "       Area Code (M49)          Year  Yield in 100g/ha  \\\n",
       "count     26785.000000  26785.000000      2.678500e+04   \n",
       "mean        419.253313   2010.447564      1.216748e+05   \n",
       "std         252.477841      6.305532      1.911779e+05   \n",
       "min           8.000000   2000.000000      0.000000e+00   \n",
       "25%         192.000000   2005.000000      9.514000e+03   \n",
       "50%         410.000000   2010.000000      4.696000e+04   \n",
       "75%         642.000000   2016.000000      1.396940e+05   \n",
       "max         894.000000   2021.000000      1.359231e+06   \n",
       "\n",
       "       Total Export Crop Value in 1000 US$  \\\n",
       "count                         2.678500e+04   \n",
       "mean                          7.510800e+05   \n",
       "std                           2.571975e+06   \n",
       "min                           0.000000e+00   \n",
       "25%                           2.445950e+03   \n",
       "50%                           4.072100e+04   \n",
       "75%                           2.940840e+05   \n",
       "max                           3.526993e+07   \n",
       "\n",
       "       Total Import Crop Value in 1000 US$  \\\n",
       "count                         2.678500e+04   \n",
       "mean                          7.485436e+05   \n",
       "std                           2.357852e+06   \n",
       "min                           0.000000e+00   \n",
       "25%                           2.779400e+04   \n",
       "50%                           1.103903e+05   \n",
       "75%                           4.542440e+05   \n",
       "max                           4.704264e+07   \n",
       "\n",
       "       Temperature Change in Degrees Celsius  Total Pesticides Use in Tonnes  \\\n",
       "count                           26785.000000                    26785.000000   \n",
       "mean                                1.051572                    20389.551909   \n",
       "std                                 0.517764                    63791.408503   \n",
       "min                                -0.718000                        0.070000   \n",
       "25%                                 0.696000                      357.870000   \n",
       "50%                                 0.998000                     1836.200000   \n",
       "75%                                 1.356000                     9696.940000   \n",
       "max                                 3.691000                   719507.440000   \n",
       "\n",
       "       Agricultural Land in Hectares  \n",
       "count                   26785.000000  \n",
       "mean                    32452.641948  \n",
       "std                     81910.137800  \n",
       "min                         1.500000  \n",
       "25%                      1262.000000  \n",
       "50%                      5073.000000  \n",
       "75%                     25803.000000  \n",
       "max                    529038.600000  "
      ],
      "text/html": [
       "<div>\n",
       "<style scoped>\n",
       "    .dataframe tbody tr th:only-of-type {\n",
       "        vertical-align: middle;\n",
       "    }\n",
       "\n",
       "    .dataframe tbody tr th {\n",
       "        vertical-align: top;\n",
       "    }\n",
       "\n",
       "    .dataframe thead th {\n",
       "        text-align: right;\n",
       "    }\n",
       "</style>\n",
       "<table border=\"1\" class=\"dataframe\">\n",
       "  <thead>\n",
       "    <tr style=\"text-align: right;\">\n",
       "      <th></th>\n",
       "      <th>Area Code (M49)</th>\n",
       "      <th>Year</th>\n",
       "      <th>Yield in 100g/ha</th>\n",
       "      <th>Total Export Crop Value in 1000 US$</th>\n",
       "      <th>Total Import Crop Value in 1000 US$</th>\n",
       "      <th>Temperature Change in Degrees Celsius</th>\n",
       "      <th>Total Pesticides Use in Tonnes</th>\n",
       "      <th>Agricultural Land in Hectares</th>\n",
       "    </tr>\n",
       "  </thead>\n",
       "  <tbody>\n",
       "    <tr>\n",
       "      <th>count</th>\n",
       "      <td>26785.000000</td>\n",
       "      <td>26785.000000</td>\n",
       "      <td>2.678500e+04</td>\n",
       "      <td>2.678500e+04</td>\n",
       "      <td>2.678500e+04</td>\n",
       "      <td>26785.000000</td>\n",
       "      <td>26785.000000</td>\n",
       "      <td>26785.000000</td>\n",
       "    </tr>\n",
       "    <tr>\n",
       "      <th>mean</th>\n",
       "      <td>419.253313</td>\n",
       "      <td>2010.447564</td>\n",
       "      <td>1.216748e+05</td>\n",
       "      <td>7.510800e+05</td>\n",
       "      <td>7.485436e+05</td>\n",
       "      <td>1.051572</td>\n",
       "      <td>20389.551909</td>\n",
       "      <td>32452.641948</td>\n",
       "    </tr>\n",
       "    <tr>\n",
       "      <th>std</th>\n",
       "      <td>252.477841</td>\n",
       "      <td>6.305532</td>\n",
       "      <td>1.911779e+05</td>\n",
       "      <td>2.571975e+06</td>\n",
       "      <td>2.357852e+06</td>\n",
       "      <td>0.517764</td>\n",
       "      <td>63791.408503</td>\n",
       "      <td>81910.137800</td>\n",
       "    </tr>\n",
       "    <tr>\n",
       "      <th>min</th>\n",
       "      <td>8.000000</td>\n",
       "      <td>2000.000000</td>\n",
       "      <td>0.000000e+00</td>\n",
       "      <td>0.000000e+00</td>\n",
       "      <td>0.000000e+00</td>\n",
       "      <td>-0.718000</td>\n",
       "      <td>0.070000</td>\n",
       "      <td>1.500000</td>\n",
       "    </tr>\n",
       "    <tr>\n",
       "      <th>25%</th>\n",
       "      <td>192.000000</td>\n",
       "      <td>2005.000000</td>\n",
       "      <td>9.514000e+03</td>\n",
       "      <td>2.445950e+03</td>\n",
       "      <td>2.779400e+04</td>\n",
       "      <td>0.696000</td>\n",
       "      <td>357.870000</td>\n",
       "      <td>1262.000000</td>\n",
       "    </tr>\n",
       "    <tr>\n",
       "      <th>50%</th>\n",
       "      <td>410.000000</td>\n",
       "      <td>2010.000000</td>\n",
       "      <td>4.696000e+04</td>\n",
       "      <td>4.072100e+04</td>\n",
       "      <td>1.103903e+05</td>\n",
       "      <td>0.998000</td>\n",
       "      <td>1836.200000</td>\n",
       "      <td>5073.000000</td>\n",
       "    </tr>\n",
       "    <tr>\n",
       "      <th>75%</th>\n",
       "      <td>642.000000</td>\n",
       "      <td>2016.000000</td>\n",
       "      <td>1.396940e+05</td>\n",
       "      <td>2.940840e+05</td>\n",
       "      <td>4.542440e+05</td>\n",
       "      <td>1.356000</td>\n",
       "      <td>9696.940000</td>\n",
       "      <td>25803.000000</td>\n",
       "    </tr>\n",
       "    <tr>\n",
       "      <th>max</th>\n",
       "      <td>894.000000</td>\n",
       "      <td>2021.000000</td>\n",
       "      <td>1.359231e+06</td>\n",
       "      <td>3.526993e+07</td>\n",
       "      <td>4.704264e+07</td>\n",
       "      <td>3.691000</td>\n",
       "      <td>719507.440000</td>\n",
       "      <td>529038.600000</td>\n",
       "    </tr>\n",
       "  </tbody>\n",
       "</table>\n",
       "</div>"
      ]
     },
     "execution_count": 436,
     "metadata": {},
     "output_type": "execute_result"
    }
   ],
   "execution_count": 436
  },
  {
   "metadata": {
    "ExecuteTime": {
     "end_time": "2024-04-24T16:27:40.908426Z",
     "start_time": "2024-04-24T16:27:40.904984Z"
    }
   },
   "cell_type": "code",
   "source": [
    "# Show the shape of the merged dataframe (26785, 10)\n",
    "merged_df.shape"
   ],
   "id": "6e7aaaef84c37663",
   "outputs": [
    {
     "data": {
      "text/plain": [
       "(26785, 10)"
      ]
     },
     "execution_count": 437,
     "metadata": {},
     "output_type": "execute_result"
    }
   ],
   "execution_count": 437
  },
  {
   "metadata": {
    "ExecuteTime": {
     "end_time": "2024-04-24T16:27:40.913274Z",
     "start_time": "2024-04-24T16:27:40.909430Z"
    }
   },
   "cell_type": "code",
   "source": [
    "# Count the number of countries in the merged dataframe (186)\n",
    "merged_df['Area'].nunique()"
   ],
   "id": "bde10b35305a510a",
   "outputs": [
    {
     "data": {
      "text/plain": [
       "186"
      ]
     },
     "execution_count": 438,
     "metadata": {},
     "output_type": "execute_result"
    }
   ],
   "execution_count": 438
  },
  {
   "metadata": {
    "ExecuteTime": {
     "end_time": "2024-04-24T16:27:40.917628Z",
     "start_time": "2024-04-24T16:27:40.914279Z"
    }
   },
   "cell_type": "code",
   "source": [
    "# Count number of years in the merged dataframe (22)\n",
    "merged_df['Year'].nunique()"
   ],
   "id": "55321daf29fe4951",
   "outputs": [
    {
     "data": {
      "text/plain": [
       "22"
      ]
     },
     "execution_count": 439,
     "metadata": {},
     "output_type": "execute_result"
    }
   ],
   "execution_count": 439
  },
  {
   "metadata": {},
   "cell_type": "markdown",
   "source": "# 4. Exploratory Data Analysis ",
   "id": "eb701a83272ae1ad"
  },
  {
   "metadata": {
    "ExecuteTime": {
     "end_time": "2024-04-24T16:27:40.920129Z",
     "start_time": "2024-04-24T16:27:40.918633Z"
    }
   },
   "cell_type": "code",
   "source": "",
   "id": "7bd6d59cb8c8bebf",
   "outputs": [],
   "execution_count": 439
  },
  {
   "metadata": {},
   "cell_type": "markdown",
   "source": "## 4.1 Crop Yield Analysis\n",
   "id": "96bbcfafc343d90d"
  },
  {
   "metadata": {
    "ExecuteTime": {
     "end_time": "2024-04-24T16:27:41.023010Z",
     "start_time": "2024-04-24T16:27:40.920633Z"
    }
   },
   "cell_type": "code",
   "source": [
    "# Prepare the data for analysis\n",
    "crop_yield_mean = crop_yield_df.groupby([\"Harmonised Item\",\"Year\"]).mean()\n",
    "crop_yield_mean.head()\n",
    "\n",
    "# Plot the crop yield over the years\n",
    "fig, ax = plt.subplot(figsize=(15,9))\n",
    "plt.suptitle(\"Mean Crop Yield Over the Years for all Countries by Crop Type\")\n",
    "\n",
    "crop_yield_mean[\"Yield in 100g/ha\"].unstack().plot(ax=ax)\n",
    "plt.xlabel(\"Year\")\n",
    "plt.ylabel(\"Mean Yield in 100g/ha\")\n",
    "\n",
    "plt.show()"
   ],
   "id": "7bd6643fab2e5132",
   "outputs": [
    {
     "ename": "TypeError",
     "evalue": "agg function failed [how->mean,dtype->object]",
     "output_type": "error",
     "traceback": [
      "\u001B[1;31m---------------------------------------------------------------------------\u001B[0m",
      "\u001B[1;31mTypeError\u001B[0m                                 Traceback (most recent call last)",
      "File \u001B[1;32mD:\\ML-Coursework\\.venv\\Lib\\site-packages\\pandas\\core\\groupby\\groupby.py:1942\u001B[0m, in \u001B[0;36mGroupBy._agg_py_fallback\u001B[1;34m(self, how, values, ndim, alt)\u001B[0m\n\u001B[0;32m   1941\u001B[0m \u001B[38;5;28;01mtry\u001B[39;00m:\n\u001B[1;32m-> 1942\u001B[0m     res_values \u001B[38;5;241m=\u001B[39m \u001B[38;5;28;43mself\u001B[39;49m\u001B[38;5;241;43m.\u001B[39;49m\u001B[43m_grouper\u001B[49m\u001B[38;5;241;43m.\u001B[39;49m\u001B[43magg_series\u001B[49m\u001B[43m(\u001B[49m\u001B[43mser\u001B[49m\u001B[43m,\u001B[49m\u001B[43m \u001B[49m\u001B[43malt\u001B[49m\u001B[43m,\u001B[49m\u001B[43m \u001B[49m\u001B[43mpreserve_dtype\u001B[49m\u001B[38;5;241;43m=\u001B[39;49m\u001B[38;5;28;43;01mTrue\u001B[39;49;00m\u001B[43m)\u001B[49m\n\u001B[0;32m   1943\u001B[0m \u001B[38;5;28;01mexcept\u001B[39;00m \u001B[38;5;167;01mException\u001B[39;00m \u001B[38;5;28;01mas\u001B[39;00m err:\n",
      "File \u001B[1;32mD:\\ML-Coursework\\.venv\\Lib\\site-packages\\pandas\\core\\groupby\\ops.py:864\u001B[0m, in \u001B[0;36mBaseGrouper.agg_series\u001B[1;34m(self, obj, func, preserve_dtype)\u001B[0m\n\u001B[0;32m    862\u001B[0m     preserve_dtype \u001B[38;5;241m=\u001B[39m \u001B[38;5;28;01mTrue\u001B[39;00m\n\u001B[1;32m--> 864\u001B[0m result \u001B[38;5;241m=\u001B[39m \u001B[38;5;28;43mself\u001B[39;49m\u001B[38;5;241;43m.\u001B[39;49m\u001B[43m_aggregate_series_pure_python\u001B[49m\u001B[43m(\u001B[49m\u001B[43mobj\u001B[49m\u001B[43m,\u001B[49m\u001B[43m \u001B[49m\u001B[43mfunc\u001B[49m\u001B[43m)\u001B[49m\n\u001B[0;32m    866\u001B[0m npvalues \u001B[38;5;241m=\u001B[39m lib\u001B[38;5;241m.\u001B[39mmaybe_convert_objects(result, try_float\u001B[38;5;241m=\u001B[39m\u001B[38;5;28;01mFalse\u001B[39;00m)\n",
      "File \u001B[1;32mD:\\ML-Coursework\\.venv\\Lib\\site-packages\\pandas\\core\\groupby\\ops.py:885\u001B[0m, in \u001B[0;36mBaseGrouper._aggregate_series_pure_python\u001B[1;34m(self, obj, func)\u001B[0m\n\u001B[0;32m    884\u001B[0m \u001B[38;5;28;01mfor\u001B[39;00m i, group \u001B[38;5;129;01min\u001B[39;00m \u001B[38;5;28menumerate\u001B[39m(splitter):\n\u001B[1;32m--> 885\u001B[0m     res \u001B[38;5;241m=\u001B[39m \u001B[43mfunc\u001B[49m\u001B[43m(\u001B[49m\u001B[43mgroup\u001B[49m\u001B[43m)\u001B[49m\n\u001B[0;32m    886\u001B[0m     res \u001B[38;5;241m=\u001B[39m extract_result(res)\n",
      "File \u001B[1;32mD:\\ML-Coursework\\.venv\\Lib\\site-packages\\pandas\\core\\groupby\\groupby.py:2454\u001B[0m, in \u001B[0;36mGroupBy.mean.<locals>.<lambda>\u001B[1;34m(x)\u001B[0m\n\u001B[0;32m   2451\u001B[0m \u001B[38;5;28;01melse\u001B[39;00m:\n\u001B[0;32m   2452\u001B[0m     result \u001B[38;5;241m=\u001B[39m \u001B[38;5;28mself\u001B[39m\u001B[38;5;241m.\u001B[39m_cython_agg_general(\n\u001B[0;32m   2453\u001B[0m         \u001B[38;5;124m\"\u001B[39m\u001B[38;5;124mmean\u001B[39m\u001B[38;5;124m\"\u001B[39m,\n\u001B[1;32m-> 2454\u001B[0m         alt\u001B[38;5;241m=\u001B[39m\u001B[38;5;28;01mlambda\u001B[39;00m x: \u001B[43mSeries\u001B[49m\u001B[43m(\u001B[49m\u001B[43mx\u001B[49m\u001B[43m,\u001B[49m\u001B[43m \u001B[49m\u001B[43mcopy\u001B[49m\u001B[38;5;241;43m=\u001B[39;49m\u001B[38;5;28;43;01mFalse\u001B[39;49;00m\u001B[43m)\u001B[49m\u001B[38;5;241;43m.\u001B[39;49m\u001B[43mmean\u001B[49m\u001B[43m(\u001B[49m\u001B[43mnumeric_only\u001B[49m\u001B[38;5;241;43m=\u001B[39;49m\u001B[43mnumeric_only\u001B[49m\u001B[43m)\u001B[49m,\n\u001B[0;32m   2455\u001B[0m         numeric_only\u001B[38;5;241m=\u001B[39mnumeric_only,\n\u001B[0;32m   2456\u001B[0m     )\n\u001B[0;32m   2457\u001B[0m     \u001B[38;5;28;01mreturn\u001B[39;00m result\u001B[38;5;241m.\u001B[39m__finalize__(\u001B[38;5;28mself\u001B[39m\u001B[38;5;241m.\u001B[39mobj, method\u001B[38;5;241m=\u001B[39m\u001B[38;5;124m\"\u001B[39m\u001B[38;5;124mgroupby\u001B[39m\u001B[38;5;124m\"\u001B[39m)\n",
      "File \u001B[1;32mD:\\ML-Coursework\\.venv\\Lib\\site-packages\\pandas\\core\\series.py:6540\u001B[0m, in \u001B[0;36mSeries.mean\u001B[1;34m(self, axis, skipna, numeric_only, **kwargs)\u001B[0m\n\u001B[0;32m   6532\u001B[0m \u001B[38;5;129m@doc\u001B[39m(make_doc(\u001B[38;5;124m\"\u001B[39m\u001B[38;5;124mmean\u001B[39m\u001B[38;5;124m\"\u001B[39m, ndim\u001B[38;5;241m=\u001B[39m\u001B[38;5;241m1\u001B[39m))\n\u001B[0;32m   6533\u001B[0m \u001B[38;5;28;01mdef\u001B[39;00m \u001B[38;5;21mmean\u001B[39m(\n\u001B[0;32m   6534\u001B[0m     \u001B[38;5;28mself\u001B[39m,\n\u001B[1;32m   (...)\u001B[0m\n\u001B[0;32m   6538\u001B[0m     \u001B[38;5;241m*\u001B[39m\u001B[38;5;241m*\u001B[39mkwargs,\n\u001B[0;32m   6539\u001B[0m ):\n\u001B[1;32m-> 6540\u001B[0m     \u001B[38;5;28;01mreturn\u001B[39;00m \u001B[43mNDFrame\u001B[49m\u001B[38;5;241;43m.\u001B[39;49m\u001B[43mmean\u001B[49m\u001B[43m(\u001B[49m\u001B[38;5;28;43mself\u001B[39;49m\u001B[43m,\u001B[49m\u001B[43m \u001B[49m\u001B[43maxis\u001B[49m\u001B[43m,\u001B[49m\u001B[43m \u001B[49m\u001B[43mskipna\u001B[49m\u001B[43m,\u001B[49m\u001B[43m \u001B[49m\u001B[43mnumeric_only\u001B[49m\u001B[43m,\u001B[49m\u001B[43m \u001B[49m\u001B[38;5;241;43m*\u001B[39;49m\u001B[38;5;241;43m*\u001B[39;49m\u001B[43mkwargs\u001B[49m\u001B[43m)\u001B[49m\n",
      "File \u001B[1;32mD:\\ML-Coursework\\.venv\\Lib\\site-packages\\pandas\\core\\generic.py:12417\u001B[0m, in \u001B[0;36mNDFrame.mean\u001B[1;34m(self, axis, skipna, numeric_only, **kwargs)\u001B[0m\n\u001B[0;32m  12410\u001B[0m \u001B[38;5;28;01mdef\u001B[39;00m \u001B[38;5;21mmean\u001B[39m(\n\u001B[0;32m  12411\u001B[0m     \u001B[38;5;28mself\u001B[39m,\n\u001B[0;32m  12412\u001B[0m     axis: Axis \u001B[38;5;241m|\u001B[39m \u001B[38;5;28;01mNone\u001B[39;00m \u001B[38;5;241m=\u001B[39m \u001B[38;5;241m0\u001B[39m,\n\u001B[1;32m   (...)\u001B[0m\n\u001B[0;32m  12415\u001B[0m     \u001B[38;5;241m*\u001B[39m\u001B[38;5;241m*\u001B[39mkwargs,\n\u001B[0;32m  12416\u001B[0m ) \u001B[38;5;241m-\u001B[39m\u001B[38;5;241m>\u001B[39m Series \u001B[38;5;241m|\u001B[39m \u001B[38;5;28mfloat\u001B[39m:\n\u001B[1;32m> 12417\u001B[0m     \u001B[38;5;28;01mreturn\u001B[39;00m \u001B[38;5;28;43mself\u001B[39;49m\u001B[38;5;241;43m.\u001B[39;49m\u001B[43m_stat_function\u001B[49m\u001B[43m(\u001B[49m\n\u001B[0;32m  12418\u001B[0m \u001B[43m        \u001B[49m\u001B[38;5;124;43m\"\u001B[39;49m\u001B[38;5;124;43mmean\u001B[39;49m\u001B[38;5;124;43m\"\u001B[39;49m\u001B[43m,\u001B[49m\u001B[43m \u001B[49m\u001B[43mnanops\u001B[49m\u001B[38;5;241;43m.\u001B[39;49m\u001B[43mnanmean\u001B[49m\u001B[43m,\u001B[49m\u001B[43m \u001B[49m\u001B[43maxis\u001B[49m\u001B[43m,\u001B[49m\u001B[43m \u001B[49m\u001B[43mskipna\u001B[49m\u001B[43m,\u001B[49m\u001B[43m \u001B[49m\u001B[43mnumeric_only\u001B[49m\u001B[43m,\u001B[49m\u001B[43m \u001B[49m\u001B[38;5;241;43m*\u001B[39;49m\u001B[38;5;241;43m*\u001B[39;49m\u001B[43mkwargs\u001B[49m\n\u001B[0;32m  12419\u001B[0m \u001B[43m    \u001B[49m\u001B[43m)\u001B[49m\n",
      "File \u001B[1;32mD:\\ML-Coursework\\.venv\\Lib\\site-packages\\pandas\\core\\generic.py:12374\u001B[0m, in \u001B[0;36mNDFrame._stat_function\u001B[1;34m(self, name, func, axis, skipna, numeric_only, **kwargs)\u001B[0m\n\u001B[0;32m  12372\u001B[0m validate_bool_kwarg(skipna, \u001B[38;5;124m\"\u001B[39m\u001B[38;5;124mskipna\u001B[39m\u001B[38;5;124m\"\u001B[39m, none_allowed\u001B[38;5;241m=\u001B[39m\u001B[38;5;28;01mFalse\u001B[39;00m)\n\u001B[1;32m> 12374\u001B[0m \u001B[38;5;28;01mreturn\u001B[39;00m \u001B[38;5;28;43mself\u001B[39;49m\u001B[38;5;241;43m.\u001B[39;49m\u001B[43m_reduce\u001B[49m\u001B[43m(\u001B[49m\n\u001B[0;32m  12375\u001B[0m \u001B[43m    \u001B[49m\u001B[43mfunc\u001B[49m\u001B[43m,\u001B[49m\u001B[43m \u001B[49m\u001B[43mname\u001B[49m\u001B[38;5;241;43m=\u001B[39;49m\u001B[43mname\u001B[49m\u001B[43m,\u001B[49m\u001B[43m \u001B[49m\u001B[43maxis\u001B[49m\u001B[38;5;241;43m=\u001B[39;49m\u001B[43maxis\u001B[49m\u001B[43m,\u001B[49m\u001B[43m \u001B[49m\u001B[43mskipna\u001B[49m\u001B[38;5;241;43m=\u001B[39;49m\u001B[43mskipna\u001B[49m\u001B[43m,\u001B[49m\u001B[43m \u001B[49m\u001B[43mnumeric_only\u001B[49m\u001B[38;5;241;43m=\u001B[39;49m\u001B[43mnumeric_only\u001B[49m\n\u001B[0;32m  12376\u001B[0m \u001B[43m\u001B[49m\u001B[43m)\u001B[49m\n",
      "File \u001B[1;32mD:\\ML-Coursework\\.venv\\Lib\\site-packages\\pandas\\core\\series.py:6448\u001B[0m, in \u001B[0;36mSeries._reduce\u001B[1;34m(self, op, name, axis, skipna, numeric_only, filter_type, **kwds)\u001B[0m\n\u001B[0;32m   6444\u001B[0m     \u001B[38;5;28;01mraise\u001B[39;00m \u001B[38;5;167;01mTypeError\u001B[39;00m(\n\u001B[0;32m   6445\u001B[0m         \u001B[38;5;124mf\u001B[39m\u001B[38;5;124m\"\u001B[39m\u001B[38;5;124mSeries.\u001B[39m\u001B[38;5;132;01m{\u001B[39;00mname\u001B[38;5;132;01m}\u001B[39;00m\u001B[38;5;124m does not allow \u001B[39m\u001B[38;5;132;01m{\u001B[39;00mkwd_name\u001B[38;5;132;01m}\u001B[39;00m\u001B[38;5;124m=\u001B[39m\u001B[38;5;132;01m{\u001B[39;00mnumeric_only\u001B[38;5;132;01m}\u001B[39;00m\u001B[38;5;124m \u001B[39m\u001B[38;5;124m\"\u001B[39m\n\u001B[0;32m   6446\u001B[0m         \u001B[38;5;124m\"\u001B[39m\u001B[38;5;124mwith non-numeric dtypes.\u001B[39m\u001B[38;5;124m\"\u001B[39m\n\u001B[0;32m   6447\u001B[0m     )\n\u001B[1;32m-> 6448\u001B[0m \u001B[38;5;28;01mreturn\u001B[39;00m \u001B[43mop\u001B[49m\u001B[43m(\u001B[49m\u001B[43mdelegate\u001B[49m\u001B[43m,\u001B[49m\u001B[43m \u001B[49m\u001B[43mskipna\u001B[49m\u001B[38;5;241;43m=\u001B[39;49m\u001B[43mskipna\u001B[49m\u001B[43m,\u001B[49m\u001B[43m \u001B[49m\u001B[38;5;241;43m*\u001B[39;49m\u001B[38;5;241;43m*\u001B[39;49m\u001B[43mkwds\u001B[49m\u001B[43m)\u001B[49m\n",
      "File \u001B[1;32mD:\\ML-Coursework\\.venv\\Lib\\site-packages\\pandas\\core\\nanops.py:147\u001B[0m, in \u001B[0;36mbottleneck_switch.__call__.<locals>.f\u001B[1;34m(values, axis, skipna, **kwds)\u001B[0m\n\u001B[0;32m    146\u001B[0m \u001B[38;5;28;01melse\u001B[39;00m:\n\u001B[1;32m--> 147\u001B[0m     result \u001B[38;5;241m=\u001B[39m \u001B[43malt\u001B[49m\u001B[43m(\u001B[49m\u001B[43mvalues\u001B[49m\u001B[43m,\u001B[49m\u001B[43m \u001B[49m\u001B[43maxis\u001B[49m\u001B[38;5;241;43m=\u001B[39;49m\u001B[43maxis\u001B[49m\u001B[43m,\u001B[49m\u001B[43m \u001B[49m\u001B[43mskipna\u001B[49m\u001B[38;5;241;43m=\u001B[39;49m\u001B[43mskipna\u001B[49m\u001B[43m,\u001B[49m\u001B[43m \u001B[49m\u001B[38;5;241;43m*\u001B[39;49m\u001B[38;5;241;43m*\u001B[39;49m\u001B[43mkwds\u001B[49m\u001B[43m)\u001B[49m\n\u001B[0;32m    149\u001B[0m \u001B[38;5;28;01mreturn\u001B[39;00m result\n",
      "File \u001B[1;32mD:\\ML-Coursework\\.venv\\Lib\\site-packages\\pandas\\core\\nanops.py:404\u001B[0m, in \u001B[0;36m_datetimelike_compat.<locals>.new_func\u001B[1;34m(values, axis, skipna, mask, **kwargs)\u001B[0m\n\u001B[0;32m    402\u001B[0m     mask \u001B[38;5;241m=\u001B[39m isna(values)\n\u001B[1;32m--> 404\u001B[0m result \u001B[38;5;241m=\u001B[39m \u001B[43mfunc\u001B[49m\u001B[43m(\u001B[49m\u001B[43mvalues\u001B[49m\u001B[43m,\u001B[49m\u001B[43m \u001B[49m\u001B[43maxis\u001B[49m\u001B[38;5;241;43m=\u001B[39;49m\u001B[43maxis\u001B[49m\u001B[43m,\u001B[49m\u001B[43m \u001B[49m\u001B[43mskipna\u001B[49m\u001B[38;5;241;43m=\u001B[39;49m\u001B[43mskipna\u001B[49m\u001B[43m,\u001B[49m\u001B[43m \u001B[49m\u001B[43mmask\u001B[49m\u001B[38;5;241;43m=\u001B[39;49m\u001B[43mmask\u001B[49m\u001B[43m,\u001B[49m\u001B[43m \u001B[49m\u001B[38;5;241;43m*\u001B[39;49m\u001B[38;5;241;43m*\u001B[39;49m\u001B[43mkwargs\u001B[49m\u001B[43m)\u001B[49m\n\u001B[0;32m    406\u001B[0m \u001B[38;5;28;01mif\u001B[39;00m datetimelike:\n",
      "File \u001B[1;32mD:\\ML-Coursework\\.venv\\Lib\\site-packages\\pandas\\core\\nanops.py:720\u001B[0m, in \u001B[0;36mnanmean\u001B[1;34m(values, axis, skipna, mask)\u001B[0m\n\u001B[0;32m    719\u001B[0m the_sum \u001B[38;5;241m=\u001B[39m values\u001B[38;5;241m.\u001B[39msum(axis, dtype\u001B[38;5;241m=\u001B[39mdtype_sum)\n\u001B[1;32m--> 720\u001B[0m the_sum \u001B[38;5;241m=\u001B[39m \u001B[43m_ensure_numeric\u001B[49m\u001B[43m(\u001B[49m\u001B[43mthe_sum\u001B[49m\u001B[43m)\u001B[49m\n\u001B[0;32m    722\u001B[0m \u001B[38;5;28;01mif\u001B[39;00m axis \u001B[38;5;129;01mis\u001B[39;00m \u001B[38;5;129;01mnot\u001B[39;00m \u001B[38;5;28;01mNone\u001B[39;00m \u001B[38;5;129;01mand\u001B[39;00m \u001B[38;5;28mgetattr\u001B[39m(the_sum, \u001B[38;5;124m\"\u001B[39m\u001B[38;5;124mndim\u001B[39m\u001B[38;5;124m\"\u001B[39m, \u001B[38;5;28;01mFalse\u001B[39;00m):\n",
      "File \u001B[1;32mD:\\ML-Coursework\\.venv\\Lib\\site-packages\\pandas\\core\\nanops.py:1701\u001B[0m, in \u001B[0;36m_ensure_numeric\u001B[1;34m(x)\u001B[0m\n\u001B[0;32m   1699\u001B[0m \u001B[38;5;28;01mif\u001B[39;00m \u001B[38;5;28misinstance\u001B[39m(x, \u001B[38;5;28mstr\u001B[39m):\n\u001B[0;32m   1700\u001B[0m     \u001B[38;5;66;03m# GH#44008, GH#36703 avoid casting e.g. strings to numeric\u001B[39;00m\n\u001B[1;32m-> 1701\u001B[0m     \u001B[38;5;28;01mraise\u001B[39;00m \u001B[38;5;167;01mTypeError\u001B[39;00m(\u001B[38;5;124mf\u001B[39m\u001B[38;5;124m\"\u001B[39m\u001B[38;5;124mCould not convert string \u001B[39m\u001B[38;5;124m'\u001B[39m\u001B[38;5;132;01m{\u001B[39;00mx\u001B[38;5;132;01m}\u001B[39;00m\u001B[38;5;124m'\u001B[39m\u001B[38;5;124m to numeric\u001B[39m\u001B[38;5;124m\"\u001B[39m)\n\u001B[0;32m   1702\u001B[0m \u001B[38;5;28;01mtry\u001B[39;00m:\n",
      "\u001B[1;31mTypeError\u001B[0m: Could not convert string 'AfghanistanAlbaniaAlgeriaAngolaAntigua and BarbudaArgentinaArmeniaAustraliaAustriaAzerbaijanBahamasBangladeshBarbadosBelarusBelgiumBelizeBeninBhutanBolivia (Plurinational State of)Bosnia and HerzegovinaBotswanaBrazilBrunei DarussalamBulgariaBurkina FasoBurundiCabo VerdeCambodiaCameroonCanadaCentral African RepublicChadChileChinaChina, Hong Kong SARChina, mainlandChina, Taiwan Province ofColombiaComorosCongoCosta RicaCôte d'IvoireCroatiaCubaCyprusCzechiaDemocratic People's Republic of KoreaDemocratic Republic of the CongoDenmarkDjiboutiDominicaDominican RepublicEcuadorEgyptEl SalvadorEritreaEstoniaEswatiniEthiopiaFijiFinlandFranceFrench GuianaGabonGambiaGeorgiaGermanyGhanaGreeceGrenadaGuatemalaGuineaGuinea-BissauGuyanaHaitiHondurasHungaryIndiaIndonesiaIran (Islamic Republic of)IraqIrelandIsraelItalyJamaicaJapanJordanKazakhstanKenyaKuwaitKyrgyzstanLao People's Democratic RepublicLatviaLebanonLesothoLiberiaLibyaLithuaniaLuxembourgMadagascarMalawiMalaysiaMaldivesMaliMaltaMauritaniaMauritiusMexicoMicronesia (Federated States of)MongoliaMoroccoMozambiqueMyanmarNamibiaNepalNetherlands (Kingdom of the)New CaledoniaNew ZealandNicaraguaNigerNigeriaNorth MacedoniaNorwayOmanPakistanPalestinePanamaPapua New GuineaParaguayPeruPhilippinesPolandPortugalPuerto RicoQatarRepublic of KoreaRepublic of MoldovaRéunionRomaniaRussian FederationRwandaSaint Vincent and the GrenadinesSao Tome and PrincipeSaudi ArabiaSenegalSerbia and MontenegroSierra LeoneSlovakiaSloveniaSolomon IslandsSomaliaSouth AfricaSpainSri LankaSudan (former)SurinameSwedenSwitzerlandSyrian Arab RepublicTajikistanThailandTimor-LesteTogoTrinidad and TobagoTunisiaTürkiyeTurkmenistanUgandaUkraineUnited Arab EmiratesUnited Kingdom of Great Britain and Northern IrelandUnited Republic of TanzaniaUnited States of AmericaUruguayUzbekistanVanuatuVenezuela (Bolivarian Republic of)Viet NamYemenZambiaZimbabwe' to numeric",
      "\nThe above exception was the direct cause of the following exception:\n",
      "\u001B[1;31mTypeError\u001B[0m                                 Traceback (most recent call last)",
      "Cell \u001B[1;32mIn[440], line 2\u001B[0m\n\u001B[0;32m      1\u001B[0m \u001B[38;5;66;03m# Prepare the data for analysis\u001B[39;00m\n\u001B[1;32m----> 2\u001B[0m crop_yield_mean \u001B[38;5;241m=\u001B[39m \u001B[43mcrop_yield_df\u001B[49m\u001B[38;5;241;43m.\u001B[39;49m\u001B[43mgroupby\u001B[49m\u001B[43m(\u001B[49m\u001B[43m[\u001B[49m\u001B[38;5;124;43m\"\u001B[39;49m\u001B[38;5;124;43mHarmonised Item\u001B[39;49m\u001B[38;5;124;43m\"\u001B[39;49m\u001B[43m,\u001B[49m\u001B[38;5;124;43m\"\u001B[39;49m\u001B[38;5;124;43mYear\u001B[39;49m\u001B[38;5;124;43m\"\u001B[39;49m\u001B[43m]\u001B[49m\u001B[43m)\u001B[49m\u001B[38;5;241;43m.\u001B[39;49m\u001B[43mmean\u001B[49m\u001B[43m(\u001B[49m\u001B[43m)\u001B[49m\n\u001B[0;32m      3\u001B[0m crop_yield_mean\u001B[38;5;241m.\u001B[39mhead()\n\u001B[0;32m      5\u001B[0m \u001B[38;5;66;03m# Plot the crop yield over the years\u001B[39;00m\n",
      "File \u001B[1;32mD:\\ML-Coursework\\.venv\\Lib\\site-packages\\pandas\\core\\groupby\\groupby.py:2452\u001B[0m, in \u001B[0;36mGroupBy.mean\u001B[1;34m(self, numeric_only, engine, engine_kwargs)\u001B[0m\n\u001B[0;32m   2445\u001B[0m     \u001B[38;5;28;01mreturn\u001B[39;00m \u001B[38;5;28mself\u001B[39m\u001B[38;5;241m.\u001B[39m_numba_agg_general(\n\u001B[0;32m   2446\u001B[0m         grouped_mean,\n\u001B[0;32m   2447\u001B[0m         executor\u001B[38;5;241m.\u001B[39mfloat_dtype_mapping,\n\u001B[0;32m   2448\u001B[0m         engine_kwargs,\n\u001B[0;32m   2449\u001B[0m         min_periods\u001B[38;5;241m=\u001B[39m\u001B[38;5;241m0\u001B[39m,\n\u001B[0;32m   2450\u001B[0m     )\n\u001B[0;32m   2451\u001B[0m \u001B[38;5;28;01melse\u001B[39;00m:\n\u001B[1;32m-> 2452\u001B[0m     result \u001B[38;5;241m=\u001B[39m \u001B[38;5;28;43mself\u001B[39;49m\u001B[38;5;241;43m.\u001B[39;49m\u001B[43m_cython_agg_general\u001B[49m\u001B[43m(\u001B[49m\n\u001B[0;32m   2453\u001B[0m \u001B[43m        \u001B[49m\u001B[38;5;124;43m\"\u001B[39;49m\u001B[38;5;124;43mmean\u001B[39;49m\u001B[38;5;124;43m\"\u001B[39;49m\u001B[43m,\u001B[49m\n\u001B[0;32m   2454\u001B[0m \u001B[43m        \u001B[49m\u001B[43malt\u001B[49m\u001B[38;5;241;43m=\u001B[39;49m\u001B[38;5;28;43;01mlambda\u001B[39;49;00m\u001B[43m \u001B[49m\u001B[43mx\u001B[49m\u001B[43m:\u001B[49m\u001B[43m \u001B[49m\u001B[43mSeries\u001B[49m\u001B[43m(\u001B[49m\u001B[43mx\u001B[49m\u001B[43m,\u001B[49m\u001B[43m \u001B[49m\u001B[43mcopy\u001B[49m\u001B[38;5;241;43m=\u001B[39;49m\u001B[38;5;28;43;01mFalse\u001B[39;49;00m\u001B[43m)\u001B[49m\u001B[38;5;241;43m.\u001B[39;49m\u001B[43mmean\u001B[49m\u001B[43m(\u001B[49m\u001B[43mnumeric_only\u001B[49m\u001B[38;5;241;43m=\u001B[39;49m\u001B[43mnumeric_only\u001B[49m\u001B[43m)\u001B[49m\u001B[43m,\u001B[49m\n\u001B[0;32m   2455\u001B[0m \u001B[43m        \u001B[49m\u001B[43mnumeric_only\u001B[49m\u001B[38;5;241;43m=\u001B[39;49m\u001B[43mnumeric_only\u001B[49m\u001B[43m,\u001B[49m\n\u001B[0;32m   2456\u001B[0m \u001B[43m    \u001B[49m\u001B[43m)\u001B[49m\n\u001B[0;32m   2457\u001B[0m     \u001B[38;5;28;01mreturn\u001B[39;00m result\u001B[38;5;241m.\u001B[39m__finalize__(\u001B[38;5;28mself\u001B[39m\u001B[38;5;241m.\u001B[39mobj, method\u001B[38;5;241m=\u001B[39m\u001B[38;5;124m\"\u001B[39m\u001B[38;5;124mgroupby\u001B[39m\u001B[38;5;124m\"\u001B[39m)\n",
      "File \u001B[1;32mD:\\ML-Coursework\\.venv\\Lib\\site-packages\\pandas\\core\\groupby\\groupby.py:1998\u001B[0m, in \u001B[0;36mGroupBy._cython_agg_general\u001B[1;34m(self, how, alt, numeric_only, min_count, **kwargs)\u001B[0m\n\u001B[0;32m   1995\u001B[0m     result \u001B[38;5;241m=\u001B[39m \u001B[38;5;28mself\u001B[39m\u001B[38;5;241m.\u001B[39m_agg_py_fallback(how, values, ndim\u001B[38;5;241m=\u001B[39mdata\u001B[38;5;241m.\u001B[39mndim, alt\u001B[38;5;241m=\u001B[39malt)\n\u001B[0;32m   1996\u001B[0m     \u001B[38;5;28;01mreturn\u001B[39;00m result\n\u001B[1;32m-> 1998\u001B[0m new_mgr \u001B[38;5;241m=\u001B[39m \u001B[43mdata\u001B[49m\u001B[38;5;241;43m.\u001B[39;49m\u001B[43mgrouped_reduce\u001B[49m\u001B[43m(\u001B[49m\u001B[43marray_func\u001B[49m\u001B[43m)\u001B[49m\n\u001B[0;32m   1999\u001B[0m res \u001B[38;5;241m=\u001B[39m \u001B[38;5;28mself\u001B[39m\u001B[38;5;241m.\u001B[39m_wrap_agged_manager(new_mgr)\n\u001B[0;32m   2000\u001B[0m \u001B[38;5;28;01mif\u001B[39;00m how \u001B[38;5;129;01min\u001B[39;00m [\u001B[38;5;124m\"\u001B[39m\u001B[38;5;124midxmin\u001B[39m\u001B[38;5;124m\"\u001B[39m, \u001B[38;5;124m\"\u001B[39m\u001B[38;5;124midxmax\u001B[39m\u001B[38;5;124m\"\u001B[39m]:\n",
      "File \u001B[1;32mD:\\ML-Coursework\\.venv\\Lib\\site-packages\\pandas\\core\\internals\\managers.py:1469\u001B[0m, in \u001B[0;36mBlockManager.grouped_reduce\u001B[1;34m(self, func)\u001B[0m\n\u001B[0;32m   1465\u001B[0m \u001B[38;5;28;01mif\u001B[39;00m blk\u001B[38;5;241m.\u001B[39mis_object:\n\u001B[0;32m   1466\u001B[0m     \u001B[38;5;66;03m# split on object-dtype blocks bc some columns may raise\u001B[39;00m\n\u001B[0;32m   1467\u001B[0m     \u001B[38;5;66;03m#  while others do not.\u001B[39;00m\n\u001B[0;32m   1468\u001B[0m     \u001B[38;5;28;01mfor\u001B[39;00m sb \u001B[38;5;129;01min\u001B[39;00m blk\u001B[38;5;241m.\u001B[39m_split():\n\u001B[1;32m-> 1469\u001B[0m         applied \u001B[38;5;241m=\u001B[39m \u001B[43msb\u001B[49m\u001B[38;5;241;43m.\u001B[39;49m\u001B[43mapply\u001B[49m\u001B[43m(\u001B[49m\u001B[43mfunc\u001B[49m\u001B[43m)\u001B[49m\n\u001B[0;32m   1470\u001B[0m         result_blocks \u001B[38;5;241m=\u001B[39m extend_blocks(applied, result_blocks)\n\u001B[0;32m   1471\u001B[0m \u001B[38;5;28;01melse\u001B[39;00m:\n",
      "File \u001B[1;32mD:\\ML-Coursework\\.venv\\Lib\\site-packages\\pandas\\core\\internals\\blocks.py:393\u001B[0m, in \u001B[0;36mBlock.apply\u001B[1;34m(self, func, **kwargs)\u001B[0m\n\u001B[0;32m    387\u001B[0m \u001B[38;5;129m@final\u001B[39m\n\u001B[0;32m    388\u001B[0m \u001B[38;5;28;01mdef\u001B[39;00m \u001B[38;5;21mapply\u001B[39m(\u001B[38;5;28mself\u001B[39m, func, \u001B[38;5;241m*\u001B[39m\u001B[38;5;241m*\u001B[39mkwargs) \u001B[38;5;241m-\u001B[39m\u001B[38;5;241m>\u001B[39m \u001B[38;5;28mlist\u001B[39m[Block]:\n\u001B[0;32m    389\u001B[0m \u001B[38;5;250m    \u001B[39m\u001B[38;5;124;03m\"\"\"\u001B[39;00m\n\u001B[0;32m    390\u001B[0m \u001B[38;5;124;03m    apply the function to my values; return a block if we are not\u001B[39;00m\n\u001B[0;32m    391\u001B[0m \u001B[38;5;124;03m    one\u001B[39;00m\n\u001B[0;32m    392\u001B[0m \u001B[38;5;124;03m    \"\"\"\u001B[39;00m\n\u001B[1;32m--> 393\u001B[0m     result \u001B[38;5;241m=\u001B[39m \u001B[43mfunc\u001B[49m\u001B[43m(\u001B[49m\u001B[38;5;28;43mself\u001B[39;49m\u001B[38;5;241;43m.\u001B[39;49m\u001B[43mvalues\u001B[49m\u001B[43m,\u001B[49m\u001B[43m \u001B[49m\u001B[38;5;241;43m*\u001B[39;49m\u001B[38;5;241;43m*\u001B[39;49m\u001B[43mkwargs\u001B[49m\u001B[43m)\u001B[49m\n\u001B[0;32m    395\u001B[0m     result \u001B[38;5;241m=\u001B[39m maybe_coerce_values(result)\n\u001B[0;32m    396\u001B[0m     \u001B[38;5;28;01mreturn\u001B[39;00m \u001B[38;5;28mself\u001B[39m\u001B[38;5;241m.\u001B[39m_split_op_result(result)\n",
      "File \u001B[1;32mD:\\ML-Coursework\\.venv\\Lib\\site-packages\\pandas\\core\\groupby\\groupby.py:1995\u001B[0m, in \u001B[0;36mGroupBy._cython_agg_general.<locals>.array_func\u001B[1;34m(values)\u001B[0m\n\u001B[0;32m   1992\u001B[0m     \u001B[38;5;28;01mreturn\u001B[39;00m result\n\u001B[0;32m   1994\u001B[0m \u001B[38;5;28;01massert\u001B[39;00m alt \u001B[38;5;129;01mis\u001B[39;00m \u001B[38;5;129;01mnot\u001B[39;00m \u001B[38;5;28;01mNone\u001B[39;00m\n\u001B[1;32m-> 1995\u001B[0m result \u001B[38;5;241m=\u001B[39m \u001B[38;5;28;43mself\u001B[39;49m\u001B[38;5;241;43m.\u001B[39;49m\u001B[43m_agg_py_fallback\u001B[49m\u001B[43m(\u001B[49m\u001B[43mhow\u001B[49m\u001B[43m,\u001B[49m\u001B[43m \u001B[49m\u001B[43mvalues\u001B[49m\u001B[43m,\u001B[49m\u001B[43m \u001B[49m\u001B[43mndim\u001B[49m\u001B[38;5;241;43m=\u001B[39;49m\u001B[43mdata\u001B[49m\u001B[38;5;241;43m.\u001B[39;49m\u001B[43mndim\u001B[49m\u001B[43m,\u001B[49m\u001B[43m \u001B[49m\u001B[43malt\u001B[49m\u001B[38;5;241;43m=\u001B[39;49m\u001B[43malt\u001B[49m\u001B[43m)\u001B[49m\n\u001B[0;32m   1996\u001B[0m \u001B[38;5;28;01mreturn\u001B[39;00m result\n",
      "File \u001B[1;32mD:\\ML-Coursework\\.venv\\Lib\\site-packages\\pandas\\core\\groupby\\groupby.py:1946\u001B[0m, in \u001B[0;36mGroupBy._agg_py_fallback\u001B[1;34m(self, how, values, ndim, alt)\u001B[0m\n\u001B[0;32m   1944\u001B[0m     msg \u001B[38;5;241m=\u001B[39m \u001B[38;5;124mf\u001B[39m\u001B[38;5;124m\"\u001B[39m\u001B[38;5;124magg function failed [how->\u001B[39m\u001B[38;5;132;01m{\u001B[39;00mhow\u001B[38;5;132;01m}\u001B[39;00m\u001B[38;5;124m,dtype->\u001B[39m\u001B[38;5;132;01m{\u001B[39;00mser\u001B[38;5;241m.\u001B[39mdtype\u001B[38;5;132;01m}\u001B[39;00m\u001B[38;5;124m]\u001B[39m\u001B[38;5;124m\"\u001B[39m\n\u001B[0;32m   1945\u001B[0m     \u001B[38;5;66;03m# preserve the kind of exception that raised\u001B[39;00m\n\u001B[1;32m-> 1946\u001B[0m     \u001B[38;5;28;01mraise\u001B[39;00m \u001B[38;5;28mtype\u001B[39m(err)(msg) \u001B[38;5;28;01mfrom\u001B[39;00m \u001B[38;5;21;01merr\u001B[39;00m\n\u001B[0;32m   1948\u001B[0m \u001B[38;5;28;01mif\u001B[39;00m ser\u001B[38;5;241m.\u001B[39mdtype \u001B[38;5;241m==\u001B[39m \u001B[38;5;28mobject\u001B[39m:\n\u001B[0;32m   1949\u001B[0m     res_values \u001B[38;5;241m=\u001B[39m res_values\u001B[38;5;241m.\u001B[39mastype(\u001B[38;5;28mobject\u001B[39m, copy\u001B[38;5;241m=\u001B[39m\u001B[38;5;28;01mFalse\u001B[39;00m)\n",
      "\u001B[1;31mTypeError\u001B[0m: agg function failed [how->mean,dtype->object]"
     ]
    }
   ],
   "execution_count": 440
  }
 ],
 "metadata": {
  "kernelspec": {
   "display_name": "Python 3",
   "language": "python",
   "name": "python3"
  },
  "language_info": {
   "codemirror_mode": {
    "name": "ipython",
    "version": 2
   },
   "file_extension": ".py",
   "mimetype": "text/x-python",
   "name": "python",
   "nbconvert_exporter": "python",
   "pygments_lexer": "ipython2",
   "version": "2.7.6"
  }
 },
 "nbformat": 4,
 "nbformat_minor": 5
}
